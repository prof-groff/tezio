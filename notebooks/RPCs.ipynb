{
 "cells": [
  {
   "cell_type": "markdown",
   "id": "539d4b52",
   "metadata": {},
   "source": [
    "## Exploration of Tezos RPCs"
   ]
  },
  {
   "cell_type": "code",
   "execution_count": 1,
   "id": "5f52ebd2",
   "metadata": {},
   "outputs": [],
   "source": [
    "import requests"
   ]
  },
  {
   "cell_type": "code",
   "execution_count": 15,
   "id": "bb271135",
   "metadata": {},
   "outputs": [],
   "source": [
    "node_url = 'https://hangzhounet.smartpy.io/'"
   ]
  },
  {
   "cell_type": "code",
   "execution_count": 20,
   "id": "040315b1",
   "metadata": {},
   "outputs": [],
   "source": [
    "# these are activated on Hangzhounet\n",
    "\n",
    "accounts = {'alice': 'tz1Ume3EWome6QpkQp4kr2UWF6c5Kf1D1DGv', 'bob': 'tz1advYz1R8gtoPeESKheK62yYiDFswgsziJ'}\n",
    "account = accounts['alice']"
   ]
  },
  {
   "cell_type": "code",
   "execution_count": 33,
   "id": "67f796aa",
   "metadata": {},
   "outputs": [],
   "source": [
    "# RPCs\n",
    "account_prefix = '{node_url}/chains/main/blocks/head/context/contracts/{account}/'.format(node_url = node_url, account = account)\n",
    "balance = account_prefix + 'balance'\n",
    "counter = account_prefix + 'counter'\n",
    "manager_key = account_prefix + 'manager_key'\n",
    "\n",
    "chain_prefix = '{node_url}/chains/main/'.format(node_url = node_url)\n",
    "constants = chain_prefix + 'blocks/head/context/constants'\n",
    "hash_ = chain_prefix + 'blocks/head/hash'\n",
    "chain_id = chain_prefix + 'chain_id'\n",
    "\n",
    "bootstrapped = '{node_url}/monitor/bootstrapped'.format(node_url = node_url)"
   ]
  },
  {
   "cell_type": "code",
   "execution_count": 22,
   "id": "2f23931c",
   "metadata": {},
   "outputs": [],
   "source": [
    "def tezosRPC(RPC):\n",
    "    r = requests.get(RPC)\n",
    "    if r.status_code == 200:\n",
    "        data = r.json()\n",
    "    else: \n",
    "        print('RPC failed...')\n",
    "        data = []\n",
    "    return data"
   ]
  },
  {
   "cell_type": "code",
   "execution_count": 23,
   "id": "83842e35",
   "metadata": {},
   "outputs": [
    {
     "name": "stdout",
     "output_type": "stream",
     "text": [
      "5810038251\n"
     ]
    }
   ],
   "source": [
    "data = tezosRPC(balance)\n",
    "print(data)"
   ]
  },
  {
   "cell_type": "code",
   "execution_count": 24,
   "id": "4c1dd6f9",
   "metadata": {},
   "outputs": [
    {
     "name": "stdout",
     "output_type": "stream",
     "text": [
      "3164673\n"
     ]
    }
   ],
   "source": [
    "data = tezosRPC(counter)\n",
    "print(data)"
   ]
  },
  {
   "cell_type": "code",
   "execution_count": 25,
   "id": "1ced2427",
   "metadata": {},
   "outputs": [
    {
     "name": "stdout",
     "output_type": "stream",
     "text": [
      "None\n"
     ]
    }
   ],
   "source": [
    "data = tezosRPC(manager_key)\n",
    "print(data)"
   ]
  },
  {
   "cell_type": "code",
   "execution_count": 27,
   "id": "8b7fd859",
   "metadata": {},
   "outputs": [
    {
     "name": "stdout",
     "output_type": "stream",
     "text": [
      "{'proof_of_work_nonce_size': 8, 'nonce_length': 32, 'max_anon_ops_per_block': 132, 'max_operation_data_length': 32768, 'max_proposals_per_delegate': 20, 'max_micheline_node_count': 50000, 'max_micheline_bytes_limit': 50000, 'max_allowed_global_constants_depth': 10000, 'cache_layout': ['100000000'], 'michelson_maximum_type_size': 2001, 'preserved_cycles': 3, 'blocks_per_cycle': 4096, 'blocks_per_commitment': 32, 'blocks_per_roll_snapshot': 256, 'blocks_per_voting_period': 20480, 'time_between_blocks': ['20', '10'], 'endorsers_per_block': 256, 'hard_gas_limit_per_operation': '1040000', 'hard_gas_limit_per_block': '5200000', 'proof_of_work_threshold': '70368744177663', 'tokens_per_roll': '8000000000', 'seed_nonce_revelation_tip': '125000', 'origination_size': 257, 'block_security_deposit': '640000000', 'endorsement_security_deposit': '2500000', 'baking_reward_per_endorsement': ['78125', '11719'], 'endorsement_reward': ['78125', '52083'], 'cost_per_byte': '250', 'hard_storage_limit_per_operation': '60000', 'quorum_min': 2000, 'quorum_max': 7000, 'min_proposal_quorum': 500, 'initial_endorsers': 192, 'delay_per_missing_endorsement': '2', 'minimal_block_delay': '15', 'liquidity_baking_subsidy': '2500000', 'liquidity_baking_sunset_level': 525600, 'liquidity_baking_escape_ema_threshold': 100000}\n"
     ]
    }
   ],
   "source": [
    "data = tezosRPC(constants)\n",
    "print(data)"
   ]
  },
  {
   "cell_type": "code",
   "execution_count": 30,
   "id": "fe4dfa3b",
   "metadata": {},
   "outputs": [
    {
     "name": "stdout",
     "output_type": "stream",
     "text": [
      "BLFxHLDBAjfeKv9nz6nKVYDUwEaPPbdrXntdLYZF9i2aAaGfBTz\n"
     ]
    }
   ],
   "source": [
    "data = tezosRPC(hash_)\n",
    "print(data)"
   ]
  },
  {
   "cell_type": "code",
   "execution_count": 32,
   "id": "f8d490b3",
   "metadata": {},
   "outputs": [
    {
     "name": "stdout",
     "output_type": "stream",
     "text": [
      "NetXZSsxBpMQeAT\n"
     ]
    }
   ],
   "source": [
    "data = tezosRPC(chain_id)\n",
    "print(data)"
   ]
  },
  {
   "cell_type": "code",
   "execution_count": 34,
   "id": "6782b140",
   "metadata": {},
   "outputs": [
    {
     "name": "stdout",
     "output_type": "stream",
     "text": [
      "{'block': 'BMT69Yug3SBLhCTtWCevm9wsFMNucffx38QEFSCue4ZaLV8N62G', 'timestamp': '2022-01-28T20:04:51Z'}\n"
     ]
    }
   ],
   "source": [
    "data = tezosRPC(bootstrapped)\n",
    "print(data)"
   ]
  },
  {
   "cell_type": "code",
   "execution_count": null,
   "id": "fd0830e8",
   "metadata": {},
   "outputs": [],
   "source": []
  }
 ],
 "metadata": {
  "kernelspec": {
   "display_name": "Python 3 (ipykernel)",
   "language": "python",
   "name": "python3"
  },
  "language_info": {
   "codemirror_mode": {
    "name": "ipython",
    "version": 3
   },
   "file_extension": ".py",
   "mimetype": "text/x-python",
   "name": "python",
   "nbconvert_exporter": "python",
   "pygments_lexer": "ipython3",
   "version": "3.9.7"
  }
 },
 "nbformat": 4,
 "nbformat_minor": 5
}
