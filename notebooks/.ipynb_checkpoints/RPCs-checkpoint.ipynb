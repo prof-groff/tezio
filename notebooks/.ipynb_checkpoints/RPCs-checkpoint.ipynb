{
 "cells": [
  {
   "cell_type": "markdown",
   "id": "cf3f8e2c",
   "metadata": {},
   "source": [
    "## Exploration of Tezos RPCs"
   ]
  },
  {
   "cell_type": "code",
   "execution_count": 1,
   "id": "447a9df6",
   "metadata": {},
   "outputs": [],
   "source": [
    "import requests"
   ]
  },
  {
   "cell_type": "code",
   "execution_count": 15,
   "id": "efd22cf6",
   "metadata": {},
   "outputs": [],
   "source": [
    "node_url = 'https://hangzhounet.smartpy.io/'"
   ]
  },
  {
   "cell_type": "code",
   "execution_count": 20,
   "id": "fac959e0",
   "metadata": {},
   "outputs": [],
   "source": [
    "# these are activated on Hangzhounet\n",
    "\n",
    "accounts = {'alice': 'tz1Ume3EWome6QpkQp4kr2UWF6c5Kf1D1DGv', 'bob': 'tz1advYz1R8gtoPeESKheK62yYiDFswgsziJ'}\n",
    "account = accounts['alice']"
   ]
  },
  {
   "cell_type": "code",
   "execution_count": 21,
   "id": "d54643ca",
   "metadata": {},
   "outputs": [],
   "source": [
    "# URLs\n",
    "account_prefix = '{node_url}/chains/main/blocks/head/context/contracts/{account}/'.format(node_url = node_url, account = account)\n",
    "balance = account_prefix + 'balance'\n",
    "counter = account_prefix + 'counter'\n",
    "manager_key = account_prefix + 'manager_key'"
   ]
  },
  {
   "cell_type": "code",
   "execution_count": 22,
   "id": "acf8b123",
   "metadata": {},
   "outputs": [],
   "source": [
    "def tezosRPC(RPC):\n",
    "    r = requests.get(RPC)\n",
    "    if r.status_code == 200:\n",
    "        data = r.json()\n",
    "    else: \n",
    "        print('RPC failed...')\n",
    "        data = []\n",
    "    return data"
   ]
  },
  {
   "cell_type": "code",
   "execution_count": 23,
   "id": "ad7c4521",
   "metadata": {},
   "outputs": [
    {
     "name": "stdout",
     "output_type": "stream",
     "text": [
      "5810038251\n"
     ]
    }
   ],
   "source": [
    "data = tezosRPC(balance)\n",
    "print(data)"
   ]
  },
  {
   "cell_type": "code",
   "execution_count": null,
   "id": "b39a5fab",
   "metadata": {},
   "outputs": [],
   "source": []
  }
 ],
 "metadata": {
  "kernelspec": {
   "display_name": "Python 3 (ipykernel)",
   "language": "python",
   "name": "python3"
  },
  "language_info": {
   "codemirror_mode": {
    "name": "ipython",
    "version": 3
   },
   "file_extension": ".py",
   "mimetype": "text/x-python",
   "name": "python",
   "nbconvert_exporter": "python",
   "pygments_lexer": "ipython3",
   "version": "3.9.7"
  }
 },
 "nbformat": 4,
 "nbformat_minor": 5
}
