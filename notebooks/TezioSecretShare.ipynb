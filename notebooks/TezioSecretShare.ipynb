{
 "cells": [
  {
   "cell_type": "markdown",
   "metadata": {},
   "source": [
    "## Tezio - SecretShares\n",
    "\n"
   ]
  },
  {
   "cell_type": "code",
   "execution_count": 2,
   "metadata": {},
   "outputs": [],
   "source": [
    "phrase = 'motor jazz team food when coach reward hidden obtain faculty tornado crew toast inhale purchase conduct cube omit illness carbon ripple thank crew material'\n",
    "vocab_path = 'bip39english.txt'"
   ]
  },
  {
   "cell_type": "code",
   "execution_count": 3,
   "metadata": {},
   "outputs": [],
   "source": [
    "from tezio.SecretShares import SecretShares"
   ]
  },
  {
   "cell_type": "code",
   "execution_count": 4,
   "metadata": {},
   "outputs": [],
   "source": [
    "myShare = SecretShares(2, 3, vocab_path)"
   ]
  },
  {
   "cell_type": "code",
   "execution_count": null,
   "metadata": {},
   "outputs": [],
   "source": []
  },
  {
   "cell_type": "code",
   "execution_count": 9,
   "metadata": {},
   "outputs": [],
   "source": [
    "shares = myShare.phrase_to_shares(phrase)\n"
   ]
  },
  {
   "cell_type": "code",
   "execution_count": 10,
   "metadata": {},
   "outputs": [
    {
     "data": {
      "text/plain": [
       "{1: 'hurt problem yellow brass youth phrase tomato huge entry mandate icon phrase walnut repair uncover doll bicycle canyon local method hollow mosquito north better',\n",
       " 2: 'insect cabbage bread unfold dog cream hospital genius chalk village aunt cattle silly inner consider must inspire crush spy emotion blade sniff betray liar',\n",
       " 3: 'melt senior depart proud easy rural course gown walnut cargo omit regular talent rally horse wise fiction modify cancel track script live race better'}"
      ]
     },
     "execution_count": 10,
     "metadata": {},
     "output_type": "execute_result"
    }
   ],
   "source": [
    "shares"
   ]
  },
  {
   "cell_type": "code",
   "execution_count": 1,
   "metadata": {},
   "outputs": [],
   "source": [
    "shares = {1: 'hurt problem yellow brass youth phrase tomato huge entry mandate icon phrase walnut repair uncover doll bicycle canyon local method hollow mosquito north better',\n",
    " 2: 'insect cabbage bread unfold dog cream hospital genius chalk village aunt cattle silly inner consider must inspire crush spy emotion blade sniff betray liar',\n",
    " 3: 'melt senior depart proud easy rural course gown walnut cargo omit regular talent rally horse wise fiction modify cancel track script live race better'}"
   ]
  },
  {
   "cell_type": "code",
   "execution_count": null,
   "metadata": {},
   "outputs": [],
   "source": []
  },
  {
   "cell_type": "code",
   "execution_count": 5,
   "metadata": {},
   "outputs": [
    {
     "name": "stdout",
     "output_type": "stream",
     "text": [
      "THIS WILL DELETE ALL STORED SECRETS. DO YOU WISH TO CONTINUE (Y OR N)? Y\n",
      "THIS WILL DELETE ALL STORED SHARES. DO YOU WISH TO CONTINUE (Y OR N)? Y\n"
     ]
    },
    {
     "data": {
      "text/plain": [
       "True"
      ]
     },
     "execution_count": 5,
     "metadata": {},
     "output_type": "execute_result"
    }
   ],
   "source": [
    "myShare.clear_secrets()\n",
    "myShare.clear_shares()"
   ]
  },
  {
   "cell_type": "code",
   "execution_count": 6,
   "metadata": {},
   "outputs": [
    {
     "data": {
      "text/plain": [
       "{1: 'hurt problem yellow brass youth phrase tomato huge entry mandate icon phrase walnut repair uncover doll bicycle canyon local method hollow mosquito north better',\n",
       " 2: 'insect cabbage bread unfold dog cream hospital genius chalk village aunt cattle silly inner consider must inspire crush spy emotion blade sniff betray liar'}"
      ]
     },
     "execution_count": 6,
     "metadata": {},
     "output_type": "execute_result"
    }
   ],
   "source": [
    "myShare.add_share(1, shares[1])\n",
    "myShare.add_share(2, shares[2])"
   ]
  },
  {
   "cell_type": "code",
   "execution_count": 7,
   "metadata": {},
   "outputs": [
    {
     "data": {
      "text/plain": [
       "'motor jazz team food when coach reward hidden obtain faculty tornado crew toast inhale purchase conduct cube omit illness carbon ripple thank crew material'"
      ]
     },
     "execution_count": 7,
     "metadata": {},
     "output_type": "execute_result"
    }
   ],
   "source": [
    "myShare.shares_to_secret()"
   ]
  },
  {
   "cell_type": "code",
   "execution_count": null,
   "metadata": {},
   "outputs": [],
   "source": [
    "import hashlib as hl\n",
    "from ctypes import * # c type uint8_t makes the finite field arithmatic easier to implement\n",
    "import secrets\n",
    "\n",
    "class TezioSecretShare():\n",
    "    \n",
    "    def __init__(self, k, n, file):\n",
    "        # k - threshold, the number of shares required to recover the secret\n",
    "        # n - the number of shares\n",
    "        # file - path to file containing the mnemonic vocab\n",
    "        self.k = k\n",
    "        self.n = n\n",
    "        assert self.k <= self.n, 'SECRET RECOVERY REQUIRES MORE SHARES THAN THE THRESHOLD'\n",
    "        self.file = file\n",
    "        f = open(self.file, 'r')\n",
    "        self.vocab = [line.strip('\\n') for line in f]\n",
    "        f.close()\n",
    "        \n",
    "        # make lookup table for multiplicitive inverses with BRUTE FORCE!!! (there are only 256 elements in the field)\n",
    "        self.mult_inverses = []\n",
    "        for a in range(256):\n",
    "            for b in range (256):\n",
    "                if (self.__gf_mult(a,b)==1):\n",
    "                    self.mult_inverses.append(b)\n",
    "                    break\n",
    "        \n",
    "        self.secret_phrase = None\n",
    "        self.secret_entropy = None \n",
    "        \n",
    "        self.shares_phrase = {}\n",
    "        self.shares_entropy = []\n",
    "        \n",
    "        \n",
    "    def __repr__(self):\n",
    "        print('Instance of TezioSecretShare\\n')\n",
    "        print('Number of shares:', self.n)\n",
    "        print('Shares needed for recovery of secret:', self.k)\n",
    "        print('Vocabulary used:', self.file, '\\n')\n",
    "        print('Secret mnemonic phrase:')\n",
    "        print(self.secret_phrase, '\\n')\n",
    "        print('Secret entropy:')\n",
    "        print(self.secret_entropy.hex(), '\\n')\n",
    "        print('Share mnemonic phrases:')\n",
    "        print(self.shares_phrase, '\\n')\n",
    "        print('Share entropy values:')\n",
    "        print(self.shares_entropy, '\\n')\n",
    "        return 'TezioSecretShare'\n",
    "    \n",
    "    # recover the index of a word in the vocabulary\n",
    "    def __word_to_index(self, word): \n",
    "        return self.vocab.index(word)\n",
    "    \n",
    "    # recover indeces of all words in a mnemonic phrase from the vocabulary\n",
    "    def __phrase_to_indeces(self, phrase): \n",
    "        words = phrase.split(' ')\n",
    "        indeces = []\n",
    "        for word in words:\n",
    "            indeces.append(self.__word_to_index(word))\n",
    "        return indeces\n",
    "    \n",
    "    # convert a base 10 index to an array of 11 binary bits, msb first\n",
    "    def __index_to_bits(self, index): \n",
    "        bits = [0]*11\n",
    "        for i in range(11):\n",
    "            if (index//(2**(10-i))):\n",
    "                bits[i] = 1\n",
    "                index = index%(2**(10-i))\n",
    "        return bits\n",
    "    \n",
    "    # convert an array of base 10 indeces to an array of binary bits\n",
    "    def __indeces_to_bits(self, indeces): \n",
    "        bits = []\n",
    "        for index in indeces:\n",
    "            bits += self.__index_to_bits(index)\n",
    "        return bits\n",
    "    \n",
    "    # convert a mnemonic phrase to an array of binary bits\n",
    "    def __phrase_to_bits(self, phrase): \n",
    "        return self.__indeces_to_bits(self.__phrase_to_indeces(phrase))\n",
    "    \n",
    "    # convert an array of bits to a mnemonic phrase\n",
    "    def __bits_to_phrase(self, bits):\n",
    "        # iterate through bits with 11 bit chunks\n",
    "        words = []\n",
    "        for k in range(0,int(len(bits)/11)):\n",
    "            chunk = bits[k*11:k*11+11]\n",
    "            index = 0\n",
    "            for j in range(11):\n",
    "                index += chunk[j]*2**(11-1-j)\n",
    "            words.append(self.vocab[index])\n",
    "        phrase = ' '.join(words)\n",
    "        return phrase\n",
    "    \n",
    "    # convert an array of binary bits to an array of bytes\n",
    "    def __bits_to_bytes(self, bits): \n",
    "        _bytes = []\n",
    "        n_bytes = len(bits)//8\n",
    "        for i in range(n_bytes):\n",
    "            octet = bits[i*8:i*8+8]\n",
    "            _byte = 0\n",
    "            for i in range(8):\n",
    "                if octet[i] == 1:\n",
    "                    _byte += (1 << 7-i)\n",
    "            _bytes += [_byte]\n",
    "        return _bytes\n",
    "    \n",
    "    # convert an array of bytes to an array of bits\n",
    "    def __bytes_to_bits(self, _bytes):\n",
    "        bits = []\n",
    "        for byte in _bytes:\n",
    "            for i in range(8):\n",
    "                if (byte & 0b10000000 >> i):\n",
    "                    bits.append(1)\n",
    "                else:\n",
    "                    bits.append(0)\n",
    "        return bits\n",
    "    \n",
    "    # convert a mnemonic phrase to an array of bytes\n",
    "    def __phrase_to_bytes(self, phrase): \n",
    "        return self.__bits_to_bytes(self.__phrase_to_bits(phrase))\n",
    "    \n",
    "     # calculate a checksum byte for a bytearray\n",
    "    def __sha256_checksum(self, _bytes):\n",
    "        h = hl.sha256()\n",
    "        h.update(_bytes)\n",
    "        return h.digest()[0]\n",
    "    \n",
    "    # calculate and append a checksum_byte to the end of a byte array\n",
    "    def __append_checksum_byte(self, _bytes):\n",
    "        _bytes.append(self.__sha256_checksum(_bytes))\n",
    "        return _bytes\n",
    "    \n",
    "    # s sha256 checksum byte is appended to the end of entropy before parsing into a menmonic phrase\n",
    "    def __check_discard_csbyte(self, _bytes): \n",
    "        cs = _bytes[-1] \n",
    "        e = bytes(_bytes[0:-1])\n",
    "        assert self.__sha256_checksum(e) == cs, 'UNEXPECTED CHECKSUM BYTE'\n",
    "        return e\n",
    "    \n",
    "    # function for performing finite field arithmatics in GF(2^8)\n",
    "    \n",
    "    # for GF(2^m) fields, addition and subtraction are equivalent and are bitwise XOR operations\n",
    "    def __gf_add_sub(self, a: c_ubyte, b: c_ubyte) -> c_ubyte: # c_ubyte is like c++ uint8_t\n",
    "        return a ^ b\n",
    "    \n",
    "    # multipy two numbers in the GF(2^8) using the Russian Pessant Multiplication algorithm \n",
    "    # an alternative would be to use carry-less multiplication followed by modular reduction (modulo an irreducible polynomial)\n",
    "    def __gf_mult(self, a: c_ubyte, b: c_ubyte) -> c_ubyte: # private\n",
    "        p: c_ubyte = 0 # the result\n",
    "        while (a and b):\n",
    "            if (b & 1):\n",
    "                p = p ^ a\n",
    "            if (a & 0x80):\n",
    "                a = (a << 1) ^ 0x11b # irreducible polynomical used for modular reduction is x^8 + x^4 + x^3 + x + 1\n",
    "            else:\n",
    "                a = a << 1\n",
    "            b = b >> 1\n",
    "        return p\n",
    "    \n",
    "    # here division is accomplished by multiplicative inverses found via brute force\n",
    "    def __gf_div(self, a: c_ubyte, b: c_ubyte) -> c_ubyte: # private\n",
    "        return self.__gf_mult(a,self.mult_inverses[b-1]) # no entry for zero because division by zero is undefined\n",
    "    \n",
    "    # functions for permforming Shamir's Secret Sharing with the secret as the y intercept (x=0) of a polynomial\n",
    "    \n",
    "    # evaluate a polynomial in the finite field at a specified location \n",
    "    def _eval_poly(self, poly, x):\n",
    "        # polynomial defined by coefficients in poly\n",
    "        value = 0\n",
    "        for coeff in reversed(poly):\n",
    "            value = self.__gf_mult(value, x)\n",
    "            value = self.__gf_add_sub(value, coeff)\n",
    "        return value\n",
    "    \n",
    "    # generates random Shamir shares for one byte of the secret\n",
    "    def __make_random_shares(self, secret_byte):\n",
    "        assert self.k <= self.n, 'SECRET RECOVERY REQUIRES MORE SHARES THAN THE THRESHOLD'\n",
    "        poly = [secret_byte] + [secrets.SystemRandom().randint(1,255) for i in range(self.k - 1)] # don't allow any coefficients to be zero\n",
    "        self.shares_entropy= [(i, self._eval_poly(poly, i)) for i in range(1, self.n + 1)]\n",
    "        return self.shares_entropy\n",
    "    \n",
    "    # calculate the product of a list of values\n",
    "    def __product(self, values):\n",
    "        product = 1\n",
    "        for term in values:\n",
    "            product = self.__gf_mult(product, term)\n",
    "        return product\n",
    "    \n",
    "    # find the y-value at x = 0, given n (x, y) points using langrange interpolating polynomials\n",
    "    def __lagrange_interp(self, xs, ys):\n",
    "        assert len(set(xs)) == self.k, 'RECOVERY REQUIRES THAT ALL SHARE POINTS BE DISTINCT'\n",
    "        numerators = []  # avoid inexact division\n",
    "        denominators = []\n",
    "        for i in range(self.k):\n",
    "            not_xs_i = list(xs)\n",
    "            xs_i = not_xs_i.pop(i)\n",
    "            numerators.append(self.__product(not_xs_i))\n",
    "            denominators.append(self.__product(self.__gf_add_sub(xs_i,o) for o in not_xs_i))\n",
    "        cden = self.__product(denominators) # cumulative denominator\n",
    "    \n",
    "        cnum = 0 # cumulative numerator\n",
    "        for i in range(self.k):\n",
    "            cnum = self.__gf_add_sub(cnum, self.__gf_div(self.__gf_mult(self.__gf_mult(numerators[i], cden), ys[i]), denominators[i]))\n",
    "   \n",
    "        return self.__gf_div(cnum, cden)\n",
    "    \n",
    "    # recover the secret from share points (x, y points on the polynomial).\n",
    "    def __recover_secret(self, shares_onebyte):\n",
    "        assert len(shares_onebyte) >= self.k, 'INSUFFICIENT SHARES TO RECOVER SECRET'\n",
    "        xs, ys = zip(*shares_onebyte)\n",
    "        return self.__lagrange_interp(xs, ys)\n",
    "    \n",
    "    # convert 32 bytes of entropy into a 24 word mnemonic phrase\n",
    "    def __entropy_to_phrase(self, entropy):\n",
    "        _bytes = self.__append_checksum_byte(bytearray(entropy)) # add checksum byte\n",
    "        bits = self.__bytes_to_bits(_bytes)\n",
    "        phrase = self.__bits_to_phrase(bits)\n",
    "        return phrase\n",
    "    \n",
    "    # convert a 24 word mnemonic secret phrase to the underlying 32 bytes of secret entropy\n",
    "    def __phrase_to_entropy(self, phrase):\n",
    "        self.secret_phrase = phrase\n",
    "        self.secret_entropy = self.__check_discard_csbyte(self.__phrase_to_bytes(phrase))\n",
    "        return self.secret_entropy\n",
    "    \n",
    "    def __entropy_to_shares(self):\n",
    "        assert len(self.shares_entropy) == 0, 'A SECRET IS ALREADY STORED; USE .clear_secrets() TO PROCEED'\n",
    "        for i in range(len(self.secret_entropy)):\n",
    "            self.shares_entropy += [self.__make_random_shares(self.secret_entropy[i])]\n",
    "            \n",
    "        shares_entropy_unpacked = []\n",
    "        for i in range(self.n):\n",
    "            shares_entropy_unpacked += [[row[i][1] for row in self.shares_entropy]]  \n",
    "            \n",
    "        for i in range(self.n):\n",
    "            _bytes = self.__append_checksum_byte(bytearray(shares_entropy_unpacked[i]))\n",
    "            self.shares_phrase[i+1] = self.__bits_to_phrase(self.__bytes_to_bits(_bytes))\n",
    "            \n",
    "        return self.shares_phrase\n",
    "    \n",
    "        \n",
    "\n",
    "    # PUBLIC\n",
    "    def phrase_to_shares(self, phrase):\n",
    "        self.secret_phrase = phrase\n",
    "        self.__phrase_to_entropy(phrase)\n",
    "        self.__entropy_to_shares()\n",
    "        return self.shares_phrase\n",
    "    \n",
    "    \n",
    "    def phrase_to_entropy(self, phrase):\n",
    "        self.secret_phrase = phrase\n",
    "        self.secret_entropy = self.__check_discard_csbyte(self.__phrase_to_bytes(phrase))\n",
    "        return self.secret_entropy\n",
    "    \n",
    "    def entropy_to_shares(self):\n",
    "        assert len(self.shares_entropy) == 0, 'A SECRET IS ALREADY STORED; USE .clear_secrets() TO PROCEED'\n",
    "        for i in range(len(self.secret_entropy)):\n",
    "            self.shares_entropy += [self.__make_random_shares(self.secret_entropy[i])]\n",
    "            \n",
    "        shares_entropy_unpacked = []\n",
    "        for i in range(self.n):\n",
    "            shares_entropy_unpacked += [[row[i][1] for row in self.shares_entropy]]  \n",
    "            \n",
    "        for i in range(self.n):\n",
    "            _bytes = self.__append_checksum_byte(bytearray(shares_entropy_unpacked[i]))\n",
    "            self.shares_phrase[i+1] = self.__bits_to_phrase(self.__bytes_to_bits(_bytes))\n",
    "            \n",
    "        return self.shares_phrase\n",
    "    \n",
    "    def shares_to_secret(self):\n",
    "        assert len(self.shares_phrase) >= self.k, 'INSUFFICIENT SHARES TO RECOVER SECRET'\n",
    "        assert self.secret_entropy is None, 'A SECRET IS ALREADY STORED; USE .clear_secrets() TO PROCEED'\n",
    "        assert self.secret_phrase is None, 'A SECRET IS ALREADY STORED; USE .clear_secrets() TO PROCEED'\n",
    "        \n",
    "        # shares_phrase to shares_entropy\n",
    "        shares_entropy_unpacked = []\n",
    "        shares_xs = []\n",
    "        # for i in range(len(self.shares_phrase)):\n",
    "        for xs, share in self.shares_phrase.items():\n",
    "            \n",
    "            share_phrase = share\n",
    "            shares_entropy_unpacked += [list(self.__check_discard_csbyte(self.__phrase_to_bytes(share_phrase)))]\n",
    "            shares_xs += [xs]\n",
    "        \n",
    "        self.shares_entropy = [] # ensure shares_entropy is empty\n",
    "        nbytes = len(shares_entropy_unpacked[0])\n",
    "        nshares = len(shares_entropy_unpacked)\n",
    "        for i in range(nbytes):\n",
    "            self.shares_entropy += [[(shares_xs[j], shares_entropy_unpacked[j][i]) for j in range(nshares)]]\n",
    "        \n",
    "        \n",
    "        temp_secret = []\n",
    "        for shares_onebyte in self.shares_entropy:\n",
    "            temp_secret.append(self.__recover_secret(shares_onebyte))\n",
    "            \n",
    "        self.secret_entropy = temp_secret\n",
    "        self.secret_phrase = self.__entropy_to_phrase(self.secret_entropy)\n",
    "        \n",
    "        return self.secret_phrase\n",
    "    \n",
    "    def add_share(self, index, share):\n",
    "        self.shares_phrase[index] = share\n",
    "        return self.shares_phrase\n",
    "    \n",
    "    def clear_shares(self):\n",
    "        self.shares_phrase = {}\n",
    "        self.shares_entropy = []\n",
    "        return 1\n",
    "    \n",
    "    def clear_secrets(self):\n",
    "        self.secret_phrase = None\n",
    "        self.secret_entropy = None\n",
    "        return 1\n",
    "\n"
   ]
  },
  {
   "cell_type": "code",
   "execution_count": null,
   "metadata": {},
   "outputs": [],
   "source": []
  },
  {
   "cell_type": "code",
   "execution_count": null,
   "metadata": {},
   "outputs": [],
   "source": []
  },
  {
   "cell_type": "code",
   "execution_count": null,
   "metadata": {},
   "outputs": [],
   "source": []
  },
  {
   "cell_type": "code",
   "execution_count": null,
   "metadata": {},
   "outputs": [],
   "source": [
    "myShare"
   ]
  },
  {
   "cell_type": "code",
   "execution_count": null,
   "metadata": {
    "scrolled": true
   },
   "outputs": [],
   "source": [
    "shares = myShare.entropy_to_shares()"
   ]
  },
  {
   "cell_type": "code",
   "execution_count": null,
   "metadata": {},
   "outputs": [],
   "source": [
    "shares"
   ]
  },
  {
   "cell_type": "code",
   "execution_count": null,
   "metadata": {},
   "outputs": [],
   "source": [
    "myShare.clear_shares()\n",
    "myShare.clear_secrets()\n",
    "\n"
   ]
  },
  {
   "cell_type": "code",
   "execution_count": null,
   "metadata": {},
   "outputs": [],
   "source": [
    "myShare.add_share(3, shares[3])\n",
    "\n"
   ]
  },
  {
   "cell_type": "code",
   "execution_count": null,
   "metadata": {},
   "outputs": [],
   "source": [
    "myShare.shares_phrase"
   ]
  },
  {
   "cell_type": "code",
   "execution_count": null,
   "metadata": {},
   "outputs": [],
   "source": [
    "myShare.shares_to_secret()"
   ]
  },
  {
   "cell_type": "code",
   "execution_count": null,
   "metadata": {},
   "outputs": [],
   "source": [
    "myShare.add_share(1, shares[1])"
   ]
  },
  {
   "cell_type": "code",
   "execution_count": null,
   "metadata": {},
   "outputs": [],
   "source": [
    "myShare.shares_to_secret()"
   ]
  },
  {
   "cell_type": "code",
   "execution_count": null,
   "metadata": {},
   "outputs": [],
   "source": []
  },
  {
   "cell_type": "code",
   "execution_count": null,
   "metadata": {},
   "outputs": [],
   "source": []
  },
  {
   "cell_type": "code",
   "execution_count": null,
   "metadata": {},
   "outputs": [],
   "source": []
  },
  {
   "cell_type": "code",
   "execution_count": null,
   "metadata": {},
   "outputs": [],
   "source": []
  }
 ],
 "metadata": {
  "kernelspec": {
   "display_name": "Python 3",
   "language": "python",
   "name": "python3"
  },
  "language_info": {
   "codemirror_mode": {
    "name": "ipython",
    "version": 3
   },
   "file_extension": ".py",
   "mimetype": "text/x-python",
   "name": "python",
   "nbconvert_exporter": "python",
   "pygments_lexer": "ipython3",
   "version": "3.8.10"
  }
 },
 "nbformat": 4,
 "nbformat_minor": 4
}
