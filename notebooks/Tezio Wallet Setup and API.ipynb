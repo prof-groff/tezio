{
 "cells": [
  {
   "cell_type": "markdown",
   "metadata": {},
   "source": [
    "## Tezio Wallet\n",
    "\n",
    "Welcome to Tezio Wallet, an Arduino-based hardware wallet for the Tezos blockchain. Tezio Wallet is compatible with the Arduino MKR WiFi 1010 and the Arduino Nano 33 IoT, both of which include a cryptographic coprocessor to securely store keys and perform certain crytpographic functions. \n",
    "\n",
    "###  Installation\n",
    "\n",
    "Install the Arduino IDE. Download and move the `TezioWallet` folder to your Arduino libraries folder, which is usually `My Documents\\Arduino\\libraries` on Windows or `Documents\\Arduino\\libraries` on macOS. Open the Arduino IDE and install the following dependencies using `Tools > Manage Libraries...`.\n",
    "\n",
    "- ArduinoECCX08\n",
    "- Crypto\n",
    "- micro-ecc\n",
    "\n",
    "### Usage\n",
    "\n",
    "#### Setup\n",
    "\n",
    "Running Tezio Wallet on your Arduino device requires that the device first be configured, provisioned, and locked. This is done using the `Tezio_Wallet_Setup.ino` sketch. The sketch runs an interactive setup process using the Arduino IDE's Serial Monitor to share data with the user and get user inputs. The process begins by loading default configuration data onto the Arduino's cryptographic coprocessor. Once the configuration data is written to the device, the user has the option to lock the cofiguration zone. This must be done before the device can be used. Note that the default configuration data stored in the `configuration.h` file is set up to enable current functionality but also to allow for possible future functionality such as encrypted writes to certain slots of the cryptochip's data zone. After the device is configured, the sketch proceeds to derive HD wallet cryptographic keys from a user supplied mnemonic phrase specifice in the `secrets.h` file, or if a mnemonic phrase isn't provided the sketch proceeds to derive a new 24 word phrase using entropy provided by the cryptochip's true random number generator. Mnemonic and key derivation are carried out using specifications outlined in the BIP-0039, BIP-0032, BIP-0044, SLIP-0044, and SLIP-0010. Secret keys are derived for all three elliptic curves supported by the Tezos blockchain: Ed25519, Secp256k1, and NIST P256 (Secp256r1). The keys are written to the Arduino's cryptochip. A user supplied read/write key is also written to the device. The read/write key will allow the user to perform encrypted reads and writes to certain data slots of the device after it is locked. After keys are written, the user is given the option to lock the cryptochip's data zone. After the data zone is locked, clear writes of cryptographic secrets will no longer be supported. The device must be locked before use. \n",
    "\n",
    "#### API\n",
    "\n",
    "After the device is setup, provisioned, and locked, upload the `Tezio_Wallet_API.ino` sketch. The sketch can be run in debug (interactive) mode using the Arduino IDE's serial monitor. However, setting the debug flag to false puts the device into listening mode. It can then be connected via USB to any host machine and recieve and send data via serial. The API sketch invokes the TezioHSM_API class to expose certain cryptographic tools to the host device. Importantly, private (secret) keys never leave the device. In fact, the cryptochip implements hardware support for cryptographic functions using the NIST P256 curve so the NIST P256 secret key never leaves the cryptochip's secure element. This hardware support also means that cryptographic functions involving the NIST P256 curve are much faster than those of the other supported curves. Below are details about the structure of data packets sent and received using the API. This if followed by example interactions with a Tezio Wallet using python. "
   ]
  },
  {
   "cell_type": "markdown",
   "metadata": {},
   "source": [
    "### Packet Structure\n",
    "\n",
    "#### To Wallet\n",
    "\n",
    "Packets of bytes sent to the hardware wallet have four parts, one prefix byte, two length byte (LSB first), one or more body bytes, and two checksum bytes.\n",
    "\n",
    "`packet = prefix (1 byte) + length (2 byte) + body (1 or more bytes) + checksum (2 bytes)`\n",
    "\n",
    "The body is composed of an operation code (opCode), parameters, and data. \n",
    "\n",
    "`body = opCode (1 byte) + param1 (1 byte) + param2 (1 byte) + param3 (2 bytes) + data (1 or more bytes)`\n",
    "\n",
    "A call may not require all parameters but if data is part of the body then values for all parameters must also be included. Parameter 3 is represented in code as a 16-bit variable but is always sent as two bytes with the LSB first. Packets are constructed as follows. First the body is constructed. The length bytes are the length of the body plus 3 to count both the length byte itself and the checksum bytes. The crc16 checksum is then computed for the length and body bytes. The checksum is appended LSB first. The prefix, which serves as a listening byte for the hardware wallet, is always 0x03. \n",
    "\n",
    "#### From Wallet\n",
    "\n",
    "Packets of bytes received from the hardware wallet are similar but do not include a prefix since the host does not need to listen but simply waits for a reply to be sent. The body of the reply depends on the operation being executed. "
   ]
  },
  {
   "cell_type": "markdown",
   "metadata": {},
   "source": [
    "### Example Tezio Wallet Interactions using Python\n",
    "\n",
    "At the time of writing, the Tezio Wallet API implements the following three operations:\n",
    "- op_get_pk: Query the wallet for a public key corresonding to one of the secret private keys stored on the cryptochip. The public key returned can be raw bytes, compressed, base58 encoded, or as a Tezos public key hash (address). \n",
    "- op_sign: Send a message to the wallet for signing. The message can be raw bytes or pre-hashed by the host maching. The signature returned can be raw bytes or base58 encoded.\n",
    "- op_verify: Send a message and signature to the wallet for signature verification. The message can be raw bytes or pre-hashed and the signature can be raw bytes or base58 encoded. \n",
    "\n",
    "Each of these operations is demonstrated below."
   ]
  },
  {
   "cell_type": "code",
   "execution_count": 1,
   "metadata": {},
   "outputs": [],
   "source": [
    "# import some useful python tools\n",
    "import serial\n",
    "import serial.tools.list_ports\n",
    "from time import sleep"
   ]
  },
  {
   "cell_type": "code",
   "execution_count": 2,
   "metadata": {},
   "outputs": [],
   "source": [
    "# some useful functions for interacting with the wallet\n",
    "def crc16(_data: bytes, reg: int = 0x0000, poly: int = 0x8005) -> int:\n",
    "    if (_data == None):\n",
    "        return 0\n",
    "    \n",
    "    for octet in _data:\n",
    "        for i in range(8):\n",
    "            msb = reg & 0x8000\n",
    "            if octet & (0x80 >> i):\n",
    "                msb ^= 0x8000\n",
    "            reg <<= 1\n",
    "            if msb:\n",
    "                reg ^= poly\n",
    "        reg &= 0xFFFF\n",
    "    \n",
    "    return reg\n",
    "\n",
    "def buildPacket(prefix: bytes, opCode: bytes, param1: bytes = None, param2: bytes = None, param3: int = None, data: bytearray = None) -> bytearray: \n",
    "    \n",
    "    packetLength = 5; # minimum length is one length byte, one opCode byte, and two checksum bytes\n",
    "    body = [opCode]\n",
    "    \n",
    "    if (param1 is not None):\n",
    "        packetLength+=1\n",
    "        body+=[param1]\n",
    "    if (param2 is not None):\n",
    "        packetLength+=1\n",
    "        body+=[param2]\n",
    "    if (param3 is not None):\n",
    "        packetLength+=2 # int will be represented as two bytes with LSB first\n",
    "        body+=[param3 & 0xFF, param3 >> 8]\n",
    "    if (data is not None):\n",
    "        packetLength+=len(data)\n",
    "        body+=data\n",
    "        \n",
    "    body = [packetLength & 0xFF, packetLength >> 8] + body\n",
    "    \n",
    "    checkSum = crc16(body)\n",
    "    \n",
    "    packet = bytearray([prefix] + body + [checkSum & 0xFF, checkSum >> 8])\n",
    "    \n",
    "    return packet \n",
    "\n",
    "\n",
    "def findArduinoPort() -> str:\n",
    "    ports = serial.tools.list_ports.comports()\n",
    "    com = None\n",
    "    for each in ports:\n",
    "        port = str(each)\n",
    "        if 'Arduino' in port:\n",
    "            com = port.split(' ')[0]\n",
    "    return com\n",
    "\n",
    "def openSerial(com: str, baud: int = 57600) -> serial.Serial:\n",
    "    ser = serial.Serial(com, baud)\n",
    "    if (not ser.is_open):\n",
    "        return None\n",
    "    return ser\n",
    "\n",
    "def sendPacket(ser: serial.Serial, packet: bytearray) -> int:\n",
    "    if (ser.write(packet) == 0):\n",
    "        return 0\n",
    "    return 1\n",
    "\n",
    "def getReply(ser: serial.Serial) -> bytearray:\n",
    "    response = bytearray([])\n",
    "    retries = 500\n",
    "    for each in range(retries):\n",
    "        if ser.in_waiting > 0:\n",
    "            break\n",
    "        else:\n",
    "            sleep(0.02)\n",
    "    if (ser.in_waiting == 0):\n",
    "        return None\n",
    "    else:\n",
    "        while (ser.in_waiting > 0):\n",
    "            response += ser.read()\n",
    "        return response\n",
    "\n",
    "def closeSerial(ser: serial.Serial) -> int:\n",
    "    ser.close()\n",
    "    return 1\n",
    "\n",
    "def validateReply(reply: bytearray) -> int:\n",
    "    \n",
    "    checkSum = crc16(reply[:-2]) # last two bytes are checksum\n",
    "    if (checkSum & 0xFF == reply[-2] and checkSum >> 8 == reply[-1] and reply[0] == len(reply)):\n",
    "        return 1\n",
    "    else:\n",
    "        return 0\n",
    "    \n",
    "def parseReply(reply: bytearray) -> bytearray:\n",
    "    if (validateReply(reply) == 0):\n",
    "        return 0\n",
    "    else:\n",
    "        return reply[2:-2] # chop off the length bytes and the two checksum bytes\n",
    "    \n",
    "def queryWallet(packet: bytearray) -> bytearray:  \n",
    "    com = findArduinoPort()\n",
    "    if (com is None):\n",
    "        return 0\n",
    "    ser = openSerial(com)\n",
    "    if (ser is None):\n",
    "        return 0\n",
    "    if (sendPacket(ser, packet) == 0):\n",
    "        return 0\n",
    "    sleep(0.02) # short wait\n",
    "    response = getReply(ser)\n",
    "    if (response is None):\n",
    "        return 0\n",
    "    else:\n",
    "        return response"
   ]
  },
  {
   "cell_type": "markdown",
   "metadata": {},
   "source": [
    "### Get Public Key Operation (op_get_pk)\n",
    "\n",
    "| Packet Vars | Value |\n",
    "|-------------|-------| \n",
    "| opCode      | 0x11  |\n",
    "| param1      | curve |\n",
    "| param2      | mode  |\n",
    "| param3      | -     |\n",
    "| data        | -     |\n"
   ]
  },
  {
   "cell_type": "markdown",
   "metadata": {},
   "source": [
    "| curve | ECC curve |\n",
    "|-------|-----------|\n",
    "| 0x01  | Ed25519   |\n",
    "| 0x02  | Secp256k1 |\n",
    "| 0x03  | NIST P256 |"
   ]
  },
  {
   "cell_type": "markdown",
   "metadata": {},
   "source": [
    "| mode | Public Key Format           |\n",
    "|------|-----------------------------|\n",
    "| 0x01 | Raw (32 or 64 bytes)        |\n",
    "| 0x02 | Compressed (32 or 33 bytes) |\n",
    "| 0x03 | Base58 Checksum Encoded     |\n",
    "| 0x04 | Hashed (Tezos Address)      |"
   ]
  },
  {
   "cell_type": "code",
   "execution_count": 3,
   "metadata": {},
   "outputs": [
    {
     "name": "stdout",
     "output_type": "stream",
     "text": [
      "Packet to be sent...\n",
      "030700110302300a\n",
      "\n",
      "Raw reply bytes...\n",
      "250003105a7d89a3f6c5b3691dd055944556c9858041f86da391b01c8389115b5209f6e1fc\n",
      "\n",
      "Compressed key from the body of the reply...\n",
      "03105a7d89a3f6c5b3691dd055944556c9858041f86da391b01c8389115b5209f6\n"
     ]
    }
   ],
   "source": [
    "# retrieve the public key for curve NIST P256 in compressed format\n",
    "opCode = 0x11\n",
    "param1 = 0x03 \n",
    "param2 = 0x02\n",
    "packet = buildPacket(0x03, opCode, param1, param2);\n",
    "print('Packet to be sent...')\n",
    "print(packet.hex())\n",
    "print()\n",
    "\n",
    "reply = queryWallet(packet)\n",
    "print('Raw reply bytes...')\n",
    "print(reply.hex())\n",
    "print()\n",
    "\n",
    "key = parseReply(reply)\n",
    "print('Compressed key from the body of the reply...')\n",
    "print(key.hex())"
   ]
  },
  {
   "cell_type": "code",
   "execution_count": 4,
   "metadata": {},
   "outputs": [
    {
     "name": "stdout",
     "output_type": "stream",
     "text": [
      "Packet to be sent...\n",
      "0307001101042786\n",
      "\n",
      "Raw reply bytes...\n",
      "2800747a315265634878775a4a6d5a593464797071324b6d76784b59675542474a6365483176eada\n",
      "\n",
      "Decoded key from the body of the reply...\n",
      "tz1RecHxwZJmZY4dypq2KmvxKYgUBGJceH1v\n"
     ]
    }
   ],
   "source": [
    "# retrieve the public key hash for the Ed25519 curve \n",
    "opCode = 0x11\n",
    "param1 = 0x01 \n",
    "param2 = 0x04\n",
    "packet = buildPacket(0x03, opCode, param1, param2);\n",
    "print('Packet to be sent...')\n",
    "print(packet.hex())\n",
    "print()\n",
    "\n",
    "reply = queryWallet(packet)\n",
    "print('Raw reply bytes...')\n",
    "print(reply.hex())\n",
    "print()\n",
    "\n",
    "key = parseReply(reply)\n",
    "print('Decoded key from the body of the reply...')\n",
    "print(key.decode('utf-8'))"
   ]
  },
  {
   "cell_type": "markdown",
   "metadata": {},
   "source": [
    "### Sign Operation (op_sign)\n",
    "\n",
    "*param3 is not used but a value must be included whenever data is sent as part of the packet\n",
    "\n",
    "| Packet Vars | Value  |\n",
    "|-------------|--------| \n",
    "| opCode      | 0x21   |\n",
    "| param1      | curve  |\n",
    "| param2      | mode   |\n",
    "| param3      | 0x0000 |\n",
    "| data        | message|\n"
   ]
  },
  {
   "cell_type": "markdown",
   "metadata": {},
   "source": [
    "| curve | ECC curve |\n",
    "|-------|-----------|\n",
    "| 0x01  | Ed25519   |\n",
    "| 0x02  | Secp256k1 |\n",
    "| 0x03  | NIST P256 |"
   ]
  },
  {
   "cell_type": "markdown",
   "metadata": {},
   "source": [
    "| mode | message hashed | signature format        |\n",
    "|------|----------------|-------------------------|\n",
    "| 0x01 | yes            | Raw (64 bytes)          |\n",
    "| 0x02 | yes            | Base58 Checksum Encoded |\n",
    "| 0x03 | no             | Raw (64 bytes)          |\n",
    "| 0x04 | no             | Base58 Checksum Encoded |"
   ]
  },
  {
   "cell_type": "markdown",
   "metadata": {},
   "source": [
    "### Verify Operation (op_verify)\n",
    "\n",
    "| Packet Vars | Value              |\n",
    "|-------------|--------------------| \n",
    "| opCode      | 0x22               |\n",
    "| param1      | curve              |\n",
    "| param2      | mode               |\n",
    "| param3      | message length     |\n",
    "| data        | message + signature|"
   ]
  },
  {
   "cell_type": "markdown",
   "metadata": {},
   "source": [
    "| curve | ECC curve |\n",
    "|-------|-----------|\n",
    "| 0x01  | Ed25519   |\n",
    "| 0x02  | Secp256k1 |\n",
    "| 0x03  | NIST P256 |"
   ]
  },
  {
   "cell_type": "markdown",
   "metadata": {},
   "source": [
    "| mode | message hashed | signature format        |\n",
    "|------|----------------|-------------------------|\n",
    "| 0x01 | yes            | Raw (64 bytes)          |\n",
    "| 0x02 | yes            | Base58 Checksum Encoded |\n",
    "| 0x03 | no             | Raw (64 bytes)          |\n",
    "| 0x04 | no             | Base58 Checksum Encoded |"
   ]
  },
  {
   "cell_type": "code",
   "execution_count": 5,
   "metadata": {},
   "outputs": [
    {
     "name": "stdout",
     "output_type": "stream",
     "text": [
      "Packet to be sent...\n",
      "034400210204000054686973206973206d79206d6573736167652e20546865726520617265206d616e79206c696b65206974206275742074686973206973206d696e65dcba\n",
      "\n",
      "Raw reply bytes...\n",
      "67007370736967315065616734706e484d615a786936506b506548474a34397842744d394645484e7843534b706e506f71454d42703847705537557248336163437856326932366a6779506f765a504a6b6631623532754c766a674441706a367472614257456d\n",
      "\n",
      "Base58 encoded signature from the body of the reply...\n",
      "spsig1Peag4pnHMaZxi6PkPeHGJ49xBtM9FEHNxCSKpnPoqEMBp8GpU7UrH3acCxV2i26jgyPovZPJkf1b52uLvjgDApj6traBW\n"
     ]
    }
   ],
   "source": [
    "# sign an unhased message using the Secp256k1 curve and getting a base58 checksum endoced result\n",
    "opCode = 0x21\n",
    "param1 = 0x02\n",
    "param2 = 0x04\n",
    "param3 = 0x0000 # not used but needed in packet since data is included\n",
    "data = bytearray('This is my message. There are many like it but this is mine', 'utf-8') # 32 bytes so hashed or unhashed mode works\n",
    "packet = buildPacket(0x03, opCode, param1, param2, param3, data);\n",
    "print('Packet to be sent...')\n",
    "print(packet.hex())\n",
    "print()\n",
    "\n",
    "reply = queryWallet(packet)\n",
    "print('Raw reply bytes...')\n",
    "print(reply.hex())\n",
    "print()\n",
    "\n",
    "sig = parseReply(reply)\n",
    "print('Base58 encoded signature from the body of the reply...')\n",
    "print(sig.decode('utf-8'))"
   ]
  },
  {
   "cell_type": "code",
   "execution_count": 6,
   "metadata": {},
   "outputs": [
    {
     "name": "stdout",
     "output_type": "stream",
     "text": [
      "Packet to be sent...\n",
      "03a7002202043b0054686973206973206d79206d6573736167652e20546865726520617265206d616e79206c696b65206974206275742074686973206973206d696e657370736967315065616734706e484d615a786936506b506548474a34397842744d394645484e7843534b706e506f71454d42703847705537557248336163437856326932366a6779506f765a504a6b6631623532754c766a674441706a36747261425733ea\n",
      "\n",
      "Raw reply bytes...\n",
      "0500014180\n",
      "\n",
      "Signature valid (0x01) or invalid (0x00)...\n",
      "01\n"
     ]
    }
   ],
   "source": [
    "# verify the signature\n",
    "opCode = 0x22\n",
    "# param1 and param2 are unchanged\n",
    "param3 = len(data) \n",
    "data = list(data) + list(sig) # the data is not the message signed with the signature appended\n",
    "packet = buildPacket(0x03, opCode, param1, param2, param3, data);\n",
    "print('Packet to be sent...')\n",
    "print(packet.hex())\n",
    "print()\n",
    "\n",
    "reply = queryWallet(packet)\n",
    "print('Raw reply bytes...')\n",
    "print(reply.hex())\n",
    "print()\n",
    "\n",
    "valid = parseReply(reply)\n",
    "print('Signature valid (0x01) or invalid (0x00)...')\n",
    "print(valid.hex())"
   ]
  },
  {
   "cell_type": "code",
   "execution_count": null,
   "metadata": {},
   "outputs": [],
   "source": []
  }
 ],
 "metadata": {
  "kernelspec": {
   "display_name": "Python 3",
   "language": "python",
   "name": "python3"
  },
  "language_info": {
   "codemirror_mode": {
    "name": "ipython",
    "version": 3
   },
   "file_extension": ".py",
   "mimetype": "text/x-python",
   "name": "python",
   "nbconvert_exporter": "python",
   "pygments_lexer": "ipython3",
   "version": "3.7.6"
  }
 },
 "nbformat": 4,
 "nbformat_minor": 5
}
