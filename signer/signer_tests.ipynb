{
 "cells": [
  {
   "cell_type": "code",
   "execution_count": 15,
   "id": "b90da6af",
   "metadata": {},
   "outputs": [],
   "source": [
    "import requests\n",
    "from Tezio import TezioWallet\n",
    "import base58"
   ]
  },
  {
   "cell_type": "code",
   "execution_count": 16,
   "id": "5a943314",
   "metadata": {},
   "outputs": [],
   "source": [
    "def get_request(URL):\n",
    "    r = requests.get(URL)\n",
    "    if r.status_code == 200:\n",
    "        reply = r.json()\n",
    "    else:\n",
    "        print('Request Failed...')\n",
    "        reply = None\n",
    "    return reply\n",
    "\n",
    "\n",
    "def post_request(URL, data):\n",
    "    r = requests.post(URL, data = data)\n",
    "    if r.status_code == 200:\n",
    "        reply = r.json()\n",
    "    else:\n",
    "        print('Request Failed...')\n",
    "        reply = None\n",
    "    return reply\n",
    "\n"
   ]
  },
  {
   "cell_type": "code",
   "execution_count": 40,
   "id": "4360a446",
   "metadata": {},
   "outputs": [],
   "source": [
    "\n",
    "prefix = bytearray.fromhex('040101')\n",
    "data = bytearray.fromhex('13af1864d9b3ccda61cd98d194db17336e5d5cf07924ec10651422b2eeadb95a8148456cd6150c49005329f6000000004807f82c9bbb81d1d86aae85abe3a9cce9fff23db84894cd2a05eb185b7b51a7')\n",
    "signature = bytearray('spsig1eqPCR899roug1RoAtzgVssgop9Sk4EnjeqCSd9N6ZnBrzghhETnLcfUv9DSvuqc1mkrRdcMTo4HqeH95a4gfodxDgAM47', 'utf-8')\n",
    "# pkh = bytearray('tz2UsL2kos6EzKQHynKEdRG5M6JrfDqpXqi5', 'utf-8')\n",
    "pkh = bytearray('tz3bcN2yEiHacx1YE6xoVu1CfU26J3rRKB1j', 'utf-8')\n",
    "# pkh = bytearray('tz1bUuHY8EPNcMaLoXkeRkfxzzSeVS51Zdd5', 'utf-8')"
   ]
  },
  {
   "cell_type": "code",
   "execution_count": 41,
   "id": "616e133d",
   "metadata": {},
   "outputs": [
    {
     "name": "stdout",
     "output_type": "stream",
     "text": [
      "64\n",
      "fc6cb02afc2ca1db6a441b41d18606a71e70bdacd323d4a7000b94b3992c778c227c403549d1fdda23a86aafead29b4d85977cd7fe4f4a691518e8ae98ae7087\n",
      "20\n",
      "a79feaea9fb12af20833db1c2467824197c64027\n"
     ]
    }
   ],
   "source": [
    "signatureBytes = base58.b58decode_check(signature)[5:] \n",
    "\n",
    "print(len(signatureBytes))\n",
    "print(signatureBytes.hex())\n",
    "\n",
    "pkhBytes = base58.b58decode_check(pkh)[3:]\n",
    "\n",
    "print(len(pkhBytes))\n",
    "print(pkhBytes.hex())"
   ]
  },
  {
   "cell_type": "code",
   "execution_count": 42,
   "id": "9b8ac46f",
   "metadata": {},
   "outputs": [],
   "source": [
    "# fullMessage = prefix + pkhBytes + data\n",
    "fullMessage = prefix + pkhBytes + data"
   ]
  },
  {
   "cell_type": "code",
   "execution_count": 43,
   "id": "2a6214b6",
   "metadata": {},
   "outputs": [
    {
     "name": "stdout",
     "output_type": "stream",
     "text": [
      "Packet to be sent...\n",
      "03b0002202036700040101a79feaea9fb12af20833db1c2467824197c6402713af1864d9b3ccda61cd98d194db17336e5d5cf07924ec10651422b2eeadb95a8148456cd6150c49005329f6000000004807f82c9bbb81d1d86aae85abe3a9cce9fff23db84894cd2a05eb185b7b51a7fc6cb02afc2ca1db6a441b41d18606a71e70bdacd323d4a7000b94b3992c778c227c403549d1fdda23a86aafead29b4d85977cd7fe4f4a691518e8ae98ae70871c12\n",
      "\n",
      "00\n"
     ]
    }
   ],
   "source": [
    "# verify signature\n",
    "opCode = 0x22\n",
    "param1 = 0x02 # curve to use\n",
    "param2 = 0x03 # message unhashed, signature raw bytes\n",
    "param3 = len(fullMessage)\n",
    "\n",
    "# signatureBytes = bytearray(signature, 'utf-8')\n",
    "data = fullMessage + signatureBytes\n",
    "\n",
    "# generate signature                \n",
    "wallet = TezioWallet(2) # using sp key\n",
    "wallet.build_packet(opCode, param1, param2, param3, data);\n",
    "print('Packet to be sent...')\n",
    "print(wallet.packet.hex())\n",
    "print()\n",
    "\n",
    "if (not wallet.query_wallet()):\n",
    "    print('Wallet query failed')\n",
    "\n",
    "else:\n",
    "    print(wallet.response.hex())"
   ]
  },
  {
   "cell_type": "code",
   "execution_count": 13,
   "id": "e5dc1634",
   "metadata": {},
   "outputs": [],
   "source": [
    "nodeURL = \"http://localhost:8732\"\n",
    "rpc = nodeURL + \"/chains/main/blocks/head/header\""
   ]
  },
  {
   "cell_type": "code",
   "execution_count": 14,
   "id": "524bab7f",
   "metadata": {},
   "outputs": [
    {
     "data": {
      "text/plain": [
       "{'protocol': 'ProxfordYmVfjWnRcgjWH36fW6PArwqykTFzotUxRs6gmTcZDuH',\n",
       " 'chain_id': 'NetXnHfVqm9iesp',\n",
       " 'hash': 'BLsq9pHZrMXqtnWaKFUg5wD3TiTgcgKcAe2x8veXFyXDZAP3u8f',\n",
       " 'level': 5452144,\n",
       " 'proto': 8,\n",
       " 'predecessor': 'BLm1Jo2R6ruKBaRjh6wHnWVVeGGHokrQgAoLViymVWYaYBbKmtr',\n",
       " 'timestamp': '2024-02-15T18:45:50Z',\n",
       " 'validation_pass': 4,\n",
       " 'operations_hash': 'LLoaxNb96s9XuYNStxhGdDazDU3pt4weQidPBrFTm2Wo11fFjfruT',\n",
       " 'fitness': ['02', '00533170', '', 'ffffffff', '00000000'],\n",
       " 'context': 'CoVpoVTByj6M13bu6fxpY7ix8jGm2t9xemki1UHYLRjbH5xc21Bm',\n",
       " 'payload_hash': 'vh2aRHpczKabRKZEwNMkhHhcNEoZF9MqhmPZgokJ7AErHoQZMFxP',\n",
       " 'payload_round': 0,\n",
       " 'proof_of_work_nonce': 'dd3a30f805ff0000',\n",
       " 'liquidity_baking_toggle_vote': 'on',\n",
       " 'adaptive_issuance_vote': 'pass',\n",
       " 'signature': 'sigoaGK5KvPGS1ifpuQsyXLpCeyBtjBXwNVTgzmz7Dc5nrMqMpapgNgdr8J14WysUdiGpzmoUrxPED7m9a2rLoXnd9aFNFkk'}"
      ]
     },
     "execution_count": 14,
     "metadata": {},
     "output_type": "execute_result"
    }
   ],
   "source": [
    "get_request(rpc)"
   ]
  },
  {
   "cell_type": "code",
   "execution_count": 45,
   "id": "2ef69530",
   "metadata": {},
   "outputs": [
    {
     "data": {
      "text/plain": [
       "[2, 4]"
      ]
     },
     "execution_count": 45,
     "metadata": {},
     "output_type": "execute_result"
    }
   ],
   "source": []
  },
  {
   "cell_type": "code",
   "execution_count": 71,
   "id": "c929f86d",
   "metadata": {},
   "outputs": [],
   "source": [
    "prefixBytes = bytearray.fromhex('040101')\n",
    "# addressBytes = bytearray('tz2UsL2kos6EzKQHynKEdRG5M6JrfDqpXqi5', 'utf-8')\n",
    "# addressBytes = bytearray.fromhex('e1744efb6c25fa11f69a5224b7d38cb5e086c54e')\n",
    "\n",
    "# try tz3 address, tz3bcN2yEiHacx1YE6xoVu1CfU26J3rRKB1j\n",
    "addressBytes = bytearray.fromhex('a79feaea9fb12af20833db1c2467824197c64027')\n",
    "\n",
    "# try tz1 address, adc8160ff8dea802d94e3e37ee522af44a3bfa8c\n",
    "# addressBytes = bytearray.fromhex('adc8160ff8dea802d94e3e37ee522af44a3bfa8c')\n",
    "\n",
    "dataBytes = bytearray.fromhex('03')\n",
    "# signatureBytes = bytearray('spsig17aGnknFumebrsHLswgmxCQPoqEs54dTBiuV15H2zdmQGFHwWh2iKAxjzhzjLH11SkANcmxQx6Ey8EuU6HdST5Ag5vh6hx','utf-8')\n",
    "signatureBytes = bytearray.fromhex('0d7b52b8b3c140f3091d7d8a595ae31b9c1d3a89fd5f045097d5b2486878845626d1ab5838270ef4495e1cdb6629ad165b57abc9516207520d1abd5ebc848d3b')\n",
    "\n",
    "data = prefixBytes + addressBytes + dataBytes\n",
    "# data = addressBytes + dataBytes"
   ]
  },
  {
   "cell_type": "code",
   "execution_count": 70,
   "id": "52a30777",
   "metadata": {},
   "outputs": [
    {
     "name": "stdout",
     "output_type": "stream",
     "text": [
      "bytearray(b'tz1bUuHY8EPNcMaLoXkeRkfxzzSeVS51Zdd5')\n",
      "Packet to be sent...\n",
      "0321002102030000040101adc8160ff8dea802d94e3e37ee522af44a3bfa8c03a0bc\n",
      "\n"
     ]
    },
    {
     "ename": "UnicodeDecodeError",
     "evalue": "'utf-8' codec can't decode byte 0xbe in position 0: invalid start byte",
     "output_type": "error",
     "traceback": [
      "\u001b[0;31m---------------------------------------------------------------------------\u001b[0m",
      "\u001b[0;31mUnicodeDecodeError\u001b[0m                        Traceback (most recent call last)",
      "\u001b[0;32m/tmp/ipykernel_364981/3692681313.py\u001b[0m in \u001b[0;36m<module>\u001b[0;34m\u001b[0m\n\u001b[1;32m     17\u001b[0m \u001b[0;34m\u001b[0m\u001b[0m\n\u001b[1;32m     18\u001b[0m \u001b[0;32melse\u001b[0m\u001b[0;34m:\u001b[0m\u001b[0;34m\u001b[0m\u001b[0;34m\u001b[0m\u001b[0m\n\u001b[0;32m---> 19\u001b[0;31m     \u001b[0msignature\u001b[0m \u001b[0;34m=\u001b[0m \u001b[0mwallet\u001b[0m\u001b[0;34m.\u001b[0m\u001b[0mresponse\u001b[0m\u001b[0;34m.\u001b[0m\u001b[0mdecode\u001b[0m\u001b[0;34m(\u001b[0m\u001b[0;34m'utf-8'\u001b[0m\u001b[0;34m)\u001b[0m\u001b[0;34m\u001b[0m\u001b[0;34m\u001b[0m\u001b[0m\n\u001b[0m\u001b[1;32m     20\u001b[0m     \u001b[0mprint\u001b[0m\u001b[0;34m(\u001b[0m\u001b[0msignature\u001b[0m\u001b[0;34m)\u001b[0m\u001b[0;34m\u001b[0m\u001b[0;34m\u001b[0m\u001b[0m\n",
      "\u001b[0;31mUnicodeDecodeError\u001b[0m: 'utf-8' codec can't decode byte 0xbe in position 0: invalid start byte"
     ]
    }
   ],
   "source": [
    "opCode = 0x21\n",
    "param1 = 0x02 # curve to use\n",
    "param2 = 0x03 # format of signature\n",
    "param3 = 0x0000\n",
    "\n",
    "# generate signature                \n",
    "wallet = TezioWallet(1) # using sp key\n",
    "pk = wallet.get_pk(4);\n",
    "print(pk)\n",
    "wallet.build_packet(opCode, param1, param2, param3, data);\n",
    "print('Packet to be sent...')\n",
    "print(wallet.packet.hex())\n",
    "print()\n",
    "\n",
    "if (not wallet.query_wallet()):\n",
    "    print('Wallet query failed')\n",
    "\n",
    "else:\n",
    "    signature = wallet.response.decode('utf-8')\n",
    "    print(signature)"
   ]
  },
  {
   "cell_type": "code",
   "execution_count": 73,
   "id": "210790e5",
   "metadata": {},
   "outputs": [
    {
     "name": "stdout",
     "output_type": "stream",
     "text": [
      "Packet to be sent...\n",
      "03a1002202035800040101adc8160ff8dea802d94e3e37ee522af44a3bfa8c030d7b52b8b3c140f3091d7d8a595ae31b9c1d3a89fd5f045097d5b2486878845626d1ab5838270ef4495e1cdb6629ad165b57abc9516207520d1abd5ebc848d3b0d7b52b8b3c140f3091d7d8a595ae31b9c1d3a89fd5f045097d5b2486878845626d1ab5838270ef4495e1cdb6629ad165b57abc9516207520d1abd5ebc848d3b6313\n",
      "\n",
      "00\n"
     ]
    }
   ],
   "source": [
    "# verify signature\n",
    "opCode = 0x22\n",
    "param1 = 0x02 # curve to use\n",
    "param2 = 0x03 # message unhashed, signature raw bytes\n",
    "param3 = len(data)\n",
    "\n",
    "# signatureBytes = bytearray(signature, 'utf-8')\n",
    "data = data + signatureBytes\n",
    "\n",
    "# generate signature                \n",
    "wallet = TezioWallet() # using sp key\n",
    "# pk = wallet.get_pk(4);\n",
    "# print(pk)\n",
    "wallet.build_packet(opCode, param1, param2, param3, data);\n",
    "print('Packet to be sent...')\n",
    "print(wallet.packet.hex())\n",
    "print()\n",
    "\n",
    "if (not wallet.query_wallet()):\n",
    "    print('Wallet query failed')\n",
    "\n",
    "else:\n",
    "    print(wallet.response.hex())"
   ]
  },
  {
   "cell_type": "code",
   "execution_count": null,
   "id": "72f28d0f",
   "metadata": {},
   "outputs": [],
   "source": []
  },
  {
   "cell_type": "code",
   "execution_count": null,
   "id": "badbb6dd",
   "metadata": {},
   "outputs": [],
   "source": []
  },
  {
   "cell_type": "code",
   "execution_count": 86,
   "id": "4a8ef2ed",
   "metadata": {},
   "outputs": [
    {
     "name": "stdout",
     "output_type": "stream",
     "text": [
      "{\"signature\":\"spsig1QTcnaD6H4G5ToyffFsYdxBp15V4tKiAwZpJXN1EJqy9QLgqYuCi5Vf5iGWwzHWCBbqmvC9JyugWfZ4AowLqWPFjbhPekc\"}\n",
      "\n"
     ]
    }
   ],
   "source": [
    "reply = post_request('http://127.0.0.1:5000/keys/tz2Dy8HhPZZqmxVK5hE8Unc66fiWvqY8wFXN', 'abcdefg')\n",
    "print(reply)"
   ]
  },
  {
   "cell_type": "code",
   "execution_count": 87,
   "id": "679fb6ee",
   "metadata": {},
   "outputs": [
    {
     "name": "stdout",
     "output_type": "stream",
     "text": [
      "{\"signature\":\"p2sigqrufFFjxtCXkTZTsC9sYo4yLY3QYRcfoeTGXGuciMrooyuDATqgGkMNo5riLEJXaQ9FMEu5B8SA8Cx1BQDXDd8GkkkNBM\"}\n",
      "\n"
     ]
    }
   ],
   "source": [
    "reply = post_request('http://127.0.0.1:5000/keys/tz3MyarJihHrejsze59J2Seita7jYWDCJDPe', 'abcdefg')\n",
    "print(reply)"
   ]
  },
  {
   "cell_type": "code",
   "execution_count": 88,
   "id": "554e1aff",
   "metadata": {},
   "outputs": [
    {
     "name": "stdout",
     "output_type": "stream",
     "text": [
      "{\"signature\":\"edsigtrW1HhQuA1QpAeXTu39N7x8q4JY8JdyJ8dBCwjrvku6xEyc29GPGz3gJ5WTwauzSHHcuNNVXwFm2spuuVp6C17HFDoYwpJ\"}\n",
      "\n"
     ]
    }
   ],
   "source": [
    "reply = post_request('http://127.0.0.1:5000/keys/tz1cmovtLzCMnpHEBNcQtSvB7vUpcHpc7Pbt', 'abcdefghijklmnopqrstuvwxyzabce')\n",
    "print(reply)"
   ]
  },
  {
   "cell_type": "code",
   "execution_count": 89,
   "id": "2fd91ee6",
   "metadata": {},
   "outputs": [
    {
     "name": "stdout",
     "output_type": "stream",
     "text": [
      "{\"public_key\":\"sppk7ck4y4RnCoX32fAZwoKQxrgjGKR9Efb5VzaqUfkHacbAPr1ifG4\"}\n",
      "\n"
     ]
    }
   ],
   "source": [
    "reply = get_request('http://127.0.0.1:5000/keys/tz2Dy8HhPZZqmxVK5hE8Unc66fiWvqY8wFXN')\n",
    "print(reply)"
   ]
  },
  {
   "cell_type": "code",
   "execution_count": 90,
   "id": "07cb173b",
   "metadata": {},
   "outputs": [
    {
     "name": "stdout",
     "output_type": "stream",
     "text": [
      "{\"public_key\":\"p2pk66e7HovJkSsM2LdS5pn8DfxG53qRWifpn92PbbcLkD1YwYbaJ7a\"}\n",
      "\n"
     ]
    }
   ],
   "source": [
    "reply = get_request('http://127.0.0.1:5000/keys/tz3MyarJihHrejsze59J2Seita7jYWDCJDPe')\n",
    "print(reply)"
   ]
  },
  {
   "cell_type": "code",
   "execution_count": 91,
   "id": "f35b194a",
   "metadata": {},
   "outputs": [
    {
     "name": "stdout",
     "output_type": "stream",
     "text": [
      "{\"public_key\":\"edpkuBsdoxrpMAwPNZSqpgEaFdNz55uqNBrU43pjsBLTE1aM6XecgG\"}\n",
      "\n"
     ]
    }
   ],
   "source": [
    "reply = get_request('http://127.0.0.1:5000/keys/tz1cmovtLzCMnpHEBNcQtSvB7vUpcHpc7Pbt')\n",
    "print(reply)"
   ]
  },
  {
   "cell_type": "code",
   "execution_count": 92,
   "id": "b7169887",
   "metadata": {},
   "outputs": [
    {
     "name": "stdout",
     "output_type": "stream",
     "text": [
      "{\"authorized_keys\":[\"tz1cmovtLzCMnpHEBNcQtSvB7vUpcHpc7Pbt\"]}\n",
      "\n"
     ]
    }
   ],
   "source": [
    "reply = get_request('http://127.0.0.1:5000/authorized_keys')\n",
    "print(reply)"
   ]
  },
  {
   "cell_type": "code",
   "execution_count": null,
   "id": "5f759be9",
   "metadata": {},
   "outputs": [],
   "source": []
  }
 ],
 "metadata": {
  "kernelspec": {
   "display_name": "Python 3 (ipykernel)",
   "language": "python",
   "name": "python3"
  },
  "language_info": {
   "codemirror_mode": {
    "name": "ipython",
    "version": 3
   },
   "file_extension": ".py",
   "mimetype": "text/x-python",
   "name": "python",
   "nbconvert_exporter": "python",
   "pygments_lexer": "ipython3",
   "version": "3.10.12"
  }
 },
 "nbformat": 4,
 "nbformat_minor": 5
}
