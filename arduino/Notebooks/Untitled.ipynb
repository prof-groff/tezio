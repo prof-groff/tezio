{
 "cells": [
  {
   "cell_type": "code",
   "execution_count": 5,
   "metadata": {},
   "outputs": [],
   "source": [
    "text = 'branch'"
   ]
  },
  {
   "cell_type": "code",
   "execution_count": 10,
   "metadata": {},
   "outputs": [
    {
     "name": "stdout",
     "output_type": "stream",
     "text": [
      "{\"branch\":\"BMHBtAaUv59LipV1czwZ5iQkxEktPJDE7A9sYXPkPeRzbBasNY8\",\"contents\":[{\"kind\":\"transaction\",\"source\":\"tz1KqTpEZ7Yob7QbPE4Hy4Wo8fHG8LhKxZSx\",\"fee\":\"50000\",\"counter\":\"3\",\"gas_limit\":\"200\",\"storage_limit\":\"0\",\"amount\":\"100000000\",\"destination\":\"tz1gjaF81ZRRvdzjobyfVNsAeSC6PScjfQwN\"}]}\n"
     ]
    }
   ],
   "source": [
    "text = '{\"branch\": \"BMHBtAaUv59LipV1czwZ5iQkxEktPJDE7A9sYXPkPeRzbBasNY8\", \"contents\":[{\"kind\":\"transaction\",\"source\":\"tz1KqTpEZ7Yob7QbPE4Hy4Wo8fHG8LhKxZSx\",\"fee\": \"50000\",\"counter\":\"3\",\"gas_limit\":\"200\",\"storage_limit\":\"0\",\"amount\": \"100000000\",\"destination\": \"tz1gjaF81ZRRvdzjobyfVNsAeSC6PScjfQwN\"}]}'\n",
    "text = text.replace(' ', '')\n",
    "print(text)"
   ]
  },
  {
   "cell_type": "code",
   "execution_count": 13,
   "metadata": {},
   "outputs": [
    {
     "data": {
      "text/plain": [
       "'7b226272616e6368223a22424d4842744161557635394c69705631637a775a3569516b78456b74504a4445374139735958506b5065527a624261734e5938222c22636f6e74656e7473223a5b7b226b696e64223a227472616e73616374696f6e222c22736f75726365223a22747a314b715470455a37596f62375162504534487934576f38664847384c684b785a5378222c22666565223a223530303030222c22636f756e746572223a2233222c226761735f6c696d6974223a22323030222c2273746f726167655f6c696d6974223a2230222c22616d6f756e74223a22313030303030303030222c2264657374696e6174696f6e223a22747a31676a614638315a525276647a6a6f627966564e7341655343365053636a6651774e227d5d7d'"
      ]
     },
     "execution_count": 13,
     "metadata": {},
     "output_type": "execute_result"
    }
   ],
   "source": [
    "bytearray(text, 'utf-8').hex()\n"
   ]
  },
  {
   "cell_type": "code",
   "execution_count": 21,
   "metadata": {},
   "outputs": [
    {
     "data": {
      "text/plain": [
       "'63653639633537313364616333353337323534653762653539373539636635396331356162643533306431303530316363663930323861353738363331346366303830303030303232393863303365643764343534613130316562373032326263393566376535663431616337386430383630333033633830313030383063326437326630303030653736373066333230333831303761353961326239636665666165333665613231663561613633633030'"
      ]
     },
     "execution_count": 21,
     "metadata": {},
     "output_type": "execute_result"
    }
   ],
   "source": [
    "binary = \"ce69c5713dac3537254e7be59759cf59c15abd530d10501ccf9028a5786314cf08000002298c03ed7d454a101eb7022bc95f7e5f41ac78d0860303c8010080c2d72f0000e7670f32038107a59a2b9cfefae36ea21f5aa63c00\"\n"
   ]
  },
  {
   "cell_type": "code",
   "execution_count": 34,
   "metadata": {},
   "outputs": [
    {
     "data": {
      "text/plain": [
       "'7b'"
      ]
     },
     "execution_count": 34,
     "metadata": {},
     "output_type": "execute_result"
    }
   ],
   "source": [
    "'{'.encode('utf-8').hex()"
   ]
  },
  {
   "cell_type": "code",
   "execution_count": null,
   "metadata": {},
   "outputs": [],
   "source": []
  }
 ],
 "metadata": {
  "kernelspec": {
   "display_name": "Python 3",
   "language": "python",
   "name": "python3"
  },
  "language_info": {
   "codemirror_mode": {
    "name": "ipython",
    "version": 3
   },
   "file_extension": ".py",
   "mimetype": "text/x-python",
   "name": "python",
   "nbconvert_exporter": "python",
   "pygments_lexer": "ipython3",
   "version": "3.7.6"
  }
 },
 "nbformat": 4,
 "nbformat_minor": 4
}
