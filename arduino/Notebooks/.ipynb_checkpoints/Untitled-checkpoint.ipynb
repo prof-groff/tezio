{
 "cells": [
  {
   "cell_type": "code",
   "execution_count": 5,
   "metadata": {},
   "outputs": [],
   "source": [
    "text = 'branch'"
   ]
  },
  {
   "cell_type": "code",
   "execution_count": 10,
   "metadata": {},
   "outputs": [
    {
     "name": "stdout",
     "output_type": "stream",
     "text": [
      "{\"branch\":\"BMHBtAaUv59LipV1czwZ5iQkxEktPJDE7A9sYXPkPeRzbBasNY8\",\"contents\":[{\"kind\":\"transaction\",\"source\":\"tz1KqTpEZ7Yob7QbPE4Hy4Wo8fHG8LhKxZSx\",\"fee\":\"50000\",\"counter\":\"3\",\"gas_limit\":\"200\",\"storage_limit\":\"0\",\"amount\":\"100000000\",\"destination\":\"tz1gjaF81ZRRvdzjobyfVNsAeSC6PScjfQwN\"}]}\n"
     ]
    }
   ],
   "source": [
    "text = '{\"branch\": \"BMHBtAaUv59LipV1czwZ5iQkxEktPJDE7A9sYXPkPeRzbBasNY8\", \"contents\":[{\"kind\":\"transaction\",\"source\":\"tz1KqTpEZ7Yob7QbPE4Hy4Wo8fHG8LhKxZSx\",\"fee\": \"50000\",\"counter\":\"3\",\"gas_limit\":\"200\",\"storage_limit\":\"0\",\"amount\": \"100000000\",\"destination\": \"tz1gjaF81ZRRvdzjobyfVNsAeSC6PScjfQwN\"}]}'\n",
    "text = text.replace(' ', '')\n",
    "print(text)"
   ]
  },
  {
   "cell_type": "code",
   "execution_count": 2,
   "metadata": {},
   "outputs": [
    {
     "ename": "SyntaxError",
     "evalue": "EOL while scanning string literal (<ipython-input-2-8cf406573937>, line 1)",
     "output_type": "error",
     "traceback": [
      "\u001b[0;36m  File \u001b[0;32m\"<ipython-input-2-8cf406573937>\"\u001b[0;36m, line \u001b[0;32m1\u001b[0m\n\u001b[0;31m    text = \"{\u001b[0m\n\u001b[0m             ^\u001b[0m\n\u001b[0;31mSyntaxError\u001b[0m\u001b[0;31m:\u001b[0m EOL while scanning string literal\n"
     ]
    }
   ],
   "source": [
    "\n",
    "\n"
   ]
  },
  {
   "cell_type": "code",
   "execution_count": null,
   "metadata": {},
   "outputs": [],
   "source": []
  }
 ],
 "metadata": {
  "kernelspec": {
   "display_name": "Python 3",
   "language": "python",
   "name": "python3"
  },
  "language_info": {
   "codemirror_mode": {
    "name": "ipython",
    "version": 3
   },
   "file_extension": ".py",
   "mimetype": "text/x-python",
   "name": "python",
   "nbconvert_exporter": "python",
   "pygments_lexer": "ipython3",
   "version": "3.7.6"
  }
 },
 "nbformat": 4,
 "nbformat_minor": 4
}
