{
 "cells": [
  {
   "cell_type": "code",
   "execution_count": 1,
   "id": "34f81518",
   "metadata": {},
   "outputs": [],
   "source": [
    "from Tezio import TezioWallet\n",
    "import serial.tools.list_ports"
   ]
  },
  {
   "cell_type": "code",
   "execution_count": 3,
   "id": "fa799ee0",
   "metadata": {},
   "outputs": [],
   "source": []
  },
  {
   "cell_type": "code",
   "execution_count": null,
   "id": "400502fc",
   "metadata": {},
   "outputs": [],
   "source": [
    "ports = serial.tools.list_ports.comports()\n",
    "for each in ports:\n",
    "    print(each)"
   ]
  },
  {
   "cell_type": "code",
   "execution_count": null,
   "id": "08038333",
   "metadata": {},
   "outputs": [],
   "source": [
    "opCode = 0x11 # get public key\n",
    "param1 = 0x01 # ed25519\n",
    "param2 = 0x04 # raw bytes\n",
    "\n",
    "myWallet.build_packet(opCode, param1, param2)"
   ]
  },
  {
   "cell_type": "code",
   "execution_count": null,
   "id": "fac47507",
   "metadata": {},
   "outputs": [],
   "source": [
    "print(myWallet.packet.hex())"
   ]
  },
  {
   "cell_type": "code",
   "execution_count": null,
   "id": "1e0294ad",
   "metadata": {},
   "outputs": [],
   "source": [
    "if (not myWallet.query_wallet()):\n",
    "    print('Wallet query failed')\n",
    "\n",
    "print('Decoded response received...')\n",
    "print(myWallet.response.decode('utf-8'))"
   ]
  },
  {
   "cell_type": "code",
   "execution_count": null,
   "id": "89ed1634",
   "metadata": {},
   "outputs": [],
   "source": [
    "public_key = myWallet.get_pk(3) # argument is mode (param 2)\n",
    "print(public_key.decode('utf-8'))"
   ]
  },
  {
   "cell_type": "code",
   "execution_count": null,
   "id": "d5d7bee2",
   "metadata": {},
   "outputs": [],
   "source": [
    "x = {'accounts': {1: 'tz11', 2: 'tz22', 3: 'tz33', 4: 'tz44'}}"
   ]
  },
  {
   "cell_type": "code",
   "execution_count": null,
   "id": "68b2d39f",
   "metadata": {},
   "outputs": [],
   "source": [
    "list(x['accounts'].keys())"
   ]
  },
  {
   "cell_type": "code",
   "execution_count": null,
   "id": "7aeffaa3",
   "metadata": {},
   "outputs": [],
   "source": [
    "hexstr = \"03abff0407\""
   ]
  },
  {
   "cell_type": "code",
   "execution_count": null,
   "id": "2a79c8ce",
   "metadata": {},
   "outputs": [],
   "source": [
    "bytearray.fromhex(hexstr)"
   ]
  },
  {
   "cell_type": "code",
   "execution_count": null,
   "id": "9c7af4da",
   "metadata": {},
   "outputs": [],
   "source": [
    "hexstr[1:-1]"
   ]
  },
  {
   "cell_type": "code",
   "execution_count": null,
   "id": "f73af36f",
   "metadata": {},
   "outputs": [],
   "source": [
    "data = bytearray.fromhex('030507')\n",
    "data"
   ]
  },
  {
   "cell_type": "code",
   "execution_count": null,
   "id": "4f803294",
   "metadata": {},
   "outputs": [],
   "source": [
    "signature = myWallet.sign(4, data)"
   ]
  },
  {
   "cell_type": "code",
   "execution_count": null,
   "id": "4bad1c17",
   "metadata": {},
   "outputs": [],
   "source": [
    "signature"
   ]
  },
  {
   "cell_type": "code",
   "execution_count": 2,
   "id": "1a01706a",
   "metadata": {},
   "outputs": [],
   "source": [
    "myWallet = TezioWallet(4)"
   ]
  },
  {
   "cell_type": "markdown",
   "id": "ddabb1d8",
   "metadata": {},
   "source": [
    "POST /keys/tz3bcN2yEiHacx1YE6xoVu1CfU26J3rRKB1j?authentication=p2sigdMTi6rBNcFD9KxkqncqnjKuUZ1VxA43Zj2Z2sj6uCEG73W8VwBKjdjDA6dZc6oRY1hxNRzaoyaLNZA4Zysek2kyi9o3e3 "
   ]
  },
  {
   "cell_type": "code",
   "execution_count": 3,
   "id": "242497cc",
   "metadata": {},
   "outputs": [],
   "source": [
    "prefixBytes = bytearray.fromhex('040101')\n",
    "# addressBytes = bytearray('tz3dSMwtw9nwprnPj7KercgTHXaxy3SzDDJv', 'utf-8')\n",
    "# addressBytes = bytearray('tz3bcN2yEiHacx1YE6xoVu1CfU26J3rRKB1j', 'utf-8')\n",
    "addressBytes = bytearray.fromhex('a79feaea9fb12af20833db1c2467824197c64027') # tz3...B1j\n",
    "# addressBytes = bytearray.fromhex('bbabefc291ab15e30e3e0d39813c653190eada53') # tz3...DJv\n",
    "# addressBytes = bytearray.fromhex('adc8160ff8dea802d94e3e37ee522af44a3bfa8c')\n",
    "dataBytes = bytearray.fromhex('03')\n",
    "sigBytes = bytearray('p2sigdMTi6rBNcFD9KxkqncqnjKuUZ1VxA43Zj2Z2sj6uCEG73W8VwBKjdjDA6dZc6oRY1hxNRzaoyaLNZA4Zysek2kyi9o3e3', 'utf-8')\n",
    "# sigBytes = bytearray.fromhex('c7ee2d959019a53029a9f0307c9e3861a3c5ded65105acbbfdeab691e04f1231afbf61a6ae21dcc563ae36dbda75d2582de880244e919da644e4b4e8283868b7')\n"
   ]
  },
  {
   "cell_type": "code",
   "execution_count": 4,
   "id": "d87f2b01",
   "metadata": {},
   "outputs": [
    {
     "name": "stdout",
     "output_type": "stream",
     "text": [
      "bytearray(b\"\\x04\\x01\\x01\\xa7\\x9f\\xea\\xea\\x9f\\xb1*\\xf2\\x083\\xdb\\x1c$g\\x82A\\x97\\xc6@\\'\\x03p2sigdMTi6rBNcFD9KxkqncqnjKuUZ1VxA43Zj2Z2sj6uCEG73W8VwBKjdjDA6dZc6oRY1hxNRzaoyaLNZA4Zysek2kyi9o3e3\")\n",
      "24\n",
      "bytearray(b'tz3dSMwtw9nwprnPj7KercgTHXaxy3SzDDJv')\n",
      "Packet to be sent...\n",
      "0383002204041800040101a79feaea9fb12af20833db1c2467824197c64027037032736967644d54693672424e634644394b786b716e63716e6a4b75555a3156784134335a6a325a32736a3675434547373357385677424b6a646a444136645a63366f52593168784e527a616f79614c4e5a41345a7973656b326b7969396f3365339b1a\n",
      "\n",
      "Signature valid (0x01) or invalid (0x00)...\n",
      "00\n"
     ]
    }
   ],
   "source": [
    "data = prefixBytes + addressBytes + dataBytes + sigBytes\n",
    "\n",
    "opCode = 0x22\n",
    "param1 = 0x04 # curve to use\n",
    "param2 = 0x04 # format of signature\n",
    "param3 = len(prefixBytes) + len(addressBytes) + len(dataBytes)\n",
    "\n",
    "print(data)     \n",
    "print(param3)\n",
    "                \n",
    "# validate signature\n",
    "                \n",
    "wallet = TezioWallet(4) # using validation key\n",
    "pk = wallet.get_pk(4);\n",
    "print(pk)\n",
    "wallet.build_packet(opCode, param1, param2, param3, data);\n",
    "print('Packet to be sent...')\n",
    "print(wallet.packet.hex())\n",
    "print()\n",
    "\n",
    "if (not wallet.query_wallet()):\n",
    "    print('Wallet query failed')\n",
    "\n",
    "else:\n",
    "    print('Signature valid (0x01) or invalid (0x00)...')\n",
    "    print(wallet.response.hex())"
   ]
  },
  {
   "cell_type": "code",
   "execution_count": null,
   "id": "18a1a8ca",
   "metadata": {},
   "outputs": [],
   "source": [
    "prefix = bytearray.fromhex('040101')\n",
    "address = bytearray('tz3bcN2yEiHacx1YE6xoVu1CfU26J3rRKB1j', 'utf-8')\n"
   ]
  },
  {
   "cell_type": "code",
   "execution_count": null,
   "id": "5bb14c8a",
   "metadata": {},
   "outputs": [],
   "source": [
    "prefix = bytearray.fromhex('040101')\n",
    "address = bytearray('tz3bcN2yEiHacx1YE6xoVu1CfU26J3rRKB1j', 'utf-8')\n",
    "\n",
    "\n",
    "data = bytearray.fromhex('03014b98927ccb772e11240a9ae1fca0c8bb259f68e175597ea4bb0ccc346a6d886c01e1744efb6c25fa11f69a5224b7d38cb5e086c54e8d02bfa1bd0b9b0100c0843d0002a79feaea9fb12af20833db1c2467824197c6402700')\n",
    "\n",
    "# authBytes = bytearray(, 'utf-8')\n",
    "\n",
    "# p2sigRBc3NT4qJPxxxdWVPQ89HgMgJ8DQTq5gBmDcNMk5pJ69wgvqFpZsTLdpYr5xWzCV1JatEvjCzaHkFT1MbN1VWK3GSn7bm\n",
    "\n",
    "opCode = 0x21\n",
    "param1 = 0x04 # curve to use\n",
    "param2 = 0x04 # format of signature\n",
    "param3 = 0x0000\n",
    "\n",
    "                \n",
    "# validate signature\n",
    "                \n",
    "wallet = TezioWallet(2) # using sp key\n",
    "pk = wallet.get_pk(4);\n",
    "print(pk)\n",
    "wallet.build_packet(opCode, param1, param2, param3, data);\n",
    "print('Packet to be sent...')\n",
    "print(wallet.packet.hex())\n",
    "print()\n",
    "\n",
    "if (not wallet.query_wallet()):\n",
    "    print('Wallet query failed')\n",
    "\n",
    "else:\n",
    "    print(wallet.response)"
   ]
  },
  {
   "cell_type": "code",
   "execution_count": null,
   "id": "af4dbfc3",
   "metadata": {},
   "outputs": [],
   "source": []
  }
 ],
 "metadata": {
  "kernelspec": {
   "display_name": "Python 3 (ipykernel)",
   "language": "python",
   "name": "python3"
  },
  "language_info": {
   "codemirror_mode": {
    "name": "ipython",
    "version": 3
   },
   "file_extension": ".py",
   "mimetype": "text/x-python",
   "name": "python",
   "nbconvert_exporter": "python",
   "pygments_lexer": "ipython3",
   "version": "3.10.12"
  }
 },
 "nbformat": 4,
 "nbformat_minor": 5
}
