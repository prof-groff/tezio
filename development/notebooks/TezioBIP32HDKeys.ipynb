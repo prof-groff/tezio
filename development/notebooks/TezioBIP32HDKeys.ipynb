{
 "cells": [
  {
   "cell_type": "code",
   "execution_count": null,
   "metadata": {},
   "outputs": [],
   "source": []
  },
  {
   "cell_type": "code",
   "execution_count": 70,
   "metadata": {},
   "outputs": [],
   "source": [
    "from pyblake2 import blake2b\n",
    "import hashlib as hl\n",
    "import hmac\n",
    "from tezio.Utils import Utils\n",
    "import pysodium\n",
    "\n",
    "class BIP32HDKeys():\n",
    "    \n",
    "    def __init__(self):\n",
    "        # do something\n",
    "        self.secret_phrase = None\n",
    "        self.secret_seed = None\n",
    "        self.derivation_path = None\n",
    "        self.master_sk = None\n",
    "        self.master_cc = None\n",
    "        self.child_sk = None\n",
    "        self.child_cc = None\n",
    "        self.public_point = None\n",
    "        self.secret_exponent = None\n",
    "        self.tzaddress = None\n",
    "        self.sk_b58 = None\n",
    "        \n",
    "        return\n",
    "    \n",
    "    def __hmac_sha512(self, key, data):\n",
    "        I = (hmac.new(key, data, hl.sha512)).digest()\n",
    "        IL = I[:32]\n",
    "        IR = I[32:]\n",
    "        return IL, IR\n",
    "    \n",
    "    def __parse_path(self, path: str): # default tezos path\n",
    "        if path.endswith('/'):\n",
    "            path = path[:-1]\n",
    "        path = path.split('/')\n",
    "        \n",
    "        if path[0] == 'm' or path[0] == '':\n",
    "            path = path[1:]\n",
    "        \n",
    "        indeces = []\n",
    "        for each in path:\n",
    "            if each.endswith(\"'\"): # hardened\n",
    "                index = (1 << 31) + int(each[:-1])\n",
    "                index = index.to_bytes(4,'big') # from int to bytes\n",
    "            else:\n",
    "                index = int(each)\n",
    "            indeces.append(index)\n",
    "    \n",
    "        return indeces\n",
    "    \n",
    "    def __parent_to_child(self, parent_sk, parent_cc, index):\n",
    "        data = b'\\x00' + parent_sk + index\n",
    "        child_sk, child_cc = self.__hmac_sha512(parent_cc, data)\n",
    "        return child_sk, child_cc\n",
    "    \n",
    "    \n",
    "    # do double sha256 checksum and return the last four bytes of the digest\n",
    "    def __sha256_checksum(self, _bytes):\n",
    "        digest = hl.sha256(hl.sha256(_bytes).digest()).digest()\n",
    "        return digest[:4]\n",
    "    \n",
    "    # 24 word mnemonic phrase to secret seed\n",
    "    def phrase_to_seed(self, phrase:str, password:str = ''):\n",
    "        self.secret_phrase = phrase \n",
    "        passphrase = 'mnemonic' + password\n",
    "        self.secret_seed = hl.pbkdf2_hmac('sha512', self.secret_phrase.encode('utf-8'), passphrase.encode('utf-8'), 2048)\n",
    "        return self.secret_seed.hex()\n",
    "    \n",
    "    # calcuolate master secret key and master chaincode from secret seed\n",
    "    def seed_to_master(self):\n",
    "        self.master_sk, self.master_cc = self.__hmac_sha512(b'ed25519 seed', self.secret_seed)\n",
    "        return self.master_sk.hex(), self.master_cc.hex()\n",
    "    \n",
    "    def derivation_path_to_keys(self, path:str = \"m/44'/1729'/0'/0'\"):\n",
    "        self.derivation_path = path\n",
    "        indeces = self.__parse_path(self.derivation_path)\n",
    "        self.child_sk = self.master_sk\n",
    "        self.child_cc = self.master_cc\n",
    "        for index in indeces:\n",
    "            self.child_sk, self.child_cc = self.__parent_to_child(self.child_sk, self.child_cc, index)\n",
    "    \n",
    "        return self.child_sk.hex(), self.child_cc.hex()\n",
    "    \n",
    "    def base58_checksum(self, data: bytes, prefix: bytes):\n",
    "        _bytes = prefix + data\n",
    "        checksum = self.__sha256_checksum(_bytes)\n",
    "        b58 = Utils.base58(_bytes + checksum)\n",
    "        return b58\n",
    "    \n",
    "    def sk_to_public_point(self, sk): # for Ed25519, the public point is the public key and the secret exponent is the sk || pk\n",
    "        self.public_point, self.secret_exponent = pysodium.crypto_sign_seed_keypair(seed=sk)\n",
    "        return self.public_point, self.secret_exponent\n",
    "        \n",
    "    def pk_hash(self, prefix: bytes = b'\\x06\\xa1\\x9f'): # default prefix is tz1\n",
    "        pkh = blake2b(data=self.public_point, digest_size=20).digest()\n",
    "        self.tzaddress = self.base58_checksum(pkh, prefix)\n",
    "        return self.tzaddress\n",
    "    \n",
    "    def sk_base58(self, prefix: bytes = b'+\\xf6N\\x07'):\n",
    "        self.sk_b58 = self.base58_checksum(self.secret_exponent, prefix)\n",
    "        return self.sk_b58\n",
    "    \n",
    "    def pk_base58(self, prefix: bytes = b'\\r\\x0f%\\xd9'):\n",
    "        self.pk_b58 = self.base58_checksum(self.public_point, prefix)\n",
    "        return self.pk_b58\n",
    "\n",
    "\n",
    "   "
   ]
  },
  {
   "cell_type": "code",
   "execution_count": 71,
   "metadata": {},
   "outputs": [],
   "source": [
    "phrase = 'motor jazz team food when coach reward hidden obtain faculty tornado crew toast inhale purchase conduct cube omit illness carbon ripple thank crew material'"
   ]
  },
  {
   "cell_type": "code",
   "execution_count": 72,
   "metadata": {},
   "outputs": [
    {
     "data": {
      "text/plain": [
       "('8dbdbca8b45da2953a1a487aa89fda6addda80e006bc6ccf876ff22814ab7f48',\n",
       " '71fa2cd0c6d5daf400f4615846f7bd020ef3de0798e14eaa777d2870fd16788e')"
      ]
     },
     "execution_count": 72,
     "metadata": {},
     "output_type": "execute_result"
    }
   ],
   "source": [
    "myWallet = BIP32HDKeys()\n",
    "myWallet.phrase_to_seed(phrase)\n",
    "myWallet.seed_to_master()\n",
    "myWallet.derivation_path_to_keys(\"m/44'/1729'/0'/0'\")"
   ]
  },
  {
   "cell_type": "code",
   "execution_count": 73,
   "metadata": {},
   "outputs": [
    {
     "data": {
      "text/plain": [
       "(b'\\x06\\xc4Z\\xa4\\x19q\\xc6\\xd2E\\x93g\\xde\\xfc\\x0e\\xf7`x\\xbc\\x02@\\xb5dq\\xaa\\xb40Z\\x8f&\\xe6t\\x84',\n",
       " b'\\x8d\\xbd\\xbc\\xa8\\xb4]\\xa2\\x95:\\x1aHz\\xa8\\x9f\\xdaj\\xdd\\xda\\x80\\xe0\\x06\\xbcl\\xcf\\x87o\\xf2(\\x14\\xab\\x7fH\\x06\\xc4Z\\xa4\\x19q\\xc6\\xd2E\\x93g\\xde\\xfc\\x0e\\xf7`x\\xbc\\x02@\\xb5dq\\xaa\\xb40Z\\x8f&\\xe6t\\x84')"
      ]
     },
     "execution_count": 73,
     "metadata": {},
     "output_type": "execute_result"
    }
   ],
   "source": [
    "myWallet.sk_to_public_point(myWallet.child_sk)"
   ]
  },
  {
   "cell_type": "code",
   "execution_count": 74,
   "metadata": {},
   "outputs": [
    {
     "data": {
      "text/plain": [
       "'tz1MN2TrBeSeTvj7Lu3RxeqRwvTcBBo98iza'"
      ]
     },
     "execution_count": 74,
     "metadata": {},
     "output_type": "execute_result"
    }
   ],
   "source": [
    "myWallet.pk_hash(b'\\x06\\xa1\\x9f') # tz1 prefix\n"
   ]
  },
  {
   "cell_type": "code",
   "execution_count": 75,
   "metadata": {},
   "outputs": [
    {
     "data": {
      "text/plain": [
       "'edskRvZKHaBdkQH8tkJZRVUF6kkSdXpEdBhJGFJh2fj9EgyEsAj2fTFNCUrBb2R33rwFgV9MLaqftUsSMqR5PqCL6omkmBMwBC'"
      ]
     },
     "execution_count": 75,
     "metadata": {},
     "output_type": "execute_result"
    }
   ],
   "source": [
    "myWallet.sk_base58(b'+\\xf6N\\x07') # edsk prefix"
   ]
  },
  {
   "cell_type": "code",
   "execution_count": 76,
   "metadata": {},
   "outputs": [
    {
     "data": {
      "text/plain": [
       "'edpkthCnqGYzzKZa3YFJYDDafa5xnZxdQQsHXh8n7qwFu1JRpRAE94'"
      ]
     },
     "execution_count": 76,
     "metadata": {},
     "output_type": "execute_result"
    }
   ],
   "source": [
    "myWallet.pk_base58(b'\\r\\x0f%\\xd9') # "
   ]
  },
  {
   "cell_type": "code",
   "execution_count": 2,
   "metadata": {},
   "outputs": [
    {
     "ename": "NameError",
     "evalue": "name 'mnemonic_to_seed' is not defined",
     "output_type": "error",
     "traceback": [
      "\u001b[0;31m---------------------------------------------------------------------------\u001b[0m",
      "\u001b[0;31mNameError\u001b[0m                                 Traceback (most recent call last)",
      "\u001b[0;32m<ipython-input-2-e4064d375eef>\u001b[0m in \u001b[0;36m<module>\u001b[0;34m\u001b[0m\n\u001b[1;32m      1\u001b[0m \u001b[0;31m# SLIP10 - alternative to BIP32\u001b[0m\u001b[0;34m\u001b[0m\u001b[0;34m\u001b[0m\u001b[0;34m\u001b[0m\u001b[0m\n\u001b[0;32m----> 2\u001b[0;31m \u001b[0mseed\u001b[0m \u001b[0;34m=\u001b[0m \u001b[0mmnemonic_to_seed\u001b[0m\u001b[0;34m(\u001b[0m\u001b[0mphrase\u001b[0m\u001b[0;34m)\u001b[0m \u001b[0;31m# mnemonic to seed\u001b[0m\u001b[0;34m\u001b[0m\u001b[0;34m\u001b[0m\u001b[0m\n\u001b[0m\u001b[1;32m      3\u001b[0m \u001b[0mmaster_sk\u001b[0m\u001b[0;34m,\u001b[0m \u001b[0mmaster_cc\u001b[0m \u001b[0;34m=\u001b[0m \u001b[0mseed_to_master\u001b[0m\u001b[0;34m(\u001b[0m\u001b[0mseed\u001b[0m\u001b[0;34m)\u001b[0m \u001b[0;31m# seed to master secret key and chaincode\u001b[0m\u001b[0;34m\u001b[0m\u001b[0;34m\u001b[0m\u001b[0m\n\u001b[1;32m      4\u001b[0m \u001b[0mchild_sk\u001b[0m\u001b[0;34m,\u001b[0m \u001b[0mchild_cc\u001b[0m \u001b[0;34m=\u001b[0m \u001b[0mderivation_path_to_keys\u001b[0m\u001b[0;34m(\u001b[0m\u001b[0mmaster_sk\u001b[0m\u001b[0;34m,\u001b[0m \u001b[0mmaster_cc\u001b[0m\u001b[0;34m,\u001b[0m \u001b[0;34m\"m/44'/1729'/0'/0'\"\u001b[0m\u001b[0;34m)\u001b[0m \u001b[0;31m# master sk and cc to child sk and cc\u001b[0m\u001b[0;34m\u001b[0m\u001b[0;34m\u001b[0m\u001b[0m\n\u001b[1;32m      5\u001b[0m \u001b[0mpublic_point\u001b[0m\u001b[0;34m,\u001b[0m \u001b[0msecret_exponent\u001b[0m \u001b[0;34m=\u001b[0m \u001b[0msk_to_public_point\u001b[0m\u001b[0;34m(\u001b[0m\u001b[0mchild_sk\u001b[0m\u001b[0;34m)\u001b[0m \u001b[0;31m# public point and secret exponent\u001b[0m\u001b[0;34m\u001b[0m\u001b[0;34m\u001b[0m\u001b[0m\n",
      "\u001b[0;31mNameError\u001b[0m: name 'mnemonic_to_seed' is not defined"
     ]
    }
   ],
   "source": [
    "# SLIP10 - alternative to BIP32\n",
    "\n",
    "\n",
    "seed = mnemonic_to_seed(phrase) # mnemonic to seed\n",
    "master_sk, master_cc = seed_to_master(seed) # seed to master secret key and chaincode \n",
    "child_sk, child_cc = derivation_path_to_keys(master_sk, master_cc, \"m/44'/1729'/0'/0'\") # master sk and cc to child sk and cc\n",
    "public_point, secret_exponent = sk_to_public_point(child_sk) # public point and secret exponent\n",
    "tzaddress = pk_hash(public_point, prefix = b'\\x06\\xa1\\x9f') # prefix b'tz1'\n",
    "secret = blake2b_checksum(secret_exponent, prefix = b'+\\xf6N\\x07') # prefix b'edsk'\n",
    "pk = blake2b_checksum(public_point, prefix = b'\\r\\x0f%\\xd9')\n",
    "print(tzaddress)\n",
    "print(secret)\n",
    "print(pk)"
   ]
  },
  {
   "cell_type": "code",
   "execution_count": 48,
   "metadata": {},
   "outputs": [],
   "source": [
    "def sha256_checksum(_bytes):\n",
    "    digest = hl.sha256(hl.sha256(_bytes).digest()).digest()\n",
    "    return digest[:4]"
   ]
  },
  {
   "cell_type": "code",
   "execution_count": 49,
   "metadata": {},
   "outputs": [
    {
     "data": {
      "text/plain": [
       "b'\\xdb\\xfa\\xc6G\\x903\\x96\\xf2JeiLU!\\x86SgN0A\\xb6e\\xe0\\x8a\\xfc\\xb4S\\x1f3@\\xf7j'"
      ]
     },
     "execution_count": 49,
     "metadata": {},
     "output_type": "execute_result"
    }
   ],
   "source": [
    "myWallet.master_sk"
   ]
  },
  {
   "cell_type": "code",
   "execution_count": 51,
   "metadata": {},
   "outputs": [
    {
     "data": {
      "text/plain": [
       "'5dcc97cd'"
      ]
     },
     "execution_count": 51,
     "metadata": {},
     "output_type": "execute_result"
    }
   ],
   "source": [
    "sha256_checksum(myWallet.master_sk).hex()"
   ]
  },
  {
   "cell_type": "code",
   "execution_count": null,
   "metadata": {},
   "outputs": [],
   "source": []
  }
 ],
 "metadata": {
  "kernelspec": {
   "display_name": "Python 3",
   "language": "python",
   "name": "python3"
  },
  "language_info": {
   "codemirror_mode": {
    "name": "ipython",
    "version": 3
   },
   "file_extension": ".py",
   "mimetype": "text/x-python",
   "name": "python",
   "nbconvert_exporter": "python",
   "pygments_lexer": "ipython3",
   "version": "3.8.10"
  }
 },
 "nbformat": 4,
 "nbformat_minor": 4
}
