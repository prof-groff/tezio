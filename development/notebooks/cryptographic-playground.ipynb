{
 "cells": [
  {
   "cell_type": "markdown",
   "metadata": {},
   "source": [
    "## Mnemonics"
   ]
  },
  {
   "cell_type": "code",
   "execution_count": 1,
   "metadata": {},
   "outputs": [],
   "source": [
    "from mnemonic import Mnemonic\n",
    "from cryptoHelpers import *"
   ]
  },
  {
   "cell_type": "code",
   "execution_count": 2,
   "metadata": {},
   "outputs": [
    {
     "name": "stdout",
     "output_type": "stream",
     "text": [
      "sad forest jealous swap insane over intact deliver kiss know budget toddler\n"
     ]
    }
   ],
   "source": [
    "mnemo = Mnemonic(\"english\")\n",
    "words = mnemo.generate(128)\n",
    "print(words)"
   ]
  },
  {
   "cell_type": "code",
   "execution_count": 3,
   "metadata": {},
   "outputs": [
    {
     "data": {
      "text/plain": [
       "b'\\xd4\\xb0\\xba\\xa5\\x13\\x83\\xfa\\xb8\\xdf\\xcc\\x94\\xff\\xf569\\x8e\\x08\\t\\x8dL\\xd2\\xecX$v\\xcdQv\\x7fH~\\x8ex\\xee2>\\xc1\\xd1O5\\x04}\\xb7\\xeak\\x9c\\xc6H\\xdf\\xb7S7\\x8c\\xb2\\x83:\\x82\\x01(\\xdd\\xa3$\\xe6p'"
      ]
     },
     "execution_count": 3,
     "metadata": {},
     "output_type": "execute_result"
    }
   ],
   "source": [
    "seed = mnemo.to_seed(words)\n",
    "seed"
   ]
  },
  {
   "cell_type": "code",
   "execution_count": 4,
   "metadata": {},
   "outputs": [
    {
     "data": {
      "text/plain": [
       "bytearray(b'\\xbd\\xabe\\xdem\\xa7O;\\xdda\\xd0z\\xcf|vq')"
      ]
     },
     "execution_count": 4,
     "metadata": {},
     "output_type": "execute_result"
    }
   ],
   "source": [
    "entropy = mnemo.to_entropy(words)\n",
    "entropy"
   ]
  },
  {
   "cell_type": "code",
   "execution_count": null,
   "metadata": {},
   "outputs": [],
   "source": []
  },
  {
   "cell_type": "markdown",
   "metadata": {},
   "source": [
    "## CRC16\n",
    "\n",
    "Cyclic Redundancy Check"
   ]
  },
  {
   "cell_type": "code",
   "execution_count": 5,
   "metadata": {},
   "outputs": [],
   "source": [
    "def crc16(data: bytes, poly: int = 0x8005, reg: int = 0x0000):\n",
    "    # No reflections on input or output.\n",
    "    # \n",
    "    # data: bytes - data to apply crc algorithm to\n",
    "    # param: poly - generator polinomial, default 0b1000000000000101\n",
    "    # actual generator is 0x18005, 0b11000000000000101 but msb gets checked before shift\n",
    "    \n",
    "    data = bytearray(data)\n",
    "    \n",
    "    # pad with zeros to width of poly, 16-bits\n",
    "    data += bytearray(b'\\x00\\x00')\n",
    "\n",
    "    for octet in data:\n",
    "        for ii in range(8):\n",
    "            msb = reg & 0x8000 # isolate most significant bit\n",
    "            reg <<= 1 # shift the register\n",
    "            reg ^= (octet >> 7-ii) & 0x01\n",
    "            reg &= 0xFFFF # keep 16 bits, discard the rest\n",
    "            if msb:\n",
    "                reg ^= poly\n",
    "            \n",
    "            reg &= 0xFFFF # keep 16 bits, discard the rest\n",
    "        \n",
    "    return reg\n"
   ]
  },
  {
   "cell_type": "code",
   "execution_count": 6,
   "metadata": {},
   "outputs": [
    {
     "name": "stdout",
     "output_type": "stream",
     "text": [
      "bytearray(b'abcd')\n",
      "0x58e7\n"
     ]
    }
   ],
   "source": [
    "data = bytearray('abcd','utf-8')\n",
    "print(data)\n",
    "print(hex(crc16(data)))"
   ]
  },
  {
   "cell_type": "code",
   "execution_count": 7,
   "metadata": {},
   "outputs": [],
   "source": [
    "# alternative implementation, which I don't fully understand\n",
    "# no padding of data and strange extra xor to msb if a bit in octet is a one\n",
    "def crc16(data: bytes, poly: int = 0x8005, reg: int = 0x0000) -> int:\n",
    "    # does not perform any reflections on input or output\n",
    "    # param: data - bytes to apply checksum\n",
    "    # param: poly - generator polinomial, default 0b1000000000000101\n",
    "    if data is None:\n",
    "        return 0\n",
    "\n",
    "    for octet in data:\n",
    "        \n",
    "        for i in range(8):\n",
    "            msb = reg & 0x8000\n",
    "            if octet & (0x80 >> i):\n",
    "                msb ^= 0x8000\n",
    "            reg <<= 1\n",
    "            if msb:\n",
    "                reg ^= poly\n",
    "        reg &= 0xFFFF\n",
    "        \n",
    "    return reg "
   ]
  },
  {
   "cell_type": "code",
   "execution_count": 8,
   "metadata": {},
   "outputs": [
    {
     "name": "stdout",
     "output_type": "stream",
     "text": [
      "bytearray(b'abcd')\n",
      "0x58e7\n"
     ]
    }
   ],
   "source": [
    "data = bytearray('abcd','utf-8')\n",
    "print(data)\n",
    "print(hex(crc16(data)))"
   ]
  },
  {
   "cell_type": "markdown",
   "metadata": {},
   "source": [
    "## Generate Tezos Keys From Mnemonic"
   ]
  },
  {
   "cell_type": "code",
   "execution_count": 9,
   "metadata": {},
   "outputs": [],
   "source": [
    "from mnemonic import Mnemonic\n",
    "import hashlib as hl"
   ]
  },
  {
   "cell_type": "code",
   "execution_count": 10,
   "metadata": {},
   "outputs": [],
   "source": [
    "# import the vocabulary\n",
    "f = open('bip39english.txt', 'r')\n",
    "vocab = [line.strip('\\n') for line in f]\n",
    "f.close()"
   ]
  },
  {
   "cell_type": "code",
   "execution_count": 11,
   "metadata": {},
   "outputs": [
    {
     "name": "stdout",
     "output_type": "stream",
     "text": [
      "champion escape slogan daughter section sand hero talent charge crew state pond retire service runway inquiry spice steel skirt turn bird organ change giraffe\n"
     ]
    }
   ],
   "source": [
    "# 160 gives 15 word mnemonic and 256 gives 24 words\n",
    "mnemo = Mnemonic('english')\n",
    "phrase = mnemo.generate(256)\n",
    "print(phrase)\n",
    "entropy = mnemo.to_entropy(phrase)\n",
    "entropy_list = list(entropy)"
   ]
  },
  {
   "cell_type": "code",
   "execution_count": 12,
   "metadata": {},
   "outputs": [
    {
     "data": {
      "text/plain": [
       "'2609a32f9bec2b7e5ad6eb26866b5353eb7f886f5ba6d19aa72af5616938c98b'"
      ]
     },
     "execution_count": 12,
     "metadata": {},
     "output_type": "execute_result"
    }
   ],
   "source": [
    "entropy.hex()"
   ]
  },
  {
   "cell_type": "code",
   "execution_count": 13,
   "metadata": {},
   "outputs": [
    {
     "data": {
      "text/plain": [
       "8"
      ]
     },
     "execution_count": 13,
     "metadata": {},
     "output_type": "execute_result"
    }
   ],
   "source": [
    "eLength = len(entropy)*8 # length in bits\n",
    "csLength = int(eLength/32) # checksum length\n",
    "csLength"
   ]
  },
  {
   "cell_type": "code",
   "execution_count": 14,
   "metadata": {},
   "outputs": [],
   "source": [
    "h = hl.sha256()\n",
    "h.update(entropy)\n",
    "entropy.append(h.digest()[0])"
   ]
  },
  {
   "cell_type": "code",
   "execution_count": 15,
   "metadata": {},
   "outputs": [
    {
     "data": {
      "text/plain": [
       "'2609a32f9bec2b7e5ad6eb26866b5353eb7f886f5ba6d19aa72af5616938c98b11'"
      ]
     },
     "execution_count": 15,
     "metadata": {},
     "output_type": "execute_result"
    }
   ],
   "source": [
    "entropy.hex()"
   ]
  },
  {
   "cell_type": "code",
   "execution_count": 16,
   "metadata": {},
   "outputs": [
    {
     "data": {
      "text/plain": [
       "b'\\x1d\\xb1\\xddF\\xf9/8\\x17`\\xbf\\xc5\\xf2\\xb7z\\xa4K\\x00\\x15E\\x8d\"\\xd1\\x05\\x8f]c\\xa1\\xc9\\xbb\\xfd(\\xa7\\xa9tZ\\xb6\\xe1\\xabb>[\"\\x1dX\\xc1ri\\xfbk\\xda>a\\xba\\x0bK\\xbfB\\x98A\\x89\\x1cY\\xf2z'"
      ]
     },
     "execution_count": 16,
     "metadata": {},
     "output_type": "execute_result"
    }
   ],
   "source": [
    "# hash\n",
    "mnemo.to_seed(phrase)"
   ]
  },
  {
   "cell_type": "code",
   "execution_count": 17,
   "metadata": {},
   "outputs": [
    {
     "name": "stdout",
     "output_type": "stream",
     "text": [
      "[0, 0, 1, 0, 0, 1, 1, 0, 0, 0, 0, 0, 1, 0, 0, 1, 1, 0, 1, 0, 0, 0, 1, 1, 0, 0, 1, 0, 1, 1, 1, 1, 1, 0, 0, 1, 1, 0, 1, 1, 1, 1, 1, 0, 1, 1, 0, 0, 0, 0, 1, 0, 1, 0, 1, 1, 0, 1, 1, 1, 1, 1, 1, 0, 0, 1, 0, 1, 1, 0, 1, 0, 1, 1, 0, 1, 0, 1, 1, 0, 1, 1, 1, 0, 1, 0, 1, 1, 0, 0, 1, 0, 0, 1, 1, 0, 1, 0, 0, 0, 0, 1, 1, 0, 0, 1, 1, 0, 1, 0, 1, 1, 0, 1, 0, 1, 0, 0, 1, 1, 0, 1, 0, 1, 0, 0, 1, 1, 1, 1, 1, 0, 1, 0, 1, 1, 0, 1, 1, 1, 1, 1, 1, 1, 1, 0, 0, 0, 1, 0, 0, 0, 0, 1, 1, 0, 1, 1, 1, 1, 0, 1, 0, 1, 1, 0, 1, 1, 1, 0, 1, 0, 0, 1, 1, 0, 1, 1, 0, 1, 0, 0, 0, 1, 1, 0, 0, 1, 1, 0, 1, 0, 1, 0, 1, 0, 0, 1, 1, 1, 0, 0, 1, 0, 1, 0, 1, 0, 1, 1, 1, 1, 0, 1, 0, 1, 0, 1, 1, 0, 0, 0, 0, 1, 0, 1, 1, 0, 1, 0, 0, 1, 0, 0, 1, 1, 1, 0, 0, 0, 1, 1, 0, 0, 1, 0, 0, 1, 1, 0, 0, 0, 1, 0, 1, 1, 0, 0, 0, 1, 0, 0, 0, 1]\n"
     ]
    }
   ],
   "source": [
    "# convert byte array to bit array\n",
    "bits = []\n",
    "for byte in entropy:\n",
    "    for i in range(8):\n",
    "        if (byte & 0b10000000 >> i):\n",
    "            bits.append(1)\n",
    "        else:\n",
    "            bits.append(0)\n",
    "        \n",
    "print(bits)"
   ]
  },
  {
   "cell_type": "code",
   "execution_count": 18,
   "metadata": {},
   "outputs": [
    {
     "name": "stdout",
     "output_type": "stream",
     "text": [
      "champion escape slogan daughter section sand hero talent charge crew state pond retire service runway inquiry spice steel skirt turn bird organ change giraffe\n"
     ]
    }
   ],
   "source": [
    "# iterate through with 11 bit chunks\n",
    "my_words = []\n",
    "for k in range(0,int(len(bits)/11)):\n",
    "    chunk = bits[k*11:k*11+11]\n",
    "    index = 0\n",
    "    for j in range(11):\n",
    "        index += chunk[j]*2**(11-1-j)\n",
    "    my_words.append(vocab[index])\n",
    "my_phrase = ' '.join(my_words)\n",
    "print(my_phrase)"
   ]
  },
  {
   "cell_type": "code",
   "execution_count": 75,
   "metadata": {},
   "outputs": [
    {
     "data": {
      "text/plain": [
       "['champion',\n",
       " 'escape',\n",
       " 'slogan',\n",
       " 'daughter',\n",
       " 'section',\n",
       " 'sand',\n",
       " 'hero',\n",
       " 'talent',\n",
       " 'charge',\n",
       " 'crew',\n",
       " 'state',\n",
       " 'pond',\n",
       " 'retire',\n",
       " 'service',\n",
       " 'runway',\n",
       " 'inquiry',\n",
       " 'spice',\n",
       " 'steel',\n",
       " 'skirt',\n",
       " 'turn',\n",
       " 'bird',\n",
       " 'organ',\n",
       " 'change',\n",
       " 'giraffe']"
      ]
     },
     "execution_count": 75,
     "metadata": {},
     "output_type": "execute_result"
    }
   ],
   "source": [
    "my_words"
   ]
  },
  {
   "cell_type": "markdown",
   "metadata": {},
   "source": [
    "### Mnemonic to Seed"
   ]
  },
  {
   "cell_type": "code",
   "execution_count": 76,
   "metadata": {},
   "outputs": [
    {
     "data": {
      "text/plain": [
       "b'\\x1d\\xb1\\xddF\\xf9/8\\x17`\\xbf\\xc5\\xf2\\xb7z\\xa4K\\x00\\x15E\\x8d\"\\xd1\\x05\\x8f]c\\xa1\\xc9\\xbb\\xfd(\\xa7\\xa9tZ\\xb6\\xe1\\xabb>[\"\\x1dX\\xc1ri\\xfbk\\xda>a\\xba\\x0bK\\xbfB\\x98A\\x89\\x1cY\\xf2z'"
      ]
     },
     "execution_count": 76,
     "metadata": {},
     "output_type": "execute_result"
    }
   ],
   "source": [
    "passphrase = ''\n",
    "PBKDF2_ROUNDS = 2048\n",
    "mnemonic = my_phrase\n",
    "passphrase = \"mnemonic\" + passphrase\n",
    "mnemonic_bytes = mnemonic.encode(\"utf-8\")\n",
    "passphrase_bytes = passphrase.encode(\"utf-8\")\n",
    "stretched = hl.pbkdf2_hmac(\"sha512\", mnemonic_bytes, passphrase_bytes, PBKDF2_ROUNDS)\n",
    "seed = stretched[:64]\n",
    "seed"
   ]
  },
  {
   "cell_type": "code",
   "execution_count": 77,
   "metadata": {},
   "outputs": [
    {
     "data": {
      "text/plain": [
       "'1db1dd46f92f381760bfc5f2b77aa44b0015458d22d1058f5d63a1c9bbfd28a7'"
      ]
     },
     "execution_count": 77,
     "metadata": {},
     "output_type": "execute_result"
    }
   ],
   "source": [
    "# for P256/secp256r1 secret exponent is the first 32 bytes of the seed\n",
    "secret_exponent = seed[:32]\n",
    "secret_exponent.hex()"
   ]
  },
  {
   "cell_type": "code",
   "execution_count": 61,
   "metadata": {},
   "outputs": [],
   "source": [
    "# P256\n",
    "import fastecdsa.keys \n",
    "import fastecdsa.curve\n",
    "from fastecdsa.encoding.util import bytes_to_int\n",
    "import fastecdsa.encoding.sec1\n",
    "from pyblake2 import blake2b\n",
    "from pytezos.crypto.encoding import base58_decode, base58_encode\n",
    "\n",
    "pk = fastecdsa.keys.get_public_key(bytes_to_int(secret_exponent), curve=fastecdsa.curve.P256)\n",
    "public_point = fastecdsa.encoding.sec1.SEC1Encoder.encode_public_key(pk)"
   ]
  },
  {
   "cell_type": "code",
   "execution_count": null,
   "metadata": {},
   "outputs": [],
   "source": []
  },
  {
   "cell_type": "code",
   "execution_count": 63,
   "metadata": {},
   "outputs": [
    {
     "data": {
      "text/plain": [
       "X: 0xd74c9f1235de2f3fa48c6690cb96472a374ecca57a14611f510d1efcb0bd6b80\n",
       "Y: 0x9bb0edbd824de9b8838f2f91005d1c4b922bf32065748ebe1937879dd59c1096\n",
       "(On curve <P256>)"
      ]
     },
     "execution_count": 63,
     "metadata": {},
     "output_type": "execute_result"
    }
   ],
   "source": [
    "pk"
   ]
  },
  {
   "cell_type": "code",
   "execution_count": 64,
   "metadata": {},
   "outputs": [
    {
     "data": {
      "text/plain": [
       "b'\\x02\\xd7L\\x9f\\x125\\xde/?\\xa4\\x8cf\\x90\\xcb\\x96G*7N\\xcc\\xa5z\\x14a\\x1fQ\\r\\x1e\\xfc\\xb0\\xbdk\\x80'"
      ]
     },
     "execution_count": 64,
     "metadata": {},
     "output_type": "execute_result"
    }
   ],
   "source": [
    "public_point"
   ]
  },
  {
   "cell_type": "code",
   "execution_count": 65,
   "metadata": {},
   "outputs": [
    {
     "data": {
      "text/plain": [
       "'02d74c9f1235de2f3fa48c6690cb96472a374ecca57a14611f510d1efcb0bd6b80'"
      ]
     },
     "execution_count": 65,
     "metadata": {},
     "output_type": "execute_result"
    }
   ],
   "source": [
    "public_point.hex()"
   ]
  },
  {
   "cell_type": "code",
   "execution_count": 42,
   "metadata": {},
   "outputs": [
    {
     "data": {
      "text/plain": [
       "33"
      ]
     },
     "execution_count": 42,
     "metadata": {},
     "output_type": "execute_result"
    }
   ],
   "source": [
    "len(public_point)"
   ]
  },
  {
   "cell_type": "code",
   "execution_count": 43,
   "metadata": {},
   "outputs": [
    {
     "name": "stdout",
     "output_type": "stream",
     "text": [
      "a64ddd59755e9aa9170290fa6c661a5e822b813a\n"
     ]
    }
   ],
   "source": [
    "pkh = blake2b(data=public_point, digest_size=20).digest()\n",
    "print(pkh.hex())\n",
    "prefix = b'tz3'\n",
    "public_hash = base58_encode(pkh, prefix).decode()"
   ]
  },
  {
   "cell_type": "code",
   "execution_count": 44,
   "metadata": {},
   "outputs": [
    {
     "data": {
      "text/plain": [
       "'tz3bVP4dsGWhTpBjkuef7Pww8fSEFSQddfZW'"
      ]
     },
     "execution_count": 44,
     "metadata": {},
     "output_type": "execute_result"
    }
   ],
   "source": [
    "public_hash"
   ]
  },
  {
   "cell_type": "code",
   "execution_count": 50,
   "metadata": {},
   "outputs": [
    {
     "data": {
      "text/plain": [
       "33"
      ]
     },
     "execution_count": 50,
     "metadata": {},
     "output_type": "execute_result"
    }
   ],
   "source": [
    "len(public_point)"
   ]
  },
  {
   "cell_type": "code",
   "execution_count": 101,
   "metadata": {},
   "outputs": [
    {
     "name": "stdout",
     "output_type": "stream",
     "text": [
      "98fe664776a112c744236d75f93625d3ea70356e\n",
      "tz3aH15ouCQdPLpizWnqKNidAxNMXUfKNKFv\n"
     ]
    }
   ],
   "source": [
    "# try a different public point\n",
    "pp = bytes([0x02, 0xc5, 0x82, 0x56, 0xe7, 0xe8, 0x3c, 0xf0, 0xd0, 0x17, 0x6b,\n",
    "            0x25, 0x56, 0x08, 0xd7, 0x41, 0x79, 0x85, 0xdf, 0x69, 0x51, 0x9c,\n",
    "            0x2B, 0x14, 0xd1, 0x29, 0xe8, 0xd5, 0x6a, 0x3e, 0xb5, 0x38, 0xde])\n",
    "\n",
    "\n",
    "pkh = blake2b(data=pp, digest_size=20).digest()\n",
    "print(pkh.hex())\n",
    "prefix = b'tz3'\n",
    "public_hash = base58_encode(pkh, prefix).decode()\n",
    "print(public_hash)"
   ]
  },
  {
   "cell_type": "code",
   "execution_count": 96,
   "metadata": {},
   "outputs": [
    {
     "data": {
      "text/plain": [
       "'03b28b7f'"
      ]
     },
     "execution_count": 96,
     "metadata": {},
     "output_type": "execute_result"
    }
   ],
   "source": [
    "prefix = b'\\x03\\xb2\\x8b\\x7f'\n",
    "prefix.hex()"
   ]
  },
  {
   "cell_type": "code",
   "execution_count": 102,
   "metadata": {},
   "outputs": [],
   "source": [
    "def tb(l):\n",
    "    return b''.join(map(lambda x: x.to_bytes(1, 'big'), l))"
   ]
  },
  {
   "cell_type": "code",
   "execution_count": 103,
   "metadata": {},
   "outputs": [
    {
     "data": {
      "text/plain": [
       "'06a1a4'"
      ]
     },
     "execution_count": 103,
     "metadata": {},
     "output_type": "execute_result"
    }
   ],
   "source": [
    "tb([6, 161, 164]).hex()"
   ]
  },
  {
   "cell_type": "markdown",
   "metadata": {},
   "source": [
    "## Compare to PyTezos Results"
   ]
  },
  {
   "cell_type": "code",
   "execution_count": 45,
   "metadata": {},
   "outputs": [],
   "source": [
    "import pytezos as pytezos\n",
    "from pytezos.crypto.key import Key"
   ]
  },
  {
   "cell_type": "code",
   "execution_count": 69,
   "metadata": {},
   "outputs": [
    {
     "data": {
      "text/plain": [
       "<pytezos.crypto.key.Key object at 0x7f8999d64160>\n",
       "\n",
       "Public key hash\n",
       "tz3bVP4dsGWhTpBjkuef7Pww8fSEFSQddfZW\n",
       "\n",
       "Helpers\n",
       ".blinded_public_key_hash()\n",
       ".from_alias()\n",
       ".from_encoded_key()\n",
       ".from_faucet()\n",
       ".from_mnemonic()\n",
       ".from_public_point()\n",
       ".from_secret_exponent()\n",
       ".generate()\n",
       ".public_key()\n",
       ".public_key_hash()\n",
       ".secret_key()\n",
       ".sign()\n",
       ".verify()"
      ]
     },
     "execution_count": 69,
     "metadata": {},
     "output_type": "execute_result"
    }
   ],
   "source": [
    "p2pk = Key.from_public_point(\n",
    "    bytes.fromhex('02d74c9f1235de2f3fa48c6690cb96472a374ecca57a14611f510d1efcb0bd6b80'), \n",
    "    curve=b'p2')\n",
    "p2pk"
   ]
  },
  {
   "cell_type": "code",
   "execution_count": 70,
   "metadata": {},
   "outputs": [],
   "source": [
    "sk = Key.from_mnemonic(mnemonic = my_words, curve=b'p2')"
   ]
  },
  {
   "cell_type": "code",
   "execution_count": null,
   "metadata": {},
   "outputs": [],
   "source": []
  },
  {
   "cell_type": "code",
   "execution_count": 71,
   "metadata": {},
   "outputs": [
    {
     "data": {
      "text/plain": [
       "'tz3bVP4dsGWhTpBjkuef7Pww8fSEFSQddfZW'"
      ]
     },
     "execution_count": 71,
     "metadata": {},
     "output_type": "execute_result"
    }
   ],
   "source": [
    "sk.public_key_hash()"
   ]
  },
  {
   "cell_type": "code",
   "execution_count": 72,
   "metadata": {},
   "outputs": [
    {
     "data": {
      "text/plain": [
       "'p2pk66CyvDM2vfHmGbHHHWZGgYqL5VtxUFaMYFpFaMZTcQAZ1iriQLs'"
      ]
     },
     "execution_count": 72,
     "metadata": {},
     "output_type": "execute_result"
    }
   ],
   "source": [
    "message = sk.public_key()\n",
    "message"
   ]
  },
  {
   "cell_type": "code",
   "execution_count": 56,
   "metadata": {},
   "outputs": [
    {
     "data": {
      "text/plain": [
       "55"
      ]
     },
     "execution_count": 56,
     "metadata": {},
     "output_type": "execute_result"
    }
   ],
   "source": [
    "len(sk.public_key())"
   ]
  },
  {
   "cell_type": "code",
   "execution_count": 73,
   "metadata": {},
   "outputs": [
    {
     "data": {
      "text/plain": [
       "'p2sk2ZsKUyRG8yJ3QcNNwjdx3qUCqpx5Myeb6QhRMeSdRJBYiqzupz'"
      ]
     },
     "execution_count": 73,
     "metadata": {},
     "output_type": "execute_result"
    }
   ],
   "source": [
    "sk.secret_key()"
   ]
  },
  {
   "cell_type": "code",
   "execution_count": 58,
   "metadata": {},
   "outputs": [
    {
     "data": {
      "text/plain": [
       "'1db1dd46f92f381760bfc5f2b77aa44b0015458d22d1058f5d63a1c9bbfd28a7'"
      ]
     },
     "execution_count": 58,
     "metadata": {},
     "output_type": "execute_result"
    }
   ],
   "source": [
    "secret_exponent.hex()"
   ]
  },
  {
   "cell_type": "code",
   "execution_count": 81,
   "metadata": {},
   "outputs": [],
   "source": [
    "p2pkb = Key.from_secret_exponent(secret_exponent, curve=b'p2')"
   ]
  },
  {
   "cell_type": "code",
   "execution_count": 87,
   "metadata": {},
   "outputs": [
    {
     "name": "stdout",
     "output_type": "stream",
     "text": [
      "p2sk2ZsKUyRG8yJ3QcNNwjdx3qUCqpx5Myeb6QhRMeSdRJBYiqzupz\n"
     ]
    }
   ],
   "source": [
    "p2skb = p2pkb.secret_key()\n",
    "print(p2skb)"
   ]
  },
  {
   "cell_type": "code",
   "execution_count": 95,
   "metadata": {},
   "outputs": [
    {
     "data": {
      "text/plain": [
       "'0e0038311338013839'"
      ]
     },
     "execution_count": 95,
     "metadata": {},
     "output_type": "execute_result"
    }
   ],
   "source": [
    "b'\\016\\081\\238\\189'.hex()"
   ]
  },
  {
   "cell_type": "raw",
   "metadata": {},
   "source": [
    "The Base58 Encoding Algorithm\n",
    "\n",
    "To encode an array of bytes to a Base58 encoded value, run the following algorithm. All mathematical operations MUST be performed using integer arithmetic. Start by initializing a 'zero_counter' to zero (0x0), an 'encoding_flag' to zero (0x0), a 'b58_bytes' array, a 'b58_encoding' array, and a 'carry' value to zero (0x0). For each byte in the array of bytes and while 'carry' does not equal zero (0x0) after the first iteration:\n",
    "\n",
    "If 'encoding_flag' is not set, and if the byte is a zero (0x0), increment the value of 'zero_counter'. If the value is not zero (0x0), set 'encoding_flag' to true (0x1).\n",
    "If 'encoding_flag' is set, multiply the current byte value by 256 and add it to 'carry'.\n",
    "Set the corresponding byte value in 'b58_bytes' to the value of 'carry' modulus 58.\n",
    "Set 'carry' to the value of 'carry' divided by 58.\n",
    "Once the 'b58_bytes' array has been constructed, generate the final 'b58_encoding' using the following algorithm. Set the first 'zero_counter' bytes in 'b58_encoding' to '1'. Then, for every byte in 'b58_array', map the byte value using the Base58 alphabet in the previous section to its corresponding character in 'b58_encoding'. Return 'b58_encoding' as the Base58 representation of the input array of bytes.\n",
    "\n",
    "The Base58 Decoding Algorithm\n",
    "\n",
    "To decode a Base58 encoded array of bytes to a decoded array of bytes, run the following algorithm. All mathematical operations MUST be performed using integer arithmetic. Start by initializing a 'raw_bytes' array, and a 'carry' value to zero (0x0). For each input byte in the array of input bytes:\n",
    "\n",
    "Set 'carry' to the byte value associated with the input byte character. If a mapping does not exist, return an error code.\n",
    "While 'carry' does not equal zero and there are input bytes remaining:\n",
    "Multiply the input byte value by 58 and add it to 'carry'.\n",
    "Set the output byte value to 'carry' modulus 256.\n",
    "Set 'carry' to the value of 'carry' divided by 256.\n",
    "Set the corresponding byte value in 'raw_bytes' to the value of 'carry' modulus 58.\n",
    "Set 'carry' to the value of 'carry' divided by 58."
   ]
  },
  {
   "cell_type": "markdown",
   "metadata": {},
   "source": [
    "### Base58 Encoding"
   ]
  },
  {
   "cell_type": "code",
   "execution_count": 152,
   "metadata": {},
   "outputs": [],
   "source": [
    "b58_alphabet = '123456789ABCDEFGHJKLMNPQRSTUVWXYZabcdefghijkmnopqrstuvwxyz'"
   ]
  },
  {
   "cell_type": "code",
   "execution_count": 153,
   "metadata": {},
   "outputs": [],
   "source": [
    "message = 'Hello World!'\n",
    "message = bytearray(message, 'utf-8')"
   ]
  },
  {
   "cell_type": "code",
   "execution_count": 154,
   "metadata": {},
   "outputs": [
    {
     "name": "stdout",
     "output_type": "stream",
     "text": [
      "72\n",
      "101\n",
      "108\n",
      "108\n",
      "111\n",
      "32\n",
      "87\n",
      "111\n",
      "114\n",
      "108\n",
      "100\n",
      "33\n"
     ]
    }
   ],
   "source": [
    "for each in message:\n",
    "    print(each)"
   ]
  },
  {
   "cell_type": "raw",
   "metadata": {},
   "source": [
    "inline static constexpr const uint8_t base58map[] = {\n",
    "\t'1', '2', '3', '4', '5', '6', '7', '8',\n",
    "\t'9', 'A', 'B', 'C', 'D', 'E', 'F', 'G',\n",
    "\t'H', 'J', 'K', 'L', 'M', 'N', 'P', 'Q',\n",
    "\t'R', 'S', 'T', 'U', 'V', 'W', 'X', 'Y',\n",
    "\t'Z', 'a', 'b', 'c', 'd', 'e', 'f', 'g',\n",
    "\t'h', 'i', 'j', 'k', 'm', 'n', 'o', 'p',\n",
    "\t'q', 'r', 's', 't', 'u', 'v', 'w', 'x',\n",
    "\t'y', 'z' };\n",
    "\n",
    "std::string EncodeBase58(const std::vector<uint8_t>& data, const uint8_t* mapping)\n",
    "{\n",
    "\tstd::vector<uint8_t> digits((data.size() * 138 / 100) + 1);\n",
    "\tsize_t digitslen = 1;\n",
    "\tfor (size_t i = 0; i < data.size(); i++)\n",
    "\t{\n",
    "\t\tuint32_t carry = static_cast<uint32_t>(data[i]);\n",
    "\t\tfor (size_t j = 0; j < digitslen; j++)\n",
    "\t\t{\n",
    "\t\t\tcarry = carry + static_cast<uint32_t>(digits[j] << 8);\n",
    "\t\t\tdigits[j] = static_cast<uint8_t>(carry % 58);\n",
    "\t\t\tcarry /= 58;\n",
    "\t\t}\n",
    "\t\tfor (; carry; carry /= 58)\n",
    "\t\t\tdigits[digitslen++] = static_cast<uint8_t>(carry % 58);\n",
    "\t}\n",
    "\tstd::string result;\n",
    "\tfor (size_t i = 0; i < (data.size() - 1) && !data[i]; i++)\n",
    "\t\tresult.push_back(mapping[0]);\n",
    "\tfor (size_t i = 0; i < digitslen; i++)\n",
    "\t\tresult.push_back(mapping[digits[digitslen - 1 - i]]);\n",
    "\treturn result;\n",
    "}\n",
    "\n",
    "Usage:\n",
    "\tstd::vector<uint8_t> data{ 'h', 'e', 'l', 'l', 'o', ' ', 'w', 'o', 'r', 'l', 'd' };\n",
    "\tstd::string result = EncodeBase58(data, base58map);"
   ]
  },
  {
   "cell_type": "code",
   "execution_count": 155,
   "metadata": {},
   "outputs": [
    {
     "name": "stdout",
     "output_type": "stream",
     "text": [
      "['2', 'N', 'E', 'p', 'o', '7', 'T', 'Z', 'R', 'R', 'r', 'L', 'Z', 'S', 'i', '2', 'U']\n"
     ]
    }
   ],
   "source": [
    "# try to adapt some c++ code to do base58 encoding\n",
    "\n",
    "data = bytearray(b'Hello World!')\n",
    "# prepend = bytearray(b'\\x00\\x00')\n",
    "prepend = bytearray(b'')\n",
    "data = prepend + data\n",
    "\n",
    "base58map = ['1', '2', '3', '4', '5', '6', '7', '8',\n",
    "             '9', 'A', 'B', 'C', 'D', 'E', 'F', 'G',\n",
    "             'H', 'J', 'K', 'L', 'M', 'N', 'P', 'Q',\n",
    "             'R', 'S', 'T', 'U', 'V', 'W', 'X', 'Y',\n",
    "             'Z', 'a', 'b', 'c', 'd', 'e', 'f', 'g',\n",
    "             'h', 'i', 'j', 'k', 'm', 'n', 'o', 'p',\n",
    "             'q', 'r', 's', 't', 'u', 'v', 'w', 'x',\n",
    "             'y', 'z' ]\n",
    "b58_size = int(len(data)*138/100) + 1 # minimum size of b58 encode\n",
    "digits = [0]*b58_size\n",
    "digitslen = 1\n",
    "\n",
    "encode_flag = False\n",
    "leading_zeros = 0\n",
    "\n",
    "for i in range(len(data)):\n",
    "    if (not(encode_flag) and data[i] == 0):\n",
    "        leading_zeros = leading_zeros + 1\n",
    "    if (not(encode_flag) and data[i] != 0):\n",
    "        encode_flag = True\n",
    "   \n",
    "    if (encode_flag):\n",
    "        carry = data[i] # carry needs to be uint32_t in C++\n",
    "        for j in range(digitslen):\n",
    "            carry = carry + (digits[j]<<8) # digits[j] must be recast as a uint32_t in C++, same as <<8\n",
    "            digits[j] = carry%58\n",
    "            carry = int(carry/58)\n",
    "        while (carry > 0):\n",
    "            digits[digitslen] = carry%58\n",
    "            digitslen = digitslen+1\n",
    "            carry=int(carry/58)\n",
    "\n",
    "# trim unused digits from digits\n",
    "digits = digits[:digitslen]\n",
    "            \n",
    "for k in range(leading_zeros):\n",
    "    digits.append(0)\n",
    "\n",
    "digits.reverse()\n",
    "\n",
    "base58_data = []\n",
    "for each in digits:\n",
    "    base58_data.append(base58map[each])\n",
    "print(base58_data)"
   ]
  },
  {
   "cell_type": "markdown",
   "metadata": {},
   "source": [
    "### Blake2b Hash\n",
    "\n",
    "Implemented with a hash length of 20 bytes and no key utilization.\n",
    "\n",
    "Blake2b does mathamatical operations on 64-bit words but here these are recast as operations on 8, 8-bit bytes because I want to implement eventually on an microcontroller."
   ]
  },
  {
   "cell_type": "code",
   "execution_count": 156,
   "metadata": {},
   "outputs": [],
   "source": [
    "# parameters\n",
    "w = 64 # bits in words\n",
    "r = 12 # rounds of message mixing\n",
    "bb = 128 # bytes in each block/chunk\n",
    "hash_bytes = 20 # bytes in hash, 1 to 64\n",
    "# rotations\n",
    "R1 = 32\n",
    "R2 = 24\n",
    "R3 = 16\n",
    "R4 = 63\n",
    "\n",
    "# initialization vector\n",
    "IV0 = 0x6a09e667f3bcc908   # Frac(sqrt(2))\n",
    "IV1 = 0xbb67ae8584caa73b   # Frac(sqrt(3))\n",
    "IV2 = 0x3c6ef372fe94f82b   # Frac(sqrt(5))\n",
    "IV3 = 0xa54ff53a5f1d36f1   # Frac(sqrt(7))\n",
    "IV4 = 0x510e527fade682d1   # Frac(sqrt(11))\n",
    "IV5 = 0x9b05688c2b3e6c1f   # Frac(sqrt(13))\n",
    "IV6 = 0x1f83d9abfb41bd6b   # Frac(sqrt(17))\n",
    "IV7 = 0x5be0cd19137e2179   # Frac(sqrt(19))\n",
    "\n",
    "IV = [[0x6a, 0x09, 0xe6, 0x67, 0xf3, 0xbc, 0xc9, 0x08],\n",
    "      [0xbb, 0x67, 0xae, 0x85, 0x84, 0xca, 0xa7, 0x3b],\n",
    "      [0x3c, 0x6e, 0xf3, 0x72, 0xfe, 0x94, 0xf8, 0x2b],\n",
    "      [0xa5, 0x4f, 0xf5, 0x3a, 0x5f, 0x1d, 0x36, 0xf1],\n",
    "      [0x51, 0x0e, 0x52, 0x7f, 0xad, 0xe6, 0x82, 0xd1],\n",
    "      [0x9b, 0x05, 0x68, 0x8c, 0x2b, 0x3e, 0x6c, 0x1f],\n",
    "      [0x1f, 0x83, 0xd9, 0xab, 0xfb, 0x41, 0xbd, 0x6b],\n",
    "      [0x5b, 0xe0, 0xcd, 0x19, 0x13, 0x7e, 0x21, 0x79]]\n",
    "\n",
    "# message word permutation schedule\n",
    "SIGMA0 = [0, 1, 2, 3, 4, 5, 6, 7, 8, 9, 10, 11, 12, 13, 14, 15]\n",
    "SIGMA1 = [14, 10, 4, 8, 9, 15, 13, 6, 1, 12, 0, 2, 11, 7, 5, 3]\n",
    "SIGMA2 = [11, 8, 12, 0, 5, 2, 15, 13, 10, 14, 3, 6, 7, 1, 9, 4]\n",
    "SIGMA3 = [7, 9, 3, 1, 13, 12, 11, 14, 2, 6, 5, 10, 4, 0, 15, 8]\n",
    "SIGMA4 = [9, 0, 5, 7, 2, 4, 10, 15, 14, 1, 11, 12, 6, 8, 3, 13]\n",
    "SIGMA5 = [2, 12, 6, 10, 0, 11, 8, 3, 4, 13, 7, 5, 15, 14, 1, 9]\n",
    "SIGMA6 = [12, 5, 1, 15, 14, 13, 4, 10, 0, 7, 6, 3, 9, 2, 8, 11]\n",
    "SIGMA7 = [13, 11, 7, 14, 12, 1, 3, 9, 5, 0, 15, 4, 8, 6, 2, 10]\n",
    "SIGMA8 = [6, 15, 14, 9, 11, 3, 0, 8, 12, 2, 13, 7, 1, 4, 10, 5]\n",
    "SIGMA9 = [10, 2, 8, 4, 7, 6, 1, 5, 15, 11, 9, 14, 3, 12, 13, 0]\n",
    "\n",
    "SIGMA = [SIGMA0, SIGMA1, SIGMA2, SIGMA3, SIGMA4, SIGMA5, SIGMA6, SIGMA7, SIGMA8, SIGMA9]"
   ]
  },
  {
   "cell_type": "code",
   "execution_count": 110,
   "metadata": {},
   "outputs": [],
   "source": [
    "# blak2b mix function\n",
    "def blake2b_mix(Va, Vb, Vc, Vd, x, y):\n",
    "    # Inputs:\n",
    "    # Va, Vb, Vc, Vd       four 8-byte word entries from the work vector V\n",
    "    # x, y                two 8-byte word entries from padded message m\n",
    "    Va = (Va + Vb + x) % (2**w)\n",
    "    Vd = rotate_bits_right(Vd ^ Va, R1)\n",
    "    Vc = (Vc + Vd) % (2**w)\n",
    "    Vb = rotate_bits_right(Vb ^ Vc, R2)\n",
    "    Va = (Va + Vb + y) % (2**w)\n",
    "    Vd = rotate_bits_right(Vd ^ Va, R3)\n",
    "    Vc = (Vc + Vd) % (2**w)\n",
    "    Vb = rotate_bits_right(Vb ^ Vc, 63)\n",
    "    \n",
    "    # Output\n",
    "    return Va, Vb, Vc, Vd\n",
    "\n",
    "def rotate_list_right(V, R):\n",
    "    # rotate V right by R bits\n",
    "    return V[-R:]+V[:-R]\n",
    "\n",
    "def rotate_bits_right(V, R, w):\n",
    "    return V>>R ^ (V<<(w-R)) % 2**w\n",
    "\n",
    "def rotate_bytes_right(V, R, w):\n",
    "    # V is an array of bytes interpreted as a stream in big endian fashion\n",
    "    # w is 8 for a byte array\n",
    "    n = len(V) # number of bytes in array\n",
    "    RF = int(R/w) # number of full byte shifts\n",
    "    RP = R%w # number of partial byte shifts\n",
    "    V = rotate_list_right(V,RF)\n",
    "    V = [(V[0]>>RP) ^ (V[n-1]<<(w-RP))%2**w] + [(V[i]>>RP) ^ (V[i-1]<<(w-RP))%2**w for i in range(1,n)]\n",
    "    return V\n",
    "\n",
    "def byte_stream_to_word(P):\n",
    "    # convert a byte stream (bytearray eight bytes long) in little endian fashion \n",
    "    # into a word (also eight bytes long)\n",
    "    return bytearray([P[7-i] for i in range(8)])"
   ]
  },
  {
   "cell_type": "code",
   "execution_count": 111,
   "metadata": {},
   "outputs": [
    {
     "name": "stdout",
     "output_type": "stream",
     "text": [
      "0b1100001\n",
      "0b1100010\n",
      "0b1100011\n"
     ]
    }
   ],
   "source": [
    "V = bytearray(b'abc')\n",
    "for each in V:\n",
    "    print(bin(each))"
   ]
  },
  {
   "cell_type": "code",
   "execution_count": 112,
   "metadata": {},
   "outputs": [],
   "source": [
    "VX = rotate_bytes_right(V,24,8)"
   ]
  },
  {
   "cell_type": "code",
   "execution_count": 113,
   "metadata": {},
   "outputs": [
    {
     "name": "stdout",
     "output_type": "stream",
     "text": [
      "0b1100001\n",
      "0b1100010\n",
      "0b1100011\n"
     ]
    }
   ],
   "source": [
    "for each in VX:\n",
    "    print(bin(each))"
   ]
  },
  {
   "cell_type": "code",
   "execution_count": null,
   "metadata": {},
   "outputs": [],
   "source": []
  },
  {
   "cell_type": "code",
   "execution_count": 157,
   "metadata": {},
   "outputs": [
    {
     "name": "stdout",
     "output_type": "stream",
     "text": [
      "384264f676f39536840523f284921cdc68b6846b\n"
     ]
    }
   ],
   "source": [
    "pkh = blake2b(data=b'abc', digest_size=20).digest()\n",
    "print(pkh.hex())"
   ]
  },
  {
   "cell_type": "code",
   "execution_count": 115,
   "metadata": {},
   "outputs": [
    {
     "data": {
      "text/plain": [
       "bytearray(b'hgfedcba')"
      ]
     },
     "execution_count": 115,
     "metadata": {},
     "output_type": "execute_result"
    }
   ],
   "source": [
    "V = bytearray(b'abcdefgh')\n",
    "byte_stream_to_word(V)"
   ]
  },
  {
   "cell_type": "code",
   "execution_count": null,
   "metadata": {},
   "outputs": [],
   "source": [
    "b = [0]*128 # input buffer, 128 bytes (unit8_t)\n",
    "h = [0]*8 # chained state, 8 64-bit words (uint64_t)\n",
    "t = [0]*2 # total number of bytes, 2 64-bit values, high bit, low bit (uint64_t)\n",
    "# size_t c # pointer for b[]\n",
    "outlen = 20 # digest size (size_t)\n",
    "\n"
   ]
  }
 ],
 "metadata": {
  "kernelspec": {
   "display_name": "Python 3",
   "language": "python",
   "name": "python3"
  },
  "language_info": {
   "codemirror_mode": {
    "name": "ipython",
    "version": 3
   },
   "file_extension": ".py",
   "mimetype": "text/x-python",
   "name": "python",
   "nbconvert_exporter": "python",
   "pygments_lexer": "ipython3",
   "version": "3.8.10"
  }
 },
 "nbformat": 4,
 "nbformat_minor": 5
}
