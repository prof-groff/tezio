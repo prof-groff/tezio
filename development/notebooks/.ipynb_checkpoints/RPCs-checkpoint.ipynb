{
 "cells": [
  {
   "cell_type": "markdown",
   "id": "700dd4f6",
   "metadata": {},
   "source": [
    "## Exploration of Tezos RPCs"
   ]
  },
  {
   "cell_type": "code",
   "execution_count": 35,
   "id": "26a11ced",
   "metadata": {},
   "outputs": [],
   "source": [
    "import requests"
   ]
  },
  {
   "cell_type": "code",
   "execution_count": 36,
   "id": "89c6c33f",
   "metadata": {},
   "outputs": [],
   "source": [
    "node_url = 'https://hangzhounet.smartpy.io/'"
   ]
  },
  {
   "cell_type": "code",
   "execution_count": 37,
   "id": "1b9760a0",
   "metadata": {},
   "outputs": [],
   "source": [
    "# these are activated on Hangzhounet\n",
    "\n",
    "accounts = {'alice': 'tz1Ume3EWome6QpkQp4kr2UWF6c5Kf1D1DGv', 'bob': 'tz1advYz1R8gtoPeESKheK62yYiDFswgsziJ'}\n",
    "account = accounts['alice']"
   ]
  },
  {
   "cell_type": "code",
   "execution_count": 38,
   "id": "5e0507fe",
   "metadata": {},
   "outputs": [],
   "source": [
    "# RPCs\n",
    "account_prefix = '{node_url}/chains/main/blocks/head/context/contracts/{account}/'.format(node_url = node_url, account = account)\n",
    "balance = account_prefix + 'balance'\n",
    "counter = account_prefix + 'counter'\n",
    "manager_key = account_prefix + 'manager_key'\n",
    "\n",
    "chain_prefix = '{node_url}/chains/main/'.format(node_url = node_url)\n",
    "constants = chain_prefix + 'blocks/head/context/constants'\n",
    "hash_ = chain_prefix + 'blocks/head/hash'\n",
    "chain_id = chain_prefix + 'chain_id'\n",
    "\n",
    "bootstrapped = '{node_url}/monitor/bootstrapped'.format(node_url = node_url)"
   ]
  },
  {
   "cell_type": "code",
   "execution_count": 47,
   "id": "f4059ace",
   "metadata": {},
   "outputs": [],
   "source": [
    "def getRPC(RPC):\n",
    "    r = requests.get(RPC)\n",
    "    if r.status_code == 200:\n",
    "        reply = r.json()\n",
    "    else: \n",
    "        print('RPC failed...')\n",
    "        reply = []\n",
    "    return reply"
   ]
  },
  {
   "cell_type": "code",
   "execution_count": 55,
   "id": "311b22da",
   "metadata": {},
   "outputs": [],
   "source": [
    "def postRPC(RPC, data):\n",
    "    r = requests.post(RPC, data)\n",
    "    if r.status_code == 200:\n",
    "        reply = r.json()\n",
    "    else:\n",
    "        print('RPC failed...')\n",
    "        reply = []\n",
    "    return reply"
   ]
  },
  {
   "cell_type": "markdown",
   "id": "2267160d",
   "metadata": {},
   "source": [
    "{\n",
    "    \"contents\": [\n",
    "        {\n",
    "            \"kind\": \"reveal\",\n",
    "            \"source\": \"tz1buwfQ3j7gTSM5QU8bmG2YnfH8zEnsjm92\",\n",
    "            \"fee\": \"1000000\",\n",
    "            \"counter\": \"540140\",\n",
    "            \"gas_limit\": \"100000\",\n",
    "            \"storage_limit\": \"100000\",\n",
    "            \"phk\": \"edpkvJ4LqnbAVXoK12Q1HFuP42UTWcfJtixgKVimCEeStCZwi91x9B\"\n",
    "        }\n",
    "    ],\n",
    "    \"branch\": \"BM42s1GKSg6zSyNunMWEiix6weFcynCCUS3QwJ246hvb81uSCCW\"\n",
    "}\n"
   ]
  },
  {
   "cell_type": "code",
   "execution_count": null,
   "id": "20f59752",
   "metadata": {},
   "outputs": [],
   "source": [
    "def reveal(address):\n",
    "    "
   ]
  },
  {
   "cell_type": "code",
   "execution_count": 48,
   "id": "f4b4c2ed",
   "metadata": {},
   "outputs": [
    {
     "name": "stdout",
     "output_type": "stream",
     "text": [
      "5810038251\n"
     ]
    }
   ],
   "source": [
    "data = getRPC(balance)\n",
    "print(data)"
   ]
  },
  {
   "cell_type": "code",
   "execution_count": 49,
   "id": "fd33474e",
   "metadata": {},
   "outputs": [
    {
     "name": "stdout",
     "output_type": "stream",
     "text": [
      "3164673\n"
     ]
    }
   ],
   "source": [
    "data = getRPC(counter)\n",
    "print(data)"
   ]
  },
  {
   "cell_type": "code",
   "execution_count": 50,
   "id": "6c81e265",
   "metadata": {},
   "outputs": [
    {
     "name": "stdout",
     "output_type": "stream",
     "text": [
      "None\n"
     ]
    }
   ],
   "source": [
    "data = getRPC(manager_key)\n",
    "print(data)"
   ]
  },
  {
   "cell_type": "code",
   "execution_count": 51,
   "id": "bd30facf",
   "metadata": {},
   "outputs": [
    {
     "name": "stdout",
     "output_type": "stream",
     "text": [
      "{'proof_of_work_nonce_size': 8, 'nonce_length': 32, 'max_anon_ops_per_block': 132, 'max_operation_data_length': 32768, 'max_proposals_per_delegate': 20, 'max_micheline_node_count': 50000, 'max_micheline_bytes_limit': 50000, 'max_allowed_global_constants_depth': 10000, 'cache_layout': ['100000000'], 'michelson_maximum_type_size': 2001, 'preserved_cycles': 3, 'blocks_per_cycle': 4096, 'blocks_per_commitment': 32, 'blocks_per_roll_snapshot': 256, 'blocks_per_voting_period': 20480, 'time_between_blocks': ['20', '10'], 'endorsers_per_block': 256, 'hard_gas_limit_per_operation': '1040000', 'hard_gas_limit_per_block': '5200000', 'proof_of_work_threshold': '70368744177663', 'tokens_per_roll': '8000000000', 'seed_nonce_revelation_tip': '125000', 'origination_size': 257, 'block_security_deposit': '640000000', 'endorsement_security_deposit': '2500000', 'baking_reward_per_endorsement': ['78125', '11719'], 'endorsement_reward': ['78125', '52083'], 'cost_per_byte': '250', 'hard_storage_limit_per_operation': '60000', 'quorum_min': 2000, 'quorum_max': 7000, 'min_proposal_quorum': 500, 'initial_endorsers': 192, 'delay_per_missing_endorsement': '2', 'minimal_block_delay': '15', 'liquidity_baking_subsidy': '2500000', 'liquidity_baking_sunset_level': 525600, 'liquidity_baking_escape_ema_threshold': 100000}\n"
     ]
    }
   ],
   "source": [
    "data = getRPC(constants)\n",
    "print(data)"
   ]
  },
  {
   "cell_type": "code",
   "execution_count": 52,
   "id": "16f49a47",
   "metadata": {},
   "outputs": [
    {
     "name": "stdout",
     "output_type": "stream",
     "text": [
      "BMRWqDpctZvUz58oYnGh8oewLh9qiNQuvZedzcuzz76t7gYBfo5\n"
     ]
    }
   ],
   "source": [
    "data = getRPC(hash_)\n",
    "print(data)"
   ]
  },
  {
   "cell_type": "code",
   "execution_count": 53,
   "id": "80d9bd26",
   "metadata": {},
   "outputs": [
    {
     "name": "stdout",
     "output_type": "stream",
     "text": [
      "NetXZSsxBpMQeAT\n"
     ]
    }
   ],
   "source": [
    "data = getRPC(chain_id)\n",
    "print(data)"
   ]
  },
  {
   "cell_type": "code",
   "execution_count": 54,
   "id": "8ed14f53",
   "metadata": {},
   "outputs": [
    {
     "name": "stdout",
     "output_type": "stream",
     "text": [
      "{'block': 'BMRWqDpctZvUz58oYnGh8oewLh9qiNQuvZedzcuzz76t7gYBfo5', 'timestamp': '2022-01-28T21:06:29Z'}\n"
     ]
    }
   ],
   "source": [
    "data = getRPC(bootstrapped)\n",
    "print(data)"
   ]
  },
  {
   "cell_type": "code",
   "execution_count": null,
   "id": "9537c565",
   "metadata": {},
   "outputs": [],
   "source": []
  }
 ],
 "metadata": {
  "kernelspec": {
   "display_name": "Python 3 (ipykernel)",
   "language": "python",
   "name": "python3"
  },
  "language_info": {
   "codemirror_mode": {
    "name": "ipython",
    "version": 3
   },
   "file_extension": ".py",
   "mimetype": "text/x-python",
   "name": "python",
   "nbconvert_exporter": "python",
   "pygments_lexer": "ipython3",
   "version": "3.9.7"
  }
 },
 "nbformat": 4,
 "nbformat_minor": 5
}
