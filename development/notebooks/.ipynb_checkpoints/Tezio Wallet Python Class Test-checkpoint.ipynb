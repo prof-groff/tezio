{
 "cells": [
  {
   "cell_type": "markdown",
   "id": "7ca4243c",
   "metadata": {},
   "source": [
    "## Tezio Wallet\n",
    "\n",
    "Welcome to Tezio Wallet, an Arduino-based hardware wallet for the Tezos blockchain. Tezio Wallet is compatible with the Arduino MKR WiFi 1010 and the Arduino Nano 33 IoT, both of which include a cryptographic coprocessor to securely store keys and perform certain crytpographic functions. \n",
    "\n",
    "###  Installation\n",
    "\n",
    "Install the Arduino IDE. Download and move the `TezioWallet` folder to your Arduino libraries folder, which is usually `My Documents\\Arduino\\libraries` on Windows or `Documents\\Arduino\\libraries` on macOS. Open the Arduino IDE and install the following dependencies using `Tools > Manage Libraries...`.\n",
    "\n",
    "- ArduinoECCX08\n",
    "- Crypto\n",
    "- micro-ecc\n",
    "\n",
    "### Usage\n",
    "\n",
    "#### Setup\n",
    "\n",
    "Running Tezio Wallet on your Arduino device requires that the device first be configured, provisioned, and locked. This is done using the `Tezio_Wallet_Setup.ino` sketch. The sketch runs an interactive setup process using the Arduino IDE's Serial Monitor to share data with the user and get user inputs. The process begins by loading default configuration data onto the Arduino's cryptographic coprocessor. Once the configuration data is written to the device, the user has the option to lock the cofiguration zone. This must be done before the device can be used. Note that the default configuration data stored in the `configuration.h` file is set up to enable current functionality but also to allow for possible future functionality such as encrypted writes to certain slots of the cryptochip's data zone. After the device is configured, the sketch proceeds to derive HD wallet cryptographic keys from a user supplied mnemonic phrase specifice in the `secrets.h` file, or if a mnemonic phrase isn't provided the sketch proceeds to derive a new 24 word phrase using entropy provided by the cryptochip's true random number generator. Mnemonic and key derivation are carried out using specifications outlined in the BIP-0039, BIP-0032, BIP-0044, SLIP-0044, and SLIP-0010. Secret keys are derived for all three elliptic curves supported by the Tezos blockchain: Ed25519, Secp256k1, and NIST P256 (Secp256r1). The keys are written to the Arduino's cryptochip. A user supplied read/write key is also written to the device. The read/write key will allow the user to perform encrypted reads and writes to certain data slots of the device after it is locked. After keys are written, the user is given the option to lock the cryptochip's data zone. After the data zone is locked, clear writes of cryptographic secrets will no longer be supported. The device must be locked before use. \n",
    "\n",
    "#### API\n",
    "\n",
    "After the device is setup, provisioned, and locked, upload the `Tezio_Wallet_API.ino` sketch. The sketch can be run in debug (interactive) mode using the Arduino IDE's serial monitor. However, setting the debug flag to false puts the device into listening mode. It can then be connected via USB to any host machine and recieve and send data via serial. The API sketch invokes the TezioWallet_API class to expose certain cryptographic tools to the host device. Importantly, private (secret) keys never leave the device. In fact, the cryptochip implements hardware support for cryptographic functions using the NIST P256 curve so the NIST P256 secret key never leaves the cryptochip's secure element. This hardware support also means that cryptographic functions involving the NIST P256 curve are much faster than those of the other supported curves. Below are details about the structure of data packets sent and received using the API. This if followed by example interactions with a Tezio Wallet using python. "
   ]
  },
  {
   "cell_type": "markdown",
   "id": "ebef9ff9",
   "metadata": {},
   "source": [
    "### Packet Structure\n",
    "\n",
    "#### To Wallet\n",
    "\n",
    "Packets of bytes sent to the hardware wallet have four parts, one prefix byte, two length byte (LSB first), one or more body bytes, and two checksum bytes.\n",
    "\n",
    "`packet = prefix (1 byte) + length (2 byte) + body (1 or more bytes) + checksum (2 bytes)`\n",
    "\n",
    "The body is composed of an operation code (opCode), parameters, and data. \n",
    "\n",
    "`body = opCode (1 byte) + param1 (1 byte) + param2 (1 byte) + param3 (2 bytes) + data (1 or more bytes)`\n",
    "\n",
    "A call may not require all parameters but if data is part of the body then values for all parameters must also be included. Parameter 3 is represented in code as a 16-bit variable but is always sent as two bytes with the LSB first. Packets are constructed as follows. First the body is constructed. The length bytes are the length of the body plus 3 to count both the length byte itself and the checksum bytes. The crc16 checksum is then computed for the length and body bytes. The checksum is appended LSB first. The prefix, which serves as a listening byte for the hardware wallet, is always 0x03. \n",
    "\n",
    "#### From Wallet\n",
    "\n",
    "Packets of bytes received from the hardware wallet are similar but do not include a prefix since the host does not need to listen but simply waits for a reply to arrive. The body of the reply depends on the operation being executed.\n",
    "\n",
    "`packet = length (2 byte) + body (1 or more bytes) + checksum (2 bytes)`"
   ]
  },
  {
   "cell_type": "markdown",
   "id": "08942441",
   "metadata": {},
   "source": [
    "## Tezio Wallet API Operations\n",
    "\n",
    "At the time of writing, the Tezio Wallet API implements the following three operations:\n",
    "- op_get_pk: Query the wallet for a public key corresonding to one of the secret private keys stored on the cryptochip. The public key returned can be raw bytes, compressed, base58 encoded, or as a Tezos public key hash (address). \n",
    "- op_sign: Send a message to the wallet for signing. The message can be raw bytes or pre-hashed by the host maching. The signature returned can be raw bytes or base58 encoded.\n",
    "- op_verify: Send a message and signature to the wallet for signature verification. The message can be raw bytes or pre-hashed and the signature can be raw bytes or base58 encoded. \n",
    "\n",
    "Accepted values and meanings for packet parameters param1, param2, param3, and packet data are summarized in the tables below. "
   ]
  },
  {
   "cell_type": "markdown",
   "id": "f420a967",
   "metadata": {},
   "source": [
    "### Get Public Key Operation (op_get_pk)\n",
    "\n",
    "| Packet Vars | Value |\n",
    "|-------------|-------| \n",
    "| opCode      | 0x11  |\n",
    "| param1      | curve |\n",
    "| param2      | mode  |\n",
    "| param3      | -     |\n",
    "| data        | -     |\n"
   ]
  },
  {
   "cell_type": "markdown",
   "id": "669e8659",
   "metadata": {},
   "source": [
    "| curve | ECC curve |\n",
    "|-------|-----------|\n",
    "| 0x01  | Ed25519   |\n",
    "| 0x02  | Secp256k1 |\n",
    "| 0x03  | NIST P256 |"
   ]
  },
  {
   "cell_type": "markdown",
   "id": "1e060111",
   "metadata": {},
   "source": [
    "| mode | Public Key Format           |\n",
    "|------|-----------------------------|\n",
    "| 0x01 | Raw (32 or 64 bytes)        |\n",
    "| 0x02 | Compressed (32 or 33 bytes) |\n",
    "| 0x03 | Base58 Checksum Encoded     |\n",
    "| 0x04 | Hashed (Tezos Address)      |"
   ]
  },
  {
   "cell_type": "markdown",
   "id": "7c575c7b",
   "metadata": {},
   "source": [
    "### Sign Operation (op_sign)\n",
    "\n",
    "*param3 is not used but a value must be included whenever data is sent as part of the packet\n",
    "\n",
    "| Packet Vars | Value  |\n",
    "|-------------|--------| \n",
    "| opCode      | 0x21   |\n",
    "| param1      | curve  |\n",
    "| param2      | mode   |\n",
    "| param3      | 0x0000 |\n",
    "| data        | message|\n"
   ]
  },
  {
   "cell_type": "markdown",
   "id": "72e7aac3",
   "metadata": {},
   "source": [
    "| curve | ECC curve |\n",
    "|-------|-----------|\n",
    "| 0x01  | Ed25519   |\n",
    "| 0x02  | Secp256k1 |\n",
    "| 0x03  | NIST P256 |"
   ]
  },
  {
   "cell_type": "markdown",
   "id": "aa9fc5a5",
   "metadata": {},
   "source": [
    "| mode | message hashed | signature format        |\n",
    "|------|----------------|-------------------------|\n",
    "| 0x00 | N/A            | Default Signature (Base58 Checksum Encoded Zeros) |\n",
    "| 0x01 | yes            | Raw (64 bytes)          |\n",
    "| 0x02 | yes            | Base58 Checksum Encoded |\n",
    "| 0x03 | no             | Raw (64 bytes)          |\n",
    "| 0x04 | no             | Base58 Checksum Encoded |"
   ]
  },
  {
   "cell_type": "markdown",
   "id": "d7c75dbc",
   "metadata": {},
   "source": [
    "### Verify Operation (op_verify)\n",
    "\n",
    "| Packet Vars | Value              |\n",
    "|-------------|--------------------| \n",
    "| opCode      | 0x22               |\n",
    "| param1      | curve              |\n",
    "| param2      | mode               |\n",
    "| param3      | message length     |\n",
    "| data        | message + signature|"
   ]
  },
  {
   "cell_type": "markdown",
   "id": "d8bb8d16",
   "metadata": {},
   "source": [
    "| curve | ECC curve |\n",
    "|-------|-----------|\n",
    "| 0x01  | Ed25519   |\n",
    "| 0x02  | Secp256k1 |\n",
    "| 0x03  | NIST P256 |"
   ]
  },
  {
   "cell_type": "markdown",
   "id": "4bfa0bc2",
   "metadata": {},
   "source": [
    "| mode | message hashed | signature format        |\n",
    "|------|----------------|-------------------------|\n",
    "| 0x01 | yes            | Raw (64 bytes)          |\n",
    "| 0x02 | yes            | Base58 Checksum Encoded |\n",
    "| 0x03 | no             | Raw (64 bytes)          |\n",
    "| 0x04 | no             | Base58 Checksum Encoded |"
   ]
  },
  {
   "cell_type": "markdown",
   "id": "46f8700d",
   "metadata": {},
   "source": [
    "## Example Tezio Wallet Operations Using Python\n",
    "\n",
    "Each of the above operations is demonstrated below. A Python file Tezio.py defines two useful classes, TezioWallet and TezioRPC. Ensure this file is in the same director as this notebook. TezioWallet facilitates interactions with the hardware wallet while TezioRPC implements remote procedure calls to the Tezos network. "
   ]
  },
  {
   "cell_type": "code",
   "execution_count": 1,
   "id": "8fac69cd",
   "metadata": {},
   "outputs": [],
   "source": [
    "# import TezioWallet from Tezio.py \n",
    "# TezioWallet uses the 'serial' module. Ensure it is installed (pip install pyserial)\n",
    "from Tezio import TezioWallet"
   ]
  },
  {
   "cell_type": "code",
   "execution_count": 2,
   "id": "49da8bf1",
   "metadata": {},
   "outputs": [
    {
     "name": "stdout",
     "output_type": "stream",
     "text": [
      "Packet to be sent...\n",
      "030700110302300a\n",
      "\n",
      "Response received...\n",
      "03105a7d89a3f6c5b3691dd055944556c9858041f86da391b01c8389115b5209f6\n"
     ]
    }
   ],
   "source": [
    "# retrieve the public key for curve NIST P256 (curve 0x03) in compressed format (mode 0x02)\n",
    "opCode = 0x11\n",
    "param1 = 0x03 \n",
    "param2 = 0x02 \n",
    "\n",
    "myWallet = TezioWallet()\n",
    "myWallet.build_packet(opCode, param1, param2)\n",
    "    \n",
    "print('Packet to be sent...')\n",
    "print(myWallet.packet.hex())\n",
    "print()\n",
    "\n",
    "if (not myWallet.query_wallet()):\n",
    "    print('Wallet query failed')\n",
    "\n",
    "print('Response received...')\n",
    "print(myWallet.response.hex())"
   ]
  },
  {
   "cell_type": "code",
   "execution_count": 6,
   "id": "1788b5ef",
   "metadata": {},
   "outputs": [
    {
     "data": {
      "text/plain": [
       "'/dev/cu.usbmodem14401'"
      ]
     },
     "execution_count": 6,
     "metadata": {},
     "output_type": "execute_result"
    }
   ],
   "source": [
    "myWallet.com"
   ]
  },
  {
   "cell_type": "code",
   "execution_count": 7,
   "id": "7a1f0f7d",
   "metadata": {},
   "outputs": [
    {
     "name": "stdout",
     "output_type": "stream",
     "text": [
      "Packet to be sent...\n",
      "0307001101033606\n",
      "\n",
      "Decoded response received...\n",
      "edpkv1EQnd7cMykpzKuo8xEnioizPd3nP6YYoyoRyRmVK5Vg7TfsCB\n"
     ]
    }
   ],
   "source": [
    "# retrieve the public key hash for the Ed25519 curve \n",
    "opCode = 0x11\n",
    "param1 = 0x01 \n",
    "param2 = 0x03\n",
    "\n",
    "myWallet = TezioWallet()\n",
    "myWallet.build_packet(opCode, param1, param2)\n",
    "\n",
    "print('Packet to be sent...')\n",
    "print(myWallet.packet.hex())\n",
    "print()\n",
    "\n",
    "if (not myWallet.query_wallet()):\n",
    "    print('Wallet query failed')\n",
    "\n",
    "print('Decoded response received...')\n",
    "print(myWallet.response.decode('utf-8'))"
   ]
  },
  {
   "cell_type": "code",
   "execution_count": 8,
   "id": "9be4eaf6",
   "metadata": {},
   "outputs": [
    {
     "name": "stdout",
     "output_type": "stream",
     "text": [
      "edpkv1EQnd7cMykpzKuo8xEnioizPd3nP6YYoyoRyRmVK5Vg7TfsCB\n"
     ]
    }
   ],
   "source": [
    "# do the same but use the get_pk method\n",
    "myWallet = TezioWallet(1) # argument is curve to use (param 1)\n",
    "public_key = myWallet.get_pk(3) # argument is mode (param 2)\n",
    "print(public_key.decode('utf-8'))"
   ]
  },
  {
   "cell_type": "code",
   "execution_count": 9,
   "id": "ab329d9e",
   "metadata": {},
   "outputs": [
    {
     "name": "stdout",
     "output_type": "stream",
     "text": [
      "Packet to be sent...\n",
      "030700210300ff89\n",
      "\n",
      "Base58 encoded signature from the body of the reply...\n",
      "p2sigMJWuMaj1zAfVMzdZzFnoncCKE7faHzJ7coB6h3ziUiGeZoTZUNfYSQR5t2dJ6cFWCvUx8CZdLRCigAUtrt2JEfRzvbDnL\n"
     ]
    }
   ],
   "source": [
    "# get default signature for a curve (base58 checksum encoded zeros)\n",
    "opCode = 0x21\n",
    "param1 = 0x03\n",
    "param2 = 0x00\n",
    "\n",
    "myWallet = TezioWallet()\n",
    "myWallet.build_packet(opCode, param1, param2);\n",
    "print('Packet to be sent...')\n",
    "print(myWallet.packet.hex())\n",
    "print()\n",
    "\n",
    "if (not myWallet.query_wallet()):\n",
    "    print('Wallet query failed')\n",
    "\n",
    "print('Base58 encoded signature from the body of the reply...')\n",
    "print(myWallet.response.decode('utf-8'))\n"
   ]
  },
  {
   "cell_type": "code",
   "execution_count": 10,
   "id": "702bf9ce",
   "metadata": {},
   "outputs": [
    {
     "name": "stdout",
     "output_type": "stream",
     "text": [
      "Packet to be sent...\n",
      "03290021020400006162636465666768696a6b6c6d6e6f707172737475767778797a303132333435b15f\n",
      "\n",
      "Base58 encoded signature from the body of the reply...\n",
      "spsig1D4fFWPBrAMe4pqCZ6taipR68yYUFT4wSV5M1BfUKU9idP13B8iMdytkhvjBJe9EYQ9idub3AaKk7z5yH329gSEyH8aTuf\n"
     ]
    }
   ],
   "source": [
    "# sign an unhased message using the Secp256k1 curve and getting a base58 checksum endoced result\n",
    "opCode = 0x21\n",
    "param1 = 0x02\n",
    "param2 = 0x04\n",
    "param3 = 0x0000 # not used but needed in packet since data is included\n",
    "# data = bytearray('This is my message. There are many like it but this is mine', 'utf-8') # 32 bytes so hashed or unhashed mode works\n",
    "data = bytearray('abcdefghijklmnopqrstuvwxyz012345', 'utf-8')\n",
    "\n",
    "myWallet = TezioWallet()\n",
    "myWallet.build_packet(opCode, param1, param2, param3, data);\n",
    "print('Packet to be sent...')\n",
    "print(myWallet.packet.hex())\n",
    "print()\n",
    "\n",
    "if (not myWallet.query_wallet()):\n",
    "    print('Wallet query failed')\n",
    "\n",
    "print('Base58 encoded signature from the body of the reply...')\n",
    "print(myWallet.response.decode('utf-8'))"
   ]
  },
  {
   "cell_type": "code",
   "execution_count": 11,
   "id": "44b961bf",
   "metadata": {},
   "outputs": [
    {
     "name": "stdout",
     "output_type": "stream",
     "text": [
      "spsig1EnNqoPcE1cNsqqBeT8rakqNkMoNSoxEDjFN4jqRMULC9x3Lfq6ve39NWyLj3ZJrDeNwV1ECS4j2jPLmZ82gWW1m6CTEZq\n"
     ]
    }
   ],
   "source": [
    "# do the same with the op_sign method\n",
    "myWallet = TezioWallet(2) # argument is curve to use (param 1)\n",
    "message = 'abcdefghijklmnopqrstuvwxyz012345'\n",
    "mode = 4 # param 2\n",
    "signature = myWallet.sign(mode, message) \n",
    "print(signature.decode('utf-8'))"
   ]
  },
  {
   "cell_type": "code",
   "execution_count": 12,
   "id": "e5431281",
   "metadata": {},
   "outputs": [
    {
     "name": "stdout",
     "output_type": "stream",
     "text": [
      "32\n",
      "99\n",
      "Packet to be sent...\n",
      "038c0022020420006162636465666768696a6b6c6d6e6f707172737475767778797a303132333435737073696731456e4e716f50634531634e7371714265543872616b714e6b4d6f4e536f7845446a464e346a71524d554c433978334c667136766533394e57794c6a335a4a7244654e775631454353346a326a504c6d5a3832675757316d364354455a71cc57\n",
      "\n",
      "Signature valid (0x01) or invalid (0x00)...\n",
      "01\n"
     ]
    }
   ],
   "source": [
    "# verify the signature\n",
    "opCode = 0x22\n",
    "# param1 and param2 are unchanged\n",
    "param3 = len(data) \n",
    "sig = myWallet.response # signature from last query\n",
    "data = list(data) + list(sig) # the data is not the message signed with the signature appended\n",
    "\n",
    "print(param3)\n",
    "print(len(sig))\n",
    "\n",
    "myWallet = TezioWallet()\n",
    "myWallet.build_packet(opCode, param1, param2, param3, data);\n",
    "print('Packet to be sent...')\n",
    "print(myWallet.packet.hex())\n",
    "print()\n",
    "\n",
    "if (not myWallet.query_wallet()):\n",
    "    print('Wallet query failed')\n",
    "\n",
    "print('Signature valid (0x01) or invalid (0x00)...')\n",
    "print(myWallet.response.hex())"
   ]
  },
  {
   "cell_type": "code",
   "execution_count": null,
   "id": "ef8f2dfb",
   "metadata": {},
   "outputs": [],
   "source": []
  },
  {
   "cell_type": "markdown",
   "id": "d7f91b64",
   "metadata": {},
   "source": [
    "### Example RPCs Using Tezio Wallet\n",
    "\n",
    "SEND SOME TEZ TO THE WALLET ADDRESS FIRST"
   ]
  },
  {
   "cell_type": "code",
   "execution_count": 1,
   "id": "4d29e300",
   "metadata": {},
   "outputs": [],
   "source": [
    "from Tezio import TezioWallet, TezioRPC"
   ]
  },
  {
   "cell_type": "code",
   "execution_count": 2,
   "id": "54d7aed4",
   "metadata": {},
   "outputs": [
    {
     "data": {
      "text/plain": [
       "'tz3MyarJihHrejsze59J2Seita7jYWDCJDPe'"
      ]
     },
     "execution_count": 2,
     "metadata": {},
     "output_type": "execute_result"
    }
   ],
   "source": [
    "# send RPC to get counter\n",
    "nodeURL = 'https://rpc.ghostnet.teztnets.xyz'\n",
    "myWallet = TezioWallet(3) # using Ed25519 keys\n",
    "myRPC = TezioRPC(nodeURL, myWallet)\n",
    "myRPC.account"
   ]
  },
  {
   "cell_type": "code",
   "execution_count": null,
   "id": "e111a76f",
   "metadata": {},
   "outputs": [],
   "source": []
  },
  {
   "cell_type": "code",
   "execution_count": 3,
   "id": "f972280c",
   "metadata": {},
   "outputs": [
    {
     "name": "stdout",
     "output_type": "stream",
     "text": [
      "Simulating operation...\n",
      "Results...\n",
      "{'contents': [{'kind': 'delegation', 'source': 'tz3MyarJihHrejsze59J2Seita7jYWDCJDPe', 'fee': '10000', 'counter': '11506166', 'gas_limit': '10000', 'storage_limit': '10000', 'delegate': 'tz1RuHDSj9P7mNNhfKxsyLGRDahTX5QD1DdP', 'metadata': {'balance_updates': [{'kind': 'contract', 'contract': 'tz3MyarJihHrejsze59J2Seita7jYWDCJDPe', 'change': '-10000', 'origin': 'block'}, {'kind': 'accumulator', 'category': 'block fees', 'change': '10000', 'origin': 'block'}], 'operation_result': {'status': 'applied', 'consumed_gas': '1000', 'consumed_milligas': '1000000'}}}]}\n",
      "Consumed Gas, Fee Estimate, Storage Estimate...\n",
      "1000\n",
      "386\n",
      "0\n",
      "Preapply operation...\n",
      "[{'contents': [{'kind': 'delegation', 'source': 'tz3MyarJihHrejsze59J2Seita7jYWDCJDPe', 'fee': '386', 'counter': '11506166', 'gas_limit': '1100', 'storage_limit': '0', 'delegate': 'tz1RuHDSj9P7mNNhfKxsyLGRDahTX5QD1DdP', 'metadata': {'balance_updates': [{'kind': 'contract', 'contract': 'tz3MyarJihHrejsze59J2Seita7jYWDCJDPe', 'change': '-386', 'origin': 'block'}, {'kind': 'accumulator', 'category': 'block fees', 'change': '386', 'origin': 'block'}], 'operation_result': {'status': 'applied', 'consumed_gas': '1000', 'consumed_milligas': '1000000'}}}], 'signature': 'p2sigunNSGmcz7he2Ykp4yYx5Wo8nK435THyRK2qvy1n7PkYWBVRXKUQfPCGD2V2qhzfEjHrjNYyCTmYLSBpDCT8pEgUWRSUNM'}]\n",
      "Results...\n",
      "[{'contents': [{'kind': 'delegation', 'source': 'tz3MyarJihHrejsze59J2Seita7jYWDCJDPe', 'fee': '386', 'counter': '11506166', 'gas_limit': '1100', 'storage_limit': '0', 'delegate': 'tz1RuHDSj9P7mNNhfKxsyLGRDahTX5QD1DdP', 'metadata': {'balance_updates': [{'kind': 'contract', 'contract': 'tz3MyarJihHrejsze59J2Seita7jYWDCJDPe', 'change': '-386', 'origin': 'block'}, {'kind': 'accumulator', 'category': 'block fees', 'change': '386', 'origin': 'block'}], 'operation_result': {'status': 'applied', 'consumed_gas': '1000', 'consumed_milligas': '1000000'}}}], 'signature': 'p2sigunNSGmcz7he2Ykp4yYx5Wo8nK435THyRK2qvy1n7PkYWBVRXKUQfPCGD2V2qhzfEjHrjNYyCTmYLSBpDCT8pEgUWRSUNM'}]\n",
      "Injecting operation...\n",
      "Results...\n",
      "opZDx3iVq6PVJCTaZbQ2P9wNJZQgpG55heKHA9ym7D6HfQrYAmo\n"
     ]
    }
   ],
   "source": [
    "delegate = 'tz1RuHDSj9P7mNNhfKxsyLGRDahTX5QD1DdP'\n",
    "results = myRPC.delegation(delegate)"
   ]
  },
  {
   "cell_type": "code",
   "execution_count": 3,
   "id": "19a437a1",
   "metadata": {},
   "outputs": [
    {
     "name": "stdout",
     "output_type": "stream",
     "text": [
      "Simulating operation...\n",
      "Fee and storage estimates:\n",
      "Fee: 0.00044 tez\n",
      "Storage: 0.0 tez\n",
      "Continue? (Y/N)N\n"
     ]
    }
   ],
   "source": [
    "destination = 'tz2Dy8HhPZZqmxVK5hE8Unc66fiWvqY8wFXN'\n",
    "results = myRPC.send_mutez(1000000, destination)"
   ]
  },
  {
   "cell_type": "code",
   "execution_count": 5,
   "id": "75b3e814",
   "metadata": {},
   "outputs": [
    {
     "name": "stdout",
     "output_type": "stream",
     "text": [
      "Simulating operation...\n",
      "RPC failed...\n",
      "[{'kind': 'branch', 'id': 'proto.013-PtJakart.contract.previously_revealed_key', 'contract': 'tz2Dy8HhPZZqmxVK5hE8Unc66fiWvqY8wFXN'}]\n",
      "RPC call for simulation failed...\n"
     ]
    }
   ],
   "source": [
    "fee = 10000\n",
    "storageLimit = 10000\n",
    "results = myRPC.reveal(fee, storageLimit)"
   ]
  },
  {
   "cell_type": "code",
   "execution_count": null,
   "id": "f5998df5",
   "metadata": {},
   "outputs": [],
   "source": [
    "from Tezio import TezioWallet, TezioRPC\n",
    "import binascii\n",
    "import hashlib as hl"
   ]
  },
  {
   "cell_type": "code",
   "execution_count": null,
   "id": "f3c7b814",
   "metadata": {},
   "outputs": [],
   "source": [
    "# retrieve the public key and pkh (account) for the Ed25519 curve \n",
    "myWallet = TezioWallet(1) # 1 - Ed25519 curve\n",
    "opCode = 0x11\n",
    "param1 = 0x01 \n",
    "param2 = 0x04\n",
    "myWallet.build_packet(opCode, param1, param2)\n",
    "myWallet.query_wallet()\n",
    "account = myWallet.response.decode('utf-8')\n",
    "print(account)\n",
    "\n",
    "param2 = 0x03\n",
    "myWallet.build_packet(opCode, param1, param2)\n",
    "myWallet.query_wallet()\n",
    "public_key = myWallet.response.decode('utf-8')\n",
    "print(public_key)"
   ]
  },
  {
   "cell_type": "code",
   "execution_count": null,
   "id": "f379b1eb",
   "metadata": {},
   "outputs": [],
   "source": [
    "# send RPC to get counter\n",
    "nodeURL = 'https://rpc.ghostnet.teztnets.xyz'\n",
    "myWallet = TezioWallet(1) # using Ed25519 keys\n",
    "myRPC = TezioRPC(nodeURL, myWallet)"
   ]
  },
  {
   "cell_type": "code",
   "execution_count": null,
   "id": "fc1cfb48",
   "metadata": {},
   "outputs": [],
   "source": []
  },
  {
   "cell_type": "code",
   "execution_count": null,
   "id": "72bdaf10",
   "metadata": {},
   "outputs": [],
   "source": []
  },
  {
   "cell_type": "code",
   "execution_count": null,
   "id": "293955ab",
   "metadata": {},
   "outputs": [],
   "source": [
    "   \n",
    "        \n"
   ]
  },
  {
   "cell_type": "markdown",
   "id": "27e53c2e",
   "metadata": {},
   "source": [
    "### Reveal Operation\n",
    "\n",
    "FIRST\n",
    "\n",
    "data = {\n",
    "'branch': \n",
    "'contents':\n",
    "[\n",
    "    'kind': 'reveal'\n",
    "    'source':\n",
    "    'fee'\n",
    "    'counter'\n",
    "    'gas_limit'\n",
    "    'storage_limit'\n",
    "    'public_key'\n",
    "]\n",
    "}\n",
    "\n",
    "SIMULATE\n",
    "\n",
    "data = {\n",
    "'branch': \n",
    "'contents':\n",
    "[\n",
    "    'kind': 'reveal'\n",
    "    'source':\n",
    "    'fee'\n",
    "    'counter'\n",
    "    'gas_limit'\n",
    "    'storage_limit'\n",
    "    'public_key'\n",
    "]\n",
    "'signature': \n",
    "}\n",
    "\n",
    "OPERATION\n",
    "\n",
    "data = {\n",
    "'operation': {\n",
    "'branch': \n",
    "'contents':\n",
    "[\n",
    "    'kind': 'reveal'\n",
    "    'source':\n",
    "    'fee'\n",
    "    'counter'\n",
    "    'gas_limit'\n",
    "    'storage_limit'\n",
    "    'public_key'\n",
    "]\n",
    "'signature': \n",
    "}\n",
    "'chain_id':\n",
    "}"
   ]
  },
  {
   "cell_type": "code",
   "execution_count": null,
   "id": "c96f4094",
   "metadata": {},
   "outputs": [],
   "source": [
    "\n",
    "\n",
    "\n",
    "# retreive chain_id, protocol, , coutner, etc.\n",
    "header = myRPC.header()\n",
    "chain_id = header['chain_id']\n",
    "protocol = header['protocol']\n",
    "branch = header['hash']\n",
    "counter = myRPC.counter()\n",
    "# increment counter\n",
    "counter = str(int(counter)+1)\n",
    "\n",
    "# construct parts\n",
    "contents = []\n",
    "contents += [{'kind': 'reveal', 'source': account, 'fee': '10000', 'counter': counter, 'gas_limit': '10000', 'storage_limit': '10000', 'public_key': public_key}]"
   ]
  },
  {
   "cell_type": "code",
   "execution_count": null,
   "id": "19e29e22",
   "metadata": {},
   "outputs": [],
   "source": [
    "# construct operation\n",
    "operation = {'branch': branch, 'contents': contents}\n",
    "print(operation)\n"
   ]
  },
  {
   "cell_type": "code",
   "execution_count": null,
   "id": "c9a668b6",
   "metadata": {},
   "outputs": [],
   "source": [
    "# forge and sign\n",
    "forgedOperation = '03' + myRPC.remote_forge(operation) # add prefix\n",
    "binaryForgedOperation = binascii.unhexlify(forgedOperation)\n",
    "\n",
    "# hash\n",
    "b2b = hl.blake2b(digest_size = 32)\n",
    "b2b.update(binaryForgedOperation)\n",
    "myHash = b2b.digest()\n",
    "\n",
    "#get signature of message\n",
    "myWallet = TezioWallet()\n",
    "opCode = 0x21\n",
    "param1 = 0x01 \n",
    "param2 = 0x02\n",
    "param3 = 0x0000\n",
    "data = bytearray(myHash)\n",
    "myWallet.build_packet(opCode, param1, param2, param3, data)\n",
    "myWallet.query_wallet()\n",
    "signature = myWallet.response.decode('utf-8')\n",
    "print(signature)"
   ]
  },
  {
   "cell_type": "code",
   "execution_count": null,
   "id": "304a8ad5",
   "metadata": {},
   "outputs": [],
   "source": [
    "# do run_operation\n",
    "json = {}\n",
    "operation['signature'] = signature\n",
    "json['operation'] = operation\n",
    "json['chain_id'] = chain_id\n",
    "print(json)\n",
    "\n",
    "result = myRPC.run_operation(json)\n",
    "result"
   ]
  },
  {
   "cell_type": "code",
   "execution_count": null,
   "id": "add209e2",
   "metadata": {},
   "outputs": [],
   "source": [
    "# update parameters and signature \n",
    "# contents[0]['gas_limit'] = result['contents'][0]['metadata']['operation_result']['consumed_gas']\n",
    "# construct operation\n",
    "operation = {'branch': branch, 'contents': contents}\n",
    "print(operation)\n",
    "# forge and sign\n",
    "forgedOperation = '03' + myRPC.remote_forge(operation) # add prefix\n",
    "binaryForgedOperation = binascii.unhexlify(forgedOperation)\n",
    "# hash\n",
    "b2b = hl.blake2b(digest_size = 32)\n",
    "b2b.update(binaryForgedOperation)\n",
    "myHash = b2b.digest()\n",
    "#get signature of message\n",
    "myWallet = TezioWallet()\n",
    "opCode = 0x21\n",
    "param1 = 0x01 \n",
    "param2 = 0x02\n",
    "param3 = 0x0000\n",
    "data = bytearray(myHash)\n",
    "myWallet.build_packet(opCode, param1, param2, param3, data)\n",
    "myWallet.query_wallet()\n",
    "signature = myWallet.response.decode('utf-8')\n",
    "print(signature)\n",
    "\n",
    "param2 = 0x01\n",
    "myWallet.build_packet(opCode, param1, param2, param3, data)\n",
    "myWallet.query_wallet()\n",
    "binarySignature = myWallet.response\n",
    "print(binarySignature.hex())"
   ]
  },
  {
   "cell_type": "code",
   "execution_count": null,
   "id": "6ac75461",
   "metadata": {},
   "outputs": [],
   "source": [
    "json = [{}]\n",
    "json[0]['protocol'] = protocol\n",
    "json[0]['branch'] = branch\n",
    "json[0]['contents'] = contents\n",
    "json[0]['signature'] = signature\n",
    "json"
   ]
  },
  {
   "cell_type": "code",
   "execution_count": null,
   "id": "1e642d68",
   "metadata": {},
   "outputs": [],
   "source": [
    "result = myRPC.preapply(json)\n",
    "result"
   ]
  },
  {
   "cell_type": "code",
   "execution_count": null,
   "id": "cabb77d3",
   "metadata": {},
   "outputs": [],
   "source": [
    "# inject \n",
    "# import requests\n",
    "\n",
    "#URL = '{nodeURL}/injection/operation'.format(nodeURL = nodeURL)\n",
    "params = {'chain': 'main'}\n",
    "data = binascii.hexlify(binaryForgedOperation[1:] + binarySignature).decode('utf-8')\n",
    "data = '\"' + data + '\"'\n",
    "print(data)\n",
    "# r = requests.Request('POST', URL, params = params, data = data)\n",
    "# prep = r.prepare()\n",
    "# print(prep.url)\n",
    "# print(prep.body)\n",
    "\n",
    "result = myRPC.injection_operation(params, data)\n",
    "print(result)"
   ]
  },
  {
   "cell_type": "code",
   "execution_count": null,
   "id": "17e6015f",
   "metadata": {},
   "outputs": [],
   "source": [
    "#inject\n",
    "\n",
    "\n",
    "print(data)\n",
    "result = myRPC.injection_operation(params, data)\n",
    "print(result)\n"
   ]
  },
  {
   "cell_type": "code",
   "execution_count": null,
   "id": "7e390ed0",
   "metadata": {},
   "outputs": [],
   "source": []
  },
  {
   "cell_type": "code",
   "execution_count": null,
   "id": "1f7f629b",
   "metadata": {},
   "outputs": [],
   "source": []
  },
  {
   "cell_type": "code",
   "execution_count": null,
   "id": "195c3386",
   "metadata": {},
   "outputs": [],
   "source": []
  },
  {
   "cell_type": "code",
   "execution_count": null,
   "id": "bc23ed67",
   "metadata": {},
   "outputs": [],
   "source": []
  },
  {
   "cell_type": "code",
   "execution_count": null,
   "id": "40bcd904",
   "metadata": {},
   "outputs": [],
   "source": []
  },
  {
   "cell_type": "code",
   "execution_count": null,
   "id": "3f8d90ab",
   "metadata": {},
   "outputs": [],
   "source": [
    "result['contents'][0]['metadata']['operation_result']['consumed_gas']"
   ]
  },
  {
   "cell_type": "code",
   "execution_count": null,
   "id": "51d0514d",
   "metadata": {},
   "outputs": [],
   "source": [
    "gas_limit = operation['contents'][0]['gas_limit']"
   ]
  },
  {
   "cell_type": "code",
   "execution_count": null,
   "id": "0205d3dd",
   "metadata": {},
   "outputs": [],
   "source": [
    "gas_limit"
   ]
  },
  {
   "cell_type": "code",
   "execution_count": null,
   "id": "9831b510",
   "metadata": {},
   "outputs": [],
   "source": [
    "str(int(int(gas_limit)*1.2))"
   ]
  },
  {
   "cell_type": "code",
   "execution_count": null,
   "id": "ddfccbfe",
   "metadata": {},
   "outputs": [],
   "source": []
  }
 ],
 "metadata": {
  "kernelspec": {
   "display_name": "Python 3 (ipykernel)",
   "language": "python",
   "name": "python3"
  },
  "language_info": {
   "codemirror_mode": {
    "name": "ipython",
    "version": 3
   },
   "file_extension": ".py",
   "mimetype": "text/x-python",
   "name": "python",
   "nbconvert_exporter": "python",
   "pygments_lexer": "ipython3",
   "version": "3.9.12"
  }
 },
 "nbformat": 4,
 "nbformat_minor": 5
}
