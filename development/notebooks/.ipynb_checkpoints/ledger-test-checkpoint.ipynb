{
 "cells": [
  {
   "cell_type": "markdown",
   "metadata": {},
   "source": [
    "## Generate Tezos Keys from Ledger Nano S Mnemonic Phrase\n",
    "\n",
    "This notebook explores how to the Ledger nano S generates key hashes from recovery phrases. The Ledger adheres to BIP39 and BIP32."
   ]
  },
  {
   "cell_type": "code",
   "execution_count": 1,
   "metadata": {},
   "outputs": [],
   "source": [
    "# import tools\n",
    "import bip_utils as bip\n",
    "import pytezos\n",
    "from pytezos.crypto.encoding import base58_decode, base58_encode, scrub_input\n",
    "import hmac\n",
    "import hashlib as hl\n",
    "import pysodium\n",
    "from pyblake2 import blake2b\n",
    "import base58"
   ]
  },
  {
   "cell_type": "code",
   "execution_count": 2,
   "metadata": {},
   "outputs": [],
   "source": [
    "# This is the seed phrase and Tezos public key hash (address) produced by a Ledger and the Tezos wallet app.\n",
    "# The Base58 encoding (with prefixes) for the public key and private key that generates this address are also given.\n",
    "phrase = 'motor jazz team food when coach reward hidden obtain faculty tornado crew toast inhale purchase conduct cube omit illness carbon ripple thank crew material'\n",
    "pkh = 'tz1MN2TrBeSeTvj7Lu3RxeqRwvTcBBo98iza'\n",
    "pk = 'edpkthCnqGYzzKZa3YFJYDDafa5xnZxdQQsHXh8n7qwFu1JRpRAE94'\n",
    "# private key\n",
    "secret = 'edskRvZKHaBdkQH8tkJZRVUF6kkSdXpEdBhJGFJh2fj9EgyEsAj2fTFNCUrBb2R33rwFgV9MLaqftUsSMqR5PqCL6omkmBMwBC'\n",
    "# this is the default derivation path used by the Tezos wallet on the Ledger\n",
    "default_path = \"m/44'/1729'/0'/0'\""
   ]
  },
  {
   "cell_type": "code",
   "execution_count": 3,
   "metadata": {},
   "outputs": [
    {
     "name": "stdout",
     "output_type": "stream",
     "text": [
      "8dbdbca8b45da2953a1a487aa89fda6addda80e006bc6ccf876ff22814ab7f4806c45aa41971c6d2459367defc0ef76078bc0240b56471aab4305a8f26e67484\n"
     ]
    }
   ],
   "source": [
    "# use pytezos module to convert the private key to hex\n",
    "secret_key = scrub_input(secret)\n",
    "sk = base58_decode(secret_key)\n",
    "print(sk.hex())"
   ]
  },
  {
   "cell_type": "code",
   "execution_count": 4,
   "metadata": {},
   "outputs": [
    {
     "data": {
      "text/plain": [
       "<pytezos.crypto.key.Key object at 0x7f3b58574df0>\n",
       "\n",
       "Public key hash\n",
       "tz1MN2TrBeSeTvj7Lu3RxeqRwvTcBBo98iza\n",
       "\n",
       "Helpers\n",
       ".blinded_public_key_hash()\n",
       ".from_alias()\n",
       ".from_encoded_key()\n",
       ".from_faucet()\n",
       ".from_mnemonic()\n",
       ".from_public_point()\n",
       ".from_secret_exponent()\n",
       ".generate()\n",
       ".public_key()\n",
       ".public_key_hash()\n",
       ".secret_key()\n",
       ".sign()\n",
       ".verify()"
      ]
     },
     "execution_count": 4,
     "metadata": {},
     "output_type": "execute_result"
    }
   ],
   "source": [
    "# what does pytezos do with the encoded secret\n",
    "pytezos.Key.from_encoded_key(secret.encode('utf-8'))"
   ]
  },
  {
   "cell_type": "code",
   "execution_count": 5,
   "metadata": {},
   "outputs": [
    {
     "name": "stdout",
     "output_type": "stream",
     "text": [
      "accecb88d83f6fe670361e31dcf853f688d1b3f7882e9e5e3367b66e637eb15b8a80066eb1b5b495bd55c48fd30717b5a877a66192f05a9f64cd50b38c41e7eb\n",
      "8dbdbca8b45da2953a1a487aa89fda6addda80e006bc6ccf876ff22814ab7f48\n",
      "8dbdbca8b45da2953a1a487aa89fda6addda80e006bc6ccf876ff22814ab7f48\n",
      "0006c45aa41971c6d2459367defc0ef76078bc0240b56471aab4305a8f26e67484\n",
      "8dbdbca8b45da2953a1a487aa89fda6addda80e006bc6ccf876ff22814ab7f4806c45aa41971c6d2459367defc0ef76078bc0240b56471aab4305a8f26e67484\n"
     ]
    }
   ],
   "source": [
    "# use bib_utils module to see if the Ledger uses a standard implementation of BIP32\n",
    "entropy = bip.Bip39MnemonicDecoder().Decode(phrase) # phrase to entropy\n",
    "seed = bip.Bip39SeedGenerator(phrase).Generate() # entropy to seed\n",
    "print(seed.hex())\n",
    "\n",
    "bip32_ctx = bip.Bip32Ed25519Slip.FromSeed(seed) # uses Ed25519 curve like Tezos tz1 accounts\n",
    "bip32_ctx = bip32_ctx.ChildKey(bip.Bip32Utils.HardenIndex(44)).ChildKey(bip.Bip32Utils.HardenIndex(1729)).ChildKey(bip.Bip32Utils.HardenIndex(0)).ChildKey(bip.Bip32Utils.HardenIndex(0))\n",
    "sk_bip32 = bip32_ctx.PrivateKey().Raw().ToBytes()\n",
    "print(sk_bip32.hex())\n",
    "\n",
    "# try another way\n",
    "bip32_ctx = bip.Bip32Ed25519Slip.FromSeedAndPath(seed, default_path) # uses Ed25519 curve like Tezos tz1 accounts\n",
    "sk_bip32 = bip32_ctx.PrivateKey().Raw().ToBytes()\n",
    "print(sk_bip32.hex())\n",
    "\n",
    "pk_bip32 = bip32_ctx.PublicKey().RawCompressed().ToBytes()\n",
    "print(pk_bip32.hex())\n",
    "\n",
    "secret_exponent_bip32 = sk_bip32 + pk_bip32[1:]\n",
    "print(secret_exponent_bip32.hex())\n"
   ]
  },
  {
   "cell_type": "code",
   "execution_count": 6,
   "metadata": {},
   "outputs": [
    {
     "name": "stdout",
     "output_type": "stream",
     "text": [
      "64\n"
     ]
    },
    {
     "data": {
      "text/plain": [
       "<pytezos.crypto.key.Key object at 0x7f3b5b74c9d0>\n",
       "\n",
       "Public key hash\n",
       "tz1MN2TrBeSeTvj7Lu3RxeqRwvTcBBo98iza\n",
       "\n",
       "Helpers\n",
       ".blinded_public_key_hash()\n",
       ".from_alias()\n",
       ".from_encoded_key()\n",
       ".from_faucet()\n",
       ".from_mnemonic()\n",
       ".from_public_point()\n",
       ".from_secret_exponent()\n",
       ".generate()\n",
       ".public_key()\n",
       ".public_key_hash()\n",
       ".secret_key()\n",
       ".sign()\n",
       ".verify()"
      ]
     },
     "execution_count": 6,
     "metadata": {},
     "output_type": "execute_result"
    }
   ],
   "source": [
    "# what does pytezos do with this sk\n",
    "print(len(sk))\n",
    "pytezos.Key.from_secret_exponent(sk)"
   ]
  },
  {
   "cell_type": "code",
   "execution_count": 7,
   "metadata": {},
   "outputs": [
    {
     "name": "stdout",
     "output_type": "stream",
     "text": [
      "64\n"
     ]
    },
    {
     "data": {
      "text/plain": [
       "<pytezos.crypto.key.Key object at 0x7f3b5b74c880>\n",
       "\n",
       "Public key hash\n",
       "tz1MN2TrBeSeTvj7Lu3RxeqRwvTcBBo98iza\n",
       "\n",
       "Helpers\n",
       ".blinded_public_key_hash()\n",
       ".from_alias()\n",
       ".from_encoded_key()\n",
       ".from_faucet()\n",
       ".from_mnemonic()\n",
       ".from_public_point()\n",
       ".from_secret_exponent()\n",
       ".generate()\n",
       ".public_key()\n",
       ".public_key_hash()\n",
       ".secret_key()\n",
       ".sign()\n",
       ".verify()"
      ]
     },
     "execution_count": 7,
     "metadata": {},
     "output_type": "execute_result"
    }
   ],
   "source": [
    "print(len(secret_exponent_bip32))\n",
    "pytezos.Key.from_secret_exponent(secret_exponent_bip32)"
   ]
  },
  {
   "cell_type": "markdown",
   "metadata": {},
   "source": [
    "### Can I recode these results?"
   ]
  },
  {
   "cell_type": "code",
   "execution_count": 20,
   "metadata": {},
   "outputs": [],
   "source": [
    "def mnemonic_to_seed(phrase:str, password:str = ''):\n",
    "    passphrase = 'mnemonic' + password\n",
    "    seed = hl.pbkdf2_hmac('sha512', phrase.encode('utf-8'), passphrase.encode('utf-8'), 2048)\n",
    "    return seed\n",
    "\n",
    "def parse_path(path: str): # default tezos path\n",
    "    if path.endswith('/'):\n",
    "        path = path[:-1]\n",
    "    path = path.split('/')\n",
    "    \n",
    "    if path[0] == 'm' or path[0] == '':\n",
    "        path = path[1:]\n",
    "    \n",
    "    indeces = []\n",
    "    for each in path:\n",
    "        if each.endswith(\"'\"): # hardened\n",
    "            index = (1 << 31) + int(each[:-1])\n",
    "            index = index.to_bytes(4,'big') # from int to bytes\n",
    "        else:\n",
    "            index = int(each)\n",
    "        indeces.append(index)\n",
    "    \n",
    "    return indeces\n",
    "\n",
    "def hmac_sha512(key, data):\n",
    "    I = (hmac.new(key, data, hl.sha512)).digest()\n",
    "    IL = I[:32]\n",
    "    IR = I[32:]\n",
    "    return IL, IR\n",
    "\n",
    "def seed_to_master(seed):\n",
    "    data = seed\n",
    "    key = b'ed25519 seed'\n",
    "    master_sk, master_cc = hmac_sha512(key, data)\n",
    "    return master_sk, master_cc\n",
    "\n",
    "def parent_to_child(parent_sk, parent_cc, index):\n",
    "    data = b'\\x00' + parent_sk + index\n",
    "    child_sk, child_cc = hmac_sha512(parent_cc, data)\n",
    "    return child_sk, child_cc\n",
    "\n",
    "def derivation_path_to_keys(master_sk, master_cc, path:str = \"m/44'/1729'/0'/0'\"):\n",
    "    indeces = parse_path(path)\n",
    "    child_sk = master_sk\n",
    "    child_cc = master_cc\n",
    "    for index in indeces:\n",
    "        child_sk, child_cc = parent_to_child(child_sk, child_cc, index)\n",
    "    \n",
    "    return child_sk, child_cc\n",
    "    \n",
    "def sk_to_public_point(sk): # for Ed25519, the public point is the public key and the secret exponent is the sk || pk\n",
    "    public_point, secret_exponent = pysodium.crypto_sign_seed_keypair(seed=sk)\n",
    "    return public_point, secret_exponent\n",
    "    \n",
    "def pk_hash(public_point, prefix: bytes): # default prefix is tz1\n",
    "    pkh = blake2b(data=public_point, digest_size=20).digest()\n",
    "    tzaddress = blake2b_checksum(pkh, prefix)\n",
    "    return tzaddress\n",
    "\n",
    "def blake2b_checksum(data: bytes, prefix: bytes):\n",
    "    b58 = base58.b58encode_check(prefix + data)\n",
    "    return b58\n",
    "    "
   ]
  },
  {
   "cell_type": "code",
   "execution_count": null,
   "metadata": {},
   "outputs": [],
   "source": []
  },
  {
   "cell_type": "code",
   "execution_count": 25,
   "metadata": {},
   "outputs": [
    {
     "name": "stdout",
     "output_type": "stream",
     "text": [
      "b'tz1MN2TrBeSeTvj7Lu3RxeqRwvTcBBo98iza'\n",
      "b'edskRvZKHaBdkQH8tkJZRVUF6kkSdXpEdBhJGFJh2fj9EgyEsAj2fTFNCUrBb2R33rwFgV9MLaqftUsSMqR5PqCL6omkmBMwBC'\n",
      "b'edpkthCnqGYzzKZa3YFJYDDafa5xnZxdQQsHXh8n7qwFu1JRpRAE94'\n"
     ]
    }
   ],
   "source": [
    "# SLIP10 - alternative to BIP32\n",
    "seed = mnemonic_to_seed(phrase) # mnemonic to seed\n",
    "master_sk, master_cc = seed_to_master(seed) # seed to master secret key and chaincode \n",
    "child_sk, child_cc = derivation_path_to_keys(master_sk, master_cc, \"m/44'/1729'/0'/0'\") # master sk and cc to child sk and cc\n",
    "public_point, secret_exponent = sk_to_public_point(child_sk) # public point and secret exponent\n",
    "tzaddress = pk_hash(public_point, prefix = b'\\x06\\xa1\\x9f') # prefix b'tz1'\n",
    "secret = blake2b_checksum(secret_exponent, prefix = b'+\\xf6N\\x07') # prefix b'edsk'\n",
    "pk = blake2b_checksum(public_point, prefix = b'\\r\\x0f%\\xd9')\n",
    "print(tzaddress)\n",
    "print(secret)\n",
    "print(pk)"
   ]
  },
  {
   "cell_type": "code",
   "execution_count": null,
   "metadata": {},
   "outputs": [],
   "source": []
  },
  {
   "cell_type": "code",
   "execution_count": null,
   "metadata": {},
   "outputs": [],
   "source": []
  },
  {
   "cell_type": "code",
   "execution_count": 9,
   "metadata": {},
   "outputs": [
    {
     "name": "stdout",
     "output_type": "stream",
     "text": [
      "8dbdbca8b45da2953a1a487aa89fda6addda80e006bc6ccf876ff22814ab7f48\n",
      "8dbdbca8b45da2953a1a487aa89fda6addda80e006bc6ccf876ff22814ab7f4806c45aa41971c6d2459367defc0ef76078bc0240b56471aab4305a8f26e67484\n",
      "06c45aa41971c6d2459367defc0ef76078bc0240b56471aab4305a8f26e67484\n"
     ]
    }
   ],
   "source": [
    "# SLIP10 - alternative to BIP32\n",
    "\n",
    "# 1) master key from seed\n",
    "data = seed\n",
    "key = b'ed25519 seed'\n",
    "I = hmac.new(key, data, hl.sha512)\n",
    "master_sk = I.digest()[:32] # IL\n",
    "master_cc = I.digest()[32:] # IR\n",
    "\n",
    "# 2) child 44'\n",
    "I = hmac.new(master_cc, b'\\x00' + master_sk + ((0x01 << 31)+44).to_bytes(4,'big'), hl.sha512)\n",
    "child_cc = I.digest()[32:]\n",
    "child_sk = I.digest()[:32]\n",
    "\n",
    "# 3) child 1729'\n",
    "I = hmac.new(child_cc, b'\\x00' + child_sk + ((0x01 << 31) + 1729).to_bytes(4,'big'), hl.sha512)\n",
    "child_cc = I.digest()[32:]\n",
    "child_sk = I.digest()[:32]\n",
    "\n",
    "# 4) child 0'\n",
    "I = hmac.new(child_cc, b'\\x00' + child_sk + ((0x01 << 31) + 0).to_bytes(4,'big'), hl.sha512)\n",
    "child_cc = I.digest()[32:]\n",
    "child_sk = I.digest()[:32]\n",
    "\n",
    "# 5) child 0'\n",
    "I = hmac.new(child_cc, b'\\x00' + child_sk + ((0x01 << 31) + 0).to_bytes(4,'big'), hl.sha512)\n",
    "child_cc = I.digest()[32:]\n",
    "child_sk = I.digest()[:32]\n",
    "\n",
    "public_point, secret_exponent = pysodium.crypto_sign_seed_keypair(seed=child_sk)\n",
    "print(child_sk.hex())\n",
    "print(secret_exponent.hex())\n",
    "print(public_point.hex())"
   ]
  },
  {
   "cell_type": "code",
   "execution_count": 23,
   "metadata": {},
   "outputs": [
    {
     "name": "stdout",
     "output_type": "stream",
     "text": [
      "b'tz1MN2TrBeSeTvj7Lu3RxeqRwvTcBBo98iza'\n"
     ]
    }
   ],
   "source": [
    "# Blake2b hash and base58 encoding\n",
    "def tb(l):\n",
    "    return b''.join(map(lambda x: x.to_bytes(1, 'big'), l))\n",
    "\n",
    "\n",
    "pkh = blake2b(data=public_point, digest_size=20).digest()\n",
    "prefix = tb([6, 161, 159]) # tz1\n",
    "tzaddress = base58.b58encode_check(prefix + pkh)\n",
    "print(tzaddress)"
   ]
  },
  {
   "cell_type": "code",
   "execution_count": 53,
   "metadata": {},
   "outputs": [
    {
     "data": {
      "text/plain": [
       "b'+\\xf6N\\x07'"
      ]
     },
     "execution_count": 53,
     "metadata": {},
     "output_type": "execute_result"
    }
   ],
   "source": [
    "tb([43, 246, 78, 7])"
   ]
  },
  {
   "cell_type": "code",
   "execution_count": 24,
   "metadata": {},
   "outputs": [
    {
     "data": {
      "text/plain": [
       "b'\\r\\x0f%\\xd9'"
      ]
     },
     "execution_count": 24,
     "metadata": {},
     "output_type": "execute_result"
    }
   ],
   "source": [
    "tb([13, 15, 37, 217])"
   ]
  },
  {
   "cell_type": "code",
   "execution_count": 17,
   "metadata": {},
   "outputs": [
    {
     "name": "stdout",
     "output_type": "stream",
     "text": [
      "906eef7aad6fa2596e2b5b988a379599ae30e76b897635734dc4913ba5bf8cd4\n",
      "accecb88d83f6fe670361e31dcf853f688d1b3f7882e9e5e3367b66e637eb15b8a80066eb1b5b495bd55c48fd30717b5a877a66192f05a9f64cd50b38c41e7eb\n"
     ]
    }
   ],
   "source": [
    "e = bip.Bip39MnemonicDecoder().Decode(phrase)\n",
    "s = bip.Bip39SeedGenerator(phrase).Generate()\n",
    "print(e.hex())\n",
    "print(s.hex())"
   ]
  },
  {
   "cell_type": "code",
   "execution_count": 32,
   "metadata": {},
   "outputs": [],
   "source": [
    "bip32_ctx = bip.Bip32Ed25519Slip.FromSeed(s)\n",
    "bip32_ctx = bip32_ctx.ChildKey(bip.Bip32Utils.HardenIndex(44)).ChildKey(bip.Bip32Utils.HardenIndex(1729)).ChildKey(bip.Bip32Utils.HardenIndex(0)).ChildKey(bip.Bip32Utils.HardenIndex(0))"
   ]
  },
  {
   "cell_type": "code",
   "execution_count": 33,
   "metadata": {},
   "outputs": [
    {
     "data": {
      "text/plain": [
       "'8dbdbca8b45da2953a1a487aa89fda6addda80e006bc6ccf876ff22814ab7f48'"
      ]
     },
     "execution_count": 33,
     "metadata": {},
     "output_type": "execute_result"
    }
   ],
   "source": [
    "bip32_ctx.PrivateKey().Raw().ToBytes().hex()"
   ]
  },
  {
   "cell_type": "code",
   "execution_count": 40,
   "metadata": {},
   "outputs": [
    {
     "data": {
      "text/plain": [
       "'0006c45aa41971c6d2459367defc0ef76078bc0240b56471aab4305a8f26e67484'"
      ]
     },
     "execution_count": 40,
     "metadata": {},
     "output_type": "execute_result"
    }
   ],
   "source": [
    "bip32_ctx.PublicKey().RawUncompressed().ToBytes().hex()"
   ]
  },
  {
   "cell_type": "code",
   "execution_count": 2,
   "metadata": {},
   "outputs": [
    {
     "data": {
      "text/plain": [
       "<pytezos.crypto.key.Key object at 0x7f89a44feaf0>\n",
       "\n",
       "Public key hash\n",
       "tz1MN2TrBeSeTvj7Lu3RxeqRwvTcBBo98iza\n",
       "\n",
       "Helpers\n",
       ".blinded_public_key_hash()\n",
       ".from_alias()\n",
       ".from_encoded_key()\n",
       ".from_faucet()\n",
       ".from_mnemonic()\n",
       ".from_public_point()\n",
       ".from_secret_exponent()\n",
       ".generate()\n",
       ".public_key()\n",
       ".public_key_hash()\n",
       ".secret_key()\n",
       ".sign()\n",
       ".verify()"
      ]
     },
     "execution_count": 2,
     "metadata": {},
     "output_type": "execute_result"
    }
   ],
   "source": [
    "import pytezos\n",
    "pytezos.Key.from_encoded_key(secret.encode('utf-8'))"
   ]
  },
  {
   "cell_type": "code",
   "execution_count": 3,
   "metadata": {},
   "outputs": [],
   "source": [
    "from pytezos.crypto.encoding import base58_decode, base58_encode, scrub_input"
   ]
  },
  {
   "cell_type": "code",
   "execution_count": 4,
   "metadata": {},
   "outputs": [],
   "source": [
    "secret_key = scrub_input(secret)"
   ]
  },
  {
   "cell_type": "code",
   "execution_count": 5,
   "metadata": {},
   "outputs": [
    {
     "data": {
      "text/plain": [
       "b'edskRvZKHaBdkQH8tkJZRVUF6kkSdXpEdBhJGFJh2fj9EgyEsAj2fTFNCUrBb2R33rwFgV9MLaqftUsSMqR5PqCL6omkmBMwBC'"
      ]
     },
     "execution_count": 5,
     "metadata": {},
     "output_type": "execute_result"
    }
   ],
   "source": [
    "secret_key"
   ]
  },
  {
   "cell_type": "code",
   "execution_count": 6,
   "metadata": {},
   "outputs": [
    {
     "name": "stdout",
     "output_type": "stream",
     "text": [
      "8dbdbca8b45da2953a1a487aa89fda6addda80e006bc6ccf876ff22814ab7f4806c45aa41971c6d2459367defc0ef76078bc0240b56471aab4305a8f26e67484\n",
      "64\n"
     ]
    }
   ],
   "source": [
    "secret_decode = base58_decode(secret_key)\n",
    "print(secret_decode.hex())\n",
    "print(len(secret_decode))"
   ]
  },
  {
   "cell_type": "markdown",
   "metadata": {},
   "source": [
    "* pkh = 'tz1bVaVSGQYcwZF1Qfc5zTbqghEhncigcsPX' when using root /ed25519 key\n",
    "* pkh = 'tz3MHwDevGRmfUF11zkpG5XtYpPWGdRgNtdM' when using /P-256/0h/0h\n",
    "* pkh = 'tz3TsZ7fQyCSpf16MVYttxDELJgGAW83oc6Z' when using /P-256"
   ]
  },
  {
   "cell_type": "code",
   "execution_count": 7,
   "metadata": {},
   "outputs": [],
   "source": [
    "# test bip32\n",
    "from bip32 import BIP32, HARDENED_INDEX"
   ]
  },
  {
   "cell_type": "code",
   "execution_count": null,
   "metadata": {},
   "outputs": [],
   "source": []
  },
  {
   "cell_type": "code",
   "execution_count": null,
   "metadata": {},
   "outputs": [],
   "source": []
  },
  {
   "cell_type": "code",
   "execution_count": 9,
   "metadata": {},
   "outputs": [],
   "source": [
    "from mnemonic import Mnemonic\n",
    "import hashlib as hl\n",
    "import numpy as np\n",
    "import pysodium\n",
    "import binascii\n",
    "import struct\n",
    "import hmac\n",
    "import ecdsa\n",
    "from ecdsa.curves import SECP256k1\n",
    "from ecdsa.ecdsa import int_to_string, string_to_int"
   ]
  },
  {
   "cell_type": "code",
   "execution_count": 10,
   "metadata": {},
   "outputs": [
    {
     "name": "stdout",
     "output_type": "stream",
     "text": [
      "906eef7aad6fa2596e2b5b988a379599ae30e76b897635734dc4913ba5bf8cd4\n",
      "accecb88d83f6fe670361e31dcf853f688d1b3f7882e9e5e3367b66e637eb15b8a80066eb1b5b495bd55c48fd30717b5a877a66192f05a9f64cd50b38c41e7eb\n"
     ]
    }
   ],
   "source": [
    "mnemo = Mnemonic('english')\n",
    "entropy = mnemo.to_entropy(phrase)\n",
    "seed = Mnemonic.to_seed(phrase)\n",
    "print(entropy.hex())\n",
    "print(seed.hex())"
   ]
  },
  {
   "cell_type": "code",
   "execution_count": 11,
   "metadata": {},
   "outputs": [
    {
     "name": "stdout",
     "output_type": "stream",
     "text": [
      "accecb88d83f6fe670361e31dcf853f688d1b3f7882e9e5e3367b66e637eb15b\n",
      "8a80066eb1b5b495bd55c48fd30717b5a877a66192f05a9f64cd50b38c41e7eb\n"
     ]
    }
   ],
   "source": [
    "secret = seed[:32]\n",
    "chain = seed[32:]\n",
    "print(secret.hex())\n",
    "print(chain.hex())"
   ]
  },
  {
   "cell_type": "code",
   "execution_count": null,
   "metadata": {},
   "outputs": [],
   "source": []
  },
  {
   "cell_type": "code",
   "execution_count": null,
   "metadata": {},
   "outputs": [],
   "source": []
  },
  {
   "cell_type": "code",
   "execution_count": null,
   "metadata": {},
   "outputs": [],
   "source": []
  },
  {
   "cell_type": "code",
   "execution_count": null,
   "metadata": {},
   "outputs": [],
   "source": []
  },
  {
   "cell_type": "code",
   "execution_count": 16,
   "metadata": {},
   "outputs": [
    {
     "name": "stdout",
     "output_type": "stream",
     "text": [
      "b'motor jazz team food when coach reward hidden obtain faculty tornado crew toast inhale purchase conduct cube omit illness carbon ripple thank crew material'\n",
      "accecb88d83f6fe670361e31dcf853f688d1b3f7882e9e5e3367b66e637eb15b8a80066eb1b5b495bd55c48fd30717b5a877a66192f05a9f64cd50b38c41e7eb\n",
      "accecb88d83f6fe670361e31dcf853f688d1b3f7882e9e5e3367b66e637eb15b\n"
     ]
    }
   ],
   "source": [
    "# mnemonic phrase to seed and secret exponent\n",
    "password = ''\n",
    "mnemonic = phrase\n",
    "passphrase = 'mnemonic' + password\n",
    "# passphrase = '|'\n",
    "mnemonic_bytes = mnemonic.encode(\"utf-8\")\n",
    "print(mnemonic_bytes)\n",
    "passphrase_bytes = passphrase.encode(\"utf-8\")\n",
    "stretched = hl.pbkdf2_hmac(\"sha512\", mnemonic_bytes, passphrase_bytes, 2048)\n",
    "seed = stretched[:64]\n",
    "print(seed.hex())\n",
    "# for P256/secp256r1 secret exponent is the first 32 bytes of the seed, for \n",
    "secret_exponent = seed[:32]\n",
    "print(secret_exponent.hex())"
   ]
  },
  {
   "cell_type": "code",
   "execution_count": null,
   "metadata": {},
   "outputs": [],
   "source": []
  },
  {
   "cell_type": "code",
   "execution_count": 10,
   "metadata": {},
   "outputs": [
    {
     "name": "stdout",
     "output_type": "stream",
     "text": [
      "4bf723052e2f624cf23b4dee2d7b00715e352b86cbbb27f2f286bc7f5e302a4b\n",
      "8a80066eb1b5b495bd55c48fd30717b5a877a66192f05a9f64cd50b38c41e7eb\n"
     ]
    }
   ],
   "source": [
    "public_point, secret_exponent = pysodium.crypto_sign_seed_keypair(seed=secret_exponent)\n",
    "# public_point, secret_exponent = pysodium.crypto_sign_seed_keypair(seed=bytes(entropy))\n",
    "public_point2 = pysodium.crypto_sign_sk_to_pk(sk=seed)\n",
    "# pk, sk = pysodium.crypto_sign_seed_keypair(bytes(entropy))\n",
    "# pk2 = pysodium.crypto_sign_sk_to_pk(sk = sk)\n",
    "# print(pk.hex())\n",
    "# print(sk.hex())\n",
    "# print(pk2.hex())\n",
    "\n",
    "print(public_point.hex())\n",
    "print(public_point2.hex())\n"
   ]
  },
  {
   "cell_type": "code",
   "execution_count": 11,
   "metadata": {},
   "outputs": [
    {
     "name": "stdout",
     "output_type": "stream",
     "text": [
      "db61c95a1344a6d5f6a8cb40046f31ee239a539f\n",
      "tz1fe1pTUgDkn5PGW9QgwCWQiAqpdq1CRAev\n"
     ]
    }
   ],
   "source": [
    "from pyblake2 import blake2b\n",
    "from pytezos.crypto.encoding import base58_decode, base58_encode\n",
    "# generate hash\n",
    "pkh = blake2b(data=public_point2, digest_size=20).digest()\n",
    "print(pkh.hex())\n",
    "prefix = b'tz1'\n",
    "public_hash = base58_encode(pkh, prefix).decode()\n",
    "print(public_hash)\n",
    "\n"
   ]
  },
  {
   "cell_type": "code",
   "execution_count": 94,
   "metadata": {},
   "outputs": [
    {
     "name": "stdout",
     "output_type": "stream",
     "text": [
      "906eef7aad6fa2596e2b5b988a379599ae30e76b897635734dc4913ba5bf8cd447\n"
     ]
    }
   ],
   "source": [
    "# add checksum\n",
    "h = hl.sha256()\n",
    "h.update(entropy)\n",
    "entropy_cs = entropy\n",
    "entropy_cs.append(h.digest()[0])\n",
    "print(entropy_cs.hex())"
   ]
  },
  {
   "cell_type": "code",
   "execution_count": 34,
   "metadata": {},
   "outputs": [
    {
     "name": "stdout",
     "output_type": "stream",
     "text": [
      "[1, 0, 0, 1, 0, 0, 0, 0, 0, 1, 1, 0, 1, 1, 1, 0, 1, 1, 1, 0, 1, 1, 1, 1, 0, 1, 1, 1, 1, 0, 1, 0, 1, 0, 1, 0, 1, 1, 0, 1, 0, 1, 1, 0, 1, 1, 1, 1, 1, 0, 1, 0, 0, 0, 1, 0, 0, 1, 0, 1, 1, 0, 0, 1, 0, 1, 1, 0, 1, 1, 1, 0, 0, 0, 1, 0, 1, 0, 1, 1, 0, 1, 0, 1, 1, 0, 1, 1, 1, 0, 0, 1, 1, 0, 0, 0, 1, 0, 0, 0, 1, 0, 1, 0, 0, 0, 1, 1, 0, 1, 1, 1, 1, 0, 0, 1, 0, 1, 0, 1, 1, 0, 0, 1, 1, 0, 0, 1, 1, 0, 1, 0, 1, 1, 1, 0, 0, 0, 1, 1, 0, 0, 0, 0, 1, 1, 1, 0, 0, 1, 1, 1, 0, 1, 1, 0, 1, 0, 1, 1, 1, 0, 0, 0, 1, 0, 0, 1, 0, 1, 1, 1, 0, 1, 1, 0, 0, 0, 1, 1, 0, 1, 0, 1, 0, 1, 1, 1, 0, 0, 1, 1, 0, 1, 0, 0, 1, 1, 0, 1, 1, 1, 0, 0, 0, 1, 0, 0, 1, 0, 0, 1, 0, 0, 0, 1, 0, 0, 1, 1, 1, 0, 1, 1, 1, 0, 1, 0, 0, 1, 0, 1, 1, 0, 1, 1, 1, 1, 1, 1, 1, 0, 0, 0, 1, 1, 0, 0, 1, 1, 0, 1, 0, 1, 0, 0, 0, 1, 0, 0, 0, 1, 1, 1]\n",
      "264\n",
      "motor jazz team food when coach reward hidden obtain faculty tornado crew toast inhale purchase conduct cube omit illness carbon ripple thank crew material\n"
     ]
    }
   ],
   "source": [
    "# convert byte array to bit array\n",
    "bits = []\n",
    "for byte in entropy_cs:\n",
    "    for i in range(8):\n",
    "        if (byte & 0b10000000 >> i):\n",
    "            bits.append(1)\n",
    "        else:\n",
    "            bits.append(0)\n",
    "        \n",
    "print(bits)\n",
    "print(len(bits))\n",
    "\n",
    "# import vocab\n",
    "# import the vocabulary\n",
    "f = open('bip39english.txt', 'r')\n",
    "vocab = [line.strip('\\n') for line in f]\n",
    "f.close()\n",
    "\n",
    "# iterate through bits with 11 bit chunks\n",
    "my_words = []\n",
    "for k in range(0,int(len(bits)/11)):\n",
    "    chunk = bits[k*11:k*11+11]\n",
    "    index = 0\n",
    "    for j in range(11):\n",
    "        index += chunk[j]*2**(11-1-j)\n",
    "    my_words.append(vocab[index])\n",
    "my_phrase = ' '.join(my_words)\n",
    "print(my_phrase)"
   ]
  },
  {
   "cell_type": "code",
   "execution_count": 35,
   "metadata": {},
   "outputs": [
    {
     "name": "stdout",
     "output_type": "stream",
     "text": [
      "74f8315f8990058a25aa8b4b80b20afcd3b72b50dc3bed40cfdc6b9362f9cc3cfba44c0e12c41f474c7a772367bcf0af8cf213e47d507fdc66b9937aca0b7286\n",
      "fba44c0e12c41f474c7a772367bcf0af8cf213e47d507fdc66b9937aca0b7286\n"
     ]
    }
   ],
   "source": [
    "# generate public point from secret\n",
    "public_point, secret_exponent = pysodium.crypto_sign_seed_keypair(seed=seed[:32])\n",
    "print(secret_exponent.hex())\n",
    "print(public_point.hex())"
   ]
  },
  {
   "cell_type": "code",
   "execution_count": null,
   "metadata": {},
   "outputs": [],
   "source": []
  },
  {
   "cell_type": "code",
   "execution_count": null,
   "metadata": {},
   "outputs": [],
   "source": []
  },
  {
   "cell_type": "code",
   "execution_count": null,
   "metadata": {},
   "outputs": [],
   "source": [
    "mnemo = Mnemonic(\"english\")\n",
    "phrase = mnemo.generate(256)\n",
    "print(phrase)"
   ]
  },
  {
   "cell_type": "code",
   "execution_count": null,
   "metadata": {},
   "outputs": [],
   "source": [
    "entropy = mnemo.to_entropy(phrase)\n",
    "entropy_list = list(entropy)\n",
    "print(entropy)\n",
    "print(entropy_list)\n",
    "print(entropy.hex())"
   ]
  },
  {
   "cell_type": "code",
   "execution_count": null,
   "metadata": {},
   "outputs": [],
   "source": [
    "# calculate checksum length\n",
    "el = len(entropy)*8 # length in bits\n",
    "csl = int(el/32) # checksum length\n",
    "print(csl)"
   ]
  },
  {
   "cell_type": "code",
   "execution_count": null,
   "metadata": {},
   "outputs": [],
   "source": [
    "h = hl.sha256()\n",
    "h.update(entropy)\n",
    "entropy.append(h.digest()[0])\n",
    "print(entropy.hex())"
   ]
  },
  {
   "cell_type": "code",
   "execution_count": null,
   "metadata": {},
   "outputs": [],
   "source": [
    "# convert byte array to bit array\n",
    "bits = []\n",
    "for byte in entropy:\n",
    "    for i in range(8):\n",
    "        if (byte & 0b10000000 >> i):\n",
    "            bits.append(1)\n",
    "        else:\n",
    "            bits.append(0)\n",
    "        \n",
    "print(bits)\n",
    "print(len(bits))"
   ]
  },
  {
   "cell_type": "code",
   "execution_count": null,
   "metadata": {},
   "outputs": [],
   "source": [
    "# import vocab\n",
    "# import the vocabulary\n",
    "f = open('bip39english.txt', 'r')\n",
    "vocab = [line.strip('\\n') for line in f]\n",
    "f.close()"
   ]
  },
  {
   "cell_type": "code",
   "execution_count": null,
   "metadata": {},
   "outputs": [],
   "source": [
    "# iterate through bits with 11 bit chunks\n",
    "my_words = []\n",
    "for k in range(0,int(len(bits)/11)):\n",
    "    chunk = bits[k*11:k*11+11]\n",
    "    index = 0\n",
    "    for j in range(11):\n",
    "        index += chunk[j]*2**(11-1-j)\n",
    "    my_words.append(vocab[index])\n",
    "my_phrase = ' '.join(my_words)\n",
    "print(my_phrase)"
   ]
  },
  {
   "cell_type": "markdown",
   "metadata": {},
   "source": [
    "## Entropy to Mnemonic\n",
    "\n",
    "The following shows how to go from a random seed (entropy) to 24-word mnemonic phrase"
   ]
  },
  {
   "cell_type": "code",
   "execution_count": null,
   "metadata": {},
   "outputs": [],
   "source": [
    "# generate 256 bit random number\n",
    "myentropy = bytearray(np.random.bytes(32))\n",
    "print(myentropy.hex())"
   ]
  },
  {
   "cell_type": "code",
   "execution_count": null,
   "metadata": {},
   "outputs": [],
   "source": [
    "# add hash byte\n",
    "h = hl.sha256()\n",
    "h.update(myentropy)\n",
    "myentropy.append(h.digest()[0])\n",
    "print(myentropy.hex())"
   ]
  },
  {
   "cell_type": "code",
   "execution_count": null,
   "metadata": {},
   "outputs": [],
   "source": [
    "# convert byte array to bit array\n",
    "bits = []\n",
    "for byte in myentropy:\n",
    "    for i in range(8):\n",
    "        if (byte & 0b10000000 >> i):\n",
    "            bits.append(1)\n",
    "        else:\n",
    "            bits.append(0)\n",
    "        \n",
    "print(bits)\n",
    "print(len(bits))"
   ]
  },
  {
   "cell_type": "code",
   "execution_count": null,
   "metadata": {},
   "outputs": [],
   "source": [
    "# import vocab\n",
    "# import the vocabulary\n",
    "f = open('bip39english.txt', 'r')\n",
    "vocab = [line.strip('\\n') for line in f]\n",
    "f.close()"
   ]
  },
  {
   "cell_type": "code",
   "execution_count": null,
   "metadata": {},
   "outputs": [],
   "source": [
    "# iterate through bits with 11 bit chunks\n",
    "my_words = []\n",
    "for k in range(0,int(len(bits)/11)):\n",
    "    chunk = bits[k*11:k*11+11]\n",
    "    index = 0\n",
    "    for j in range(11):\n",
    "        index += chunk[j]*2**(11-1-j)\n",
    "    my_words.append(vocab[index])\n",
    "my_phrase = ' '.join(my_words)\n",
    "print(my_phrase)"
   ]
  },
  {
   "cell_type": "code",
   "execution_count": null,
   "metadata": {},
   "outputs": [],
   "source": [
    "# check\n",
    "e = mnemo.to_entropy(my_phrase)\n",
    "e_list = list(e)\n",
    "print(e)\n",
    "print(e_list)\n",
    "print(e.hex())"
   ]
  },
  {
   "cell_type": "markdown",
   "metadata": {},
   "source": [
    "## Mnemonic to Seed\n",
    "\n",
    "Tezos takes the mnemonic and hashes it with an optional passphrase to formulate a secret key."
   ]
  },
  {
   "cell_type": "code",
   "execution_count": 15,
   "metadata": {},
   "outputs": [
    {
     "name": "stdout",
     "output_type": "stream",
     "text": [
      "b'motor jazz team food when coach reward hidden obtain faculty tornado crew toast inhale purchase conduct cube omit illness carbon ripple thank crew material'\n",
      "b8172558fa4ef06cecbbb6873c8c50989710f9f8c307375769fdb6de516d41447c6fe5a6da41919f4ce8dccc673e457c310a7f050d4edc76a0917d62fbd3ee06\n",
      "b8172558fa4ef06cecbbb6873c8c50989710f9f8c307375769fdb6de516d4144\n"
     ]
    }
   ],
   "source": [
    "password = ''\n",
    "mnemonic = phrase\n",
    "passphrase = 'mnemonic' + password\n",
    "passphrase = 'Bitcoin seed' + password\n",
    "mnemonic_bytes = mnemonic.encode(\"utf-8\")\n",
    "print(mnemonic_bytes)\n",
    "passphrase_bytes = passphrase.encode(\"utf-8\")\n",
    "stretched = hl.pbkdf2_hmac(\"sha512\", mnemonic_bytes, passphrase_bytes, 2048)\n",
    "seed = stretched[:64]\n",
    "print(seed.hex())\n",
    "# for P256/secp256r1 secret exponent is the first 32 bytes of the seed\n",
    "secret_exponent = seed[:32]\n",
    "print(secret_exponent.hex())"
   ]
  },
  {
   "cell_type": "code",
   "execution_count": 28,
   "metadata": {},
   "outputs": [
    {
     "name": "stdout",
     "output_type": "stream",
     "text": [
      "X: 0x6bdee78f49c3a11c6c8d495a2a7489d24494441218795d54f2a46fc48840373b\n",
      "Y: 0x72935d82358185f6a793bbf3aa8afd0d1ebef78ad3196eed39710d894ff02b96\n",
      "(On curve <P256>)\n",
      "026bdee78f49c3a11c6c8d495a2a7489d24494441218795d54f2a46fc48840373b\n"
     ]
    }
   ],
   "source": [
    "# P256\n",
    "import fastecdsa.keys \n",
    "import fastecdsa.curve\n",
    "from fastecdsa.encoding.util import bytes_to_int\n",
    "import fastecdsa.encoding.sec1\n",
    "from pyblake2 import blake2b\n",
    "from pytezos.crypto.encoding import base58_decode, base58_encode\n",
    "\n",
    "pk = fastecdsa.keys.get_public_key(bytes_to_int(secret_exponent), curve=fastecdsa.curve.P256)\n",
    "public_point = fastecdsa.encoding.sec1.SEC1Encoder.encode_public_key(pk)\n",
    "print(pk)\n",
    "print(public_point.hex())"
   ]
  },
  {
   "cell_type": "code",
   "execution_count": 29,
   "metadata": {},
   "outputs": [
    {
     "name": "stdout",
     "output_type": "stream",
     "text": [
      "bf3bad293c6e802a979047a3be576ce73f5c77a4\n",
      "tz3dmCAh4DzjUJohjqFiuBJsmaUunomE3e8e\n"
     ]
    }
   ],
   "source": [
    "pkh = blake2b(data=public_point, digest_size=20).digest()\n",
    "print(pkh.hex())\n",
    "prefix = b'tz3'\n",
    "public_hash = base58_encode(pkh, prefix).decode()\n",
    "print(public_hash)"
   ]
  },
  {
   "cell_type": "code",
   "execution_count": 30,
   "metadata": {},
   "outputs": [
    {
     "data": {
      "text/plain": [
       "<pytezos.crypto.key.Key object at 0x7f50396cef70>\n",
       "\n",
       "Public key hash\n",
       "tz3dmCAh4DzjUJohjqFiuBJsmaUunomE3e8e\n",
       "\n",
       "Helpers\n",
       ".blinded_public_key_hash()\n",
       ".from_alias()\n",
       ".from_encoded_key()\n",
       ".from_faucet()\n",
       ".from_mnemonic()\n",
       ".from_public_point()\n",
       ".from_secret_exponent()\n",
       ".generate()\n",
       ".public_key()\n",
       ".public_key_hash()\n",
       ".secret_key()\n",
       ".sign()\n",
       ".verify()"
      ]
     },
     "execution_count": 30,
     "metadata": {},
     "output_type": "execute_result"
    }
   ],
   "source": [
    "# compare to pytezos results\n",
    "from pytezos.crypto.key import Key\n",
    "p2pk = Key.from_public_point(\n",
    "    bytes.fromhex(public_point.hex()), \n",
    "    curve=b'p2')\n",
    "p2pk"
   ]
  },
  {
   "cell_type": "markdown",
   "metadata": {},
   "source": [
    "### Questions\n",
    "\n",
    "How does a ledger convert seed phrase into keys and key hash? "
   ]
  },
  {
   "cell_type": "code",
   "execution_count": null,
   "metadata": {},
   "outputs": [],
   "source": []
  }
 ],
 "metadata": {
  "kernelspec": {
   "display_name": "Python 3",
   "language": "python",
   "name": "python3"
  },
  "language_info": {
   "codemirror_mode": {
    "name": "ipython",
    "version": 3
   },
   "file_extension": ".py",
   "mimetype": "text/x-python",
   "name": "python",
   "nbconvert_exporter": "python",
   "pygments_lexer": "ipython3",
   "version": "3.8.10"
  }
 },
 "nbformat": 4,
 "nbformat_minor": 4
}
