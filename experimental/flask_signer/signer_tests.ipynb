{
 "cells": [
  {
   "cell_type": "code",
   "execution_count": 84,
   "id": "b90da6af",
   "metadata": {},
   "outputs": [],
   "source": [
    "import requests"
   ]
  },
  {
   "cell_type": "code",
   "execution_count": 85,
   "id": "5a943314",
   "metadata": {},
   "outputs": [],
   "source": [
    "def get_request(URL):\n",
    "    r = requests.get(URL)\n",
    "    if r.status_code == 200:\n",
    "        reply = r.text\n",
    "    else:\n",
    "        print('Request Failed...')\n",
    "        reply = None\n",
    "    return reply\n",
    "\n",
    "\n",
    "def post_request(URL, data):\n",
    "    r = requests.post(URL, data = data)\n",
    "    if r.status_code == 200:\n",
    "        reply = r.text\n",
    "    else:\n",
    "        print('Request Failed...')\n",
    "        reply = None\n",
    "    return reply\n",
    "\n"
   ]
  },
  {
   "cell_type": "code",
   "execution_count": 86,
   "id": "4a8ef2ed",
   "metadata": {},
   "outputs": [
    {
     "name": "stdout",
     "output_type": "stream",
     "text": [
      "{\"signature\":\"spsig1QTcnaD6H4G5ToyffFsYdxBp15V4tKiAwZpJXN1EJqy9QLgqYuCi5Vf5iGWwzHWCBbqmvC9JyugWfZ4AowLqWPFjbhPekc\"}\n",
      "\n"
     ]
    }
   ],
   "source": [
    "reply = post_request('http://127.0.0.1:5000/keys/tz2Dy8HhPZZqmxVK5hE8Unc66fiWvqY8wFXN', 'abcdefg')\n",
    "print(reply)"
   ]
  },
  {
   "cell_type": "code",
   "execution_count": 87,
   "id": "679fb6ee",
   "metadata": {},
   "outputs": [
    {
     "name": "stdout",
     "output_type": "stream",
     "text": [
      "{\"signature\":\"p2sigqrufFFjxtCXkTZTsC9sYo4yLY3QYRcfoeTGXGuciMrooyuDATqgGkMNo5riLEJXaQ9FMEu5B8SA8Cx1BQDXDd8GkkkNBM\"}\n",
      "\n"
     ]
    }
   ],
   "source": [
    "reply = post_request('http://127.0.0.1:5000/keys/tz3MyarJihHrejsze59J2Seita7jYWDCJDPe', 'abcdefg')\n",
    "print(reply)"
   ]
  },
  {
   "cell_type": "code",
   "execution_count": 88,
   "id": "554e1aff",
   "metadata": {},
   "outputs": [
    {
     "name": "stdout",
     "output_type": "stream",
     "text": [
      "{\"signature\":\"edsigtrW1HhQuA1QpAeXTu39N7x8q4JY8JdyJ8dBCwjrvku6xEyc29GPGz3gJ5WTwauzSHHcuNNVXwFm2spuuVp6C17HFDoYwpJ\"}\n",
      "\n"
     ]
    }
   ],
   "source": [
    "reply = post_request('http://127.0.0.1:5000/keys/tz1cmovtLzCMnpHEBNcQtSvB7vUpcHpc7Pbt', 'abcdefghijklmnopqrstuvwxyzabce')\n",
    "print(reply)"
   ]
  },
  {
   "cell_type": "code",
   "execution_count": 89,
   "id": "2fd91ee6",
   "metadata": {},
   "outputs": [
    {
     "name": "stdout",
     "output_type": "stream",
     "text": [
      "{\"public_key\":\"sppk7ck4y4RnCoX32fAZwoKQxrgjGKR9Efb5VzaqUfkHacbAPr1ifG4\"}\n",
      "\n"
     ]
    }
   ],
   "source": [
    "reply = get_request('http://127.0.0.1:5000/keys/tz2Dy8HhPZZqmxVK5hE8Unc66fiWvqY8wFXN')\n",
    "print(reply)"
   ]
  },
  {
   "cell_type": "code",
   "execution_count": 90,
   "id": "07cb173b",
   "metadata": {},
   "outputs": [
    {
     "name": "stdout",
     "output_type": "stream",
     "text": [
      "{\"public_key\":\"p2pk66e7HovJkSsM2LdS5pn8DfxG53qRWifpn92PbbcLkD1YwYbaJ7a\"}\n",
      "\n"
     ]
    }
   ],
   "source": [
    "reply = get_request('http://127.0.0.1:5000/keys/tz3MyarJihHrejsze59J2Seita7jYWDCJDPe')\n",
    "print(reply)"
   ]
  },
  {
   "cell_type": "code",
   "execution_count": 91,
   "id": "f35b194a",
   "metadata": {},
   "outputs": [
    {
     "name": "stdout",
     "output_type": "stream",
     "text": [
      "{\"public_key\":\"edpkuBsdoxrpMAwPNZSqpgEaFdNz55uqNBrU43pjsBLTE1aM6XecgG\"}\n",
      "\n"
     ]
    }
   ],
   "source": [
    "reply = get_request('http://127.0.0.1:5000/keys/tz1cmovtLzCMnpHEBNcQtSvB7vUpcHpc7Pbt')\n",
    "print(reply)"
   ]
  },
  {
   "cell_type": "code",
   "execution_count": 92,
   "id": "b7169887",
   "metadata": {},
   "outputs": [
    {
     "name": "stdout",
     "output_type": "stream",
     "text": [
      "{\"authorized_keys\":[\"tz1cmovtLzCMnpHEBNcQtSvB7vUpcHpc7Pbt\"]}\n",
      "\n"
     ]
    }
   ],
   "source": [
    "reply = get_request('http://127.0.0.1:5000/authorized_keys')\n",
    "print(reply)"
   ]
  },
  {
   "cell_type": "code",
   "execution_count": null,
   "id": "5f759be9",
   "metadata": {},
   "outputs": [],
   "source": []
  }
 ],
 "metadata": {
  "kernelspec": {
   "display_name": "Python 3 (ipykernel)",
   "language": "python",
   "name": "python3"
  },
  "language_info": {
   "codemirror_mode": {
    "name": "ipython",
    "version": 3
   },
   "file_extension": ".py",
   "mimetype": "text/x-python",
   "name": "python",
   "nbconvert_exporter": "python",
   "pygments_lexer": "ipython3",
   "version": "3.10.12"
  }
 },
 "nbformat": 4,
 "nbformat_minor": 5
}
