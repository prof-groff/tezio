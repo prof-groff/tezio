{
 "cells": [
  {
   "cell_type": "markdown",
   "metadata": {},
   "source": [
    "## CRC16\n",
    "\n",
    "Cyclic Redundancy Check Algorithms"
   ]
  },
  {
   "cell_type": "code",
   "execution_count": 1,
   "metadata": {},
   "outputs": [],
   "source": [
    "def crc16(data: bytes, poly: int = 0x8005, reg: int = 0x0000):\n",
    "    # No reflections on input or output.\n",
    "    # \n",
    "    # data: bytes - data to apply crc algorithm to\n",
    "    # param: poly - generator polinomial, default 0b1000000000000101\n",
    "    # actual generator is 0x18005, 0b11000000000000101 but msb gets checked before shift\n",
    "    \n",
    "    data = bytearray(data)\n",
    "    \n",
    "    # pad with zeros to width of poly, 16-bits\n",
    "    data += bytearray(b'\\x00\\x00')\n",
    "\n",
    "    for octet in data:\n",
    "        for ii in range(8):\n",
    "            msb = reg & 0x8000 # isolate most significant bit\n",
    "            reg <<= 1 # shift the register\n",
    "            reg ^= (octet >> 7-ii) & 0x01\n",
    "            reg &= 0xFFFF # keep 16 bits, discard the rest\n",
    "            if msb:\n",
    "                reg ^= poly\n",
    "            \n",
    "            reg &= 0xFFFF # keep 16 bits, discard the rest\n",
    "        \n",
    "    return reg\n",
    "\n",
    "# alternative implementation, which I don't fully understand\n",
    "# no padding of data and strange extra xor to msb if a bit in octet is a one\n",
    "def crc16_alt(data: bytes, poly: int = 0x8005, reg: int = 0x0000) -> int:\n",
    "    # does not perform any reflections on input or output\n",
    "    # param: data - bytes to apply checksum\n",
    "    # param: poly - generator polinomial, default 0b1000000000000101\n",
    "    if data is None:\n",
    "        return 0\n",
    "\n",
    "    for octet in data:\n",
    "        \n",
    "        for i in range(8):\n",
    "            msb = reg & 0x8000\n",
    "            if octet & (0x80 >> i):\n",
    "                msb ^= 0x8000\n",
    "            reg <<= 1\n",
    "            if msb:\n",
    "                reg ^= poly\n",
    "        reg &= 0xFFFF\n",
    "        \n",
    "    return reg "
   ]
  },
  {
   "cell_type": "code",
   "execution_count": 3,
   "metadata": {},
   "outputs": [
    {
     "name": "stdout",
     "output_type": "stream",
     "text": [
      "0x42e5\n",
      "0x42e5\n"
     ]
    }
   ],
   "source": [
    "data = bytearray('Hello World!', 'utf-8')\n",
    "print(hex(crc16(data)))\n",
    "print(hex(crc16_alt(data)))"
   ]
  },
  {
   "cell_type": "code",
   "execution_count": null,
   "metadata": {},
   "outputs": [],
   "source": []
  }
 ],
 "metadata": {
  "kernelspec": {
   "display_name": "Python 3",
   "language": "python",
   "name": "python3"
  },
  "language_info": {
   "codemirror_mode": {
    "name": "ipython",
    "version": 3
   },
   "file_extension": ".py",
   "mimetype": "text/x-python",
   "name": "python",
   "nbconvert_exporter": "python",
   "pygments_lexer": "ipython3",
   "version": "3.8.10"
  }
 },
 "nbformat": 4,
 "nbformat_minor": 4
}
