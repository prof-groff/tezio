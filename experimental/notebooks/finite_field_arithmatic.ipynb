{
 "cells": [
  {
   "cell_type": "markdown",
   "metadata": {},
   "source": [
    "## Finite Field Arithmatic\n",
    "\n",
    "This notebook aims to work out how to do arithmatic (add, subtract, multiply, divide) on the GF(2^8) extended galois field. "
   ]
  },
  {
   "cell_type": "code",
   "execution_count": 3,
   "metadata": {},
   "outputs": [],
   "source": [
    "from ctypes import *\n",
    "import secrets\n",
    "\n",
    "# add (or subtract) two number in the GF(2^8) finite field\n",
    "def gaddsub(a: c_ubyte, b: c_ubyte) -> c_ubyte: # c_ubyte is like c++ uint8_t\n",
    "    return a ^ b\n",
    "\n",
    "# multipy two numbers in the GF(2^8) finite field defined with the primitive polynomical x^8 + x^4 + x^3 + x + 1\n",
    "# uses the Russian Pessant Multiplication algorithm instead of carry-less multiplication followed by modular reduction\n",
    "def gmul(a: c_ubyte, b: c_ubyte) -> c_ubyte:\n",
    "    p: c_ubyte = 0 # the result\n",
    "    while (a and b):\n",
    "        if (b & 1):\n",
    "            p = p ^ a\n",
    "        if (a & 0x80):\n",
    "            a = (a << 1) ^ 0x11b\n",
    "        else:\n",
    "            a = a << 1\n",
    "        b = b >> 1\n",
    "    return p\n",
    "\n",
    "# make lookup table for multiplicitive inverses\n",
    "mul_inv = []\n",
    "for a in range(256):\n",
    "    for b in range (256):\n",
    "        if (gmul(a,b)==1):\n",
    "            mul_inv.append(b)\n",
    "            break\n",
    "\n",
    "def gdiv(a: c_ubyte, b: c_ubyte) -> c_ubyte:\n",
    "    return gmul(a,mul_inv[b-1]) # no entry for zero because division by zero is undefined"
   ]
  },
  {
   "cell_type": "markdown",
   "metadata": {},
   "source": [
    "### Develop Tools for Shamir's Secret Sharing"
   ]
  },
  {
   "cell_type": "code",
   "execution_count": 4,
   "metadata": {},
   "outputs": [
    {
     "data": {
      "text/plain": [
       "73"
      ]
     },
     "execution_count": 4,
     "metadata": {},
     "output_type": "execute_result"
    }
   ],
   "source": [
    "secrets.SystemRandom().randint(0,255)"
   ]
  },
  {
   "cell_type": "code",
   "execution_count": 5,
   "metadata": {},
   "outputs": [],
   "source": [
    "def eval_at(poly, x):\n",
    "    # evaluate polynomial defined by coefficients in poly at x using finite field arithmatic\n",
    "    value = 0\n",
    "    for coeff in reversed(poly):\n",
    "        value = gmul(value, x)\n",
    "        value = gaddsub(value, coeff)\n",
    "    return value\n",
    "\n",
    "def make_random_shares(secret, threshold, shares):\n",
    "    # generates a random shamir pool for a given secret, returns share points.\n",
    "    if threshold > shares:\n",
    "        raise ValueError(\"Fewer shares than threshold, pool secret would be irrecoverable.\")\n",
    "    poly = [secret] + [secrets.SystemRandom().randint(0,255) for i in range(threshold - 1)]\n",
    "    points = [(i, eval_at(poly, i))\n",
    "              for i in range(1, shares + 1)]\n",
    "    return points\n",
    "\n",
    "def lagrange_interpolate(x, xs, ys):\n",
    "    # find the y-value for the given x, given n (x, y) points\n",
    "    # k points will define a polynomial of up to kth order.\n",
    "    k = len(xs)\n",
    "    assert k == len(set(xs)), \"points must be distinct\"\n",
    "    def PI(vals):  # upper-case PI -- product of inputs\n",
    "        accum = 1\n",
    "        for v in vals:\n",
    "            accum = gmul(accum, v)\n",
    "        return accum\n",
    "    nums = []  # avoid inexact division\n",
    "    dens = []\n",
    "    for i in range(k):\n",
    "        others = list(xs)\n",
    "        cur = others.pop(i)\n",
    "        nums.append(PI(others))\n",
    "        dens.append(PI(gaddsub(cur,o) for o in others))\n",
    "    den = PI(dens)\n",
    "    \n",
    "    num = 0\n",
    "    for i in range(k):\n",
    "        num = gaddsub(num, gdiv(gmul(gmul(nums[i], den),ys[i]), dens[i]))\n",
    "   \n",
    "    print(num)\n",
    "    print(den)\n",
    "    return (gdiv(num, den))\n",
    "\n",
    "def recover_secret(shares, threshold):\n",
    "    # recover the secret from share points (x, y points on the polynomial).\n",
    "    if len(shares) < threshold:\n",
    "        raise ValueError(\"Need more shares to recover secret.\")\n",
    "    xs, ys = zip(*shares)\n",
    "    return lagrange_interpolate(0, xs, ys)"
   ]
  },
  {
   "cell_type": "code",
   "execution_count": 6,
   "metadata": {},
   "outputs": [
    {
     "data": {
      "text/plain": [
       "[(1, 112), (2, 234), (3, 66), (4, 102), (5, 97), (6, 190)]"
      ]
     },
     "execution_count": 6,
     "metadata": {},
     "output_type": "execute_result"
    }
   ],
   "source": [
    "shares = make_random_shares(225, 4, 6)\n",
    "shares"
   ]
  },
  {
   "cell_type": "code",
   "execution_count": 7,
   "metadata": {},
   "outputs": [
    {
     "name": "stdout",
     "output_type": "stream",
     "text": [
      "206\n",
      "241\n"
     ]
    },
    {
     "data": {
      "text/plain": [
       "225"
      ]
     },
     "execution_count": 7,
     "metadata": {},
     "output_type": "execute_result"
    }
   ],
   "source": [
    "recover_secret(shares[:7], 4)"
   ]
  },
  {
   "cell_type": "code",
   "execution_count": 50,
   "metadata": {},
   "outputs": [
    {
     "data": {
      "text/plain": [
       "[(1, 66), (2, 6), (3, 83), (4, 230), (5, 71), (6, 240)]"
      ]
     },
     "execution_count": 50,
     "metadata": {},
     "output_type": "execute_result"
    }
   ],
   "source": [
    "shares"
   ]
  },
  {
   "cell_type": "code",
   "execution_count": 23,
   "metadata": {},
   "outputs": [
    {
     "data": {
      "text/plain": [
       "(28, 78, 128)"
      ]
     },
     "execution_count": 23,
     "metadata": {},
     "output_type": "execute_result"
    }
   ],
   "source": [
    "y"
   ]
  },
  {
   "cell_type": "code",
   "execution_count": null,
   "metadata": {},
   "outputs": [],
   "source": []
  }
 ],
 "metadata": {
  "kernelspec": {
   "display_name": "Python 3",
   "language": "python",
   "name": "python3"
  },
  "language_info": {
   "codemirror_mode": {
    "name": "ipython",
    "version": 3
   },
   "file_extension": ".py",
   "mimetype": "text/x-python",
   "name": "python",
   "nbconvert_exporter": "python",
   "pygments_lexer": "ipython3",
   "version": "3.8.10"
  }
 },
 "nbformat": 4,
 "nbformat_minor": 4
}
