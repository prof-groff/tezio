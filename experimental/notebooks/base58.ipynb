{
 "cells": [
  {
   "cell_type": "markdown",
   "metadata": {},
   "source": [
    "## Base58 Encoding\n",
    "\n",
    "The Base58 Encoding Algorithm\n",
    "\n",
    "To encode an array of bytes to a Base58 encoded value, run the following algorithm. All mathematical operations MUST be performed using integer arithmetic. Start by initializing a 'zero_counter' to zero (0x0), an 'encoding_flag' to zero (0x0), a 'b58_bytes' array, a 'b58_encoding' array, and a 'carry' value to zero (0x0). For each byte in the array of bytes and while 'carry' does not equal zero (0x0) after the first iteration:\n",
    "\n",
    "* If 'encoding_flag' is not set, and if the byte is a zero (0x0), increment the value of 'zero_counter'. If the value is not zero (0x0), set 'encoding_flag' to true (0x1).\n",
    "* If 'encoding_flag' is set, multiply the current byte value by 256 and add it to 'carry'.\n",
    "* Set the corresponding byte value in 'b58_bytes' to the value of 'carry' modulus 58.\n",
    "* Set 'carry' to the value of 'carry' divided by 58.\n",
    "* Once the 'b58_bytes' array has been constructed, generate the final 'b58_encoding' using the following algorithm. Set the first 'zero_counter' bytes in 'b58_encoding' to '1'. Then, for every byte in 'b58_array', map the byte value using the Base58 alphabet in the previous section to its corresponding character in 'b58_encoding'. Return 'b58_encoding' as the Base58 representation of the input array of bytes.\n",
    "\n",
    "The Base58 Decoding Algorithm\n",
    "\n",
    "To decode a Base58 encoded array of bytes to a decoded array of bytes, run the following algorithm. All mathematical operations MUST be performed using integer arithmetic. Start by initializing a 'raw_bytes' array, and a 'carry' value to zero (0x0). For each input byte in the array of input bytes:\n",
    "\n",
    "* Set 'carry' to the byte value associated with the input byte character. If a mapping does not exist, return an error code.\n",
    "* While 'carry' does not equal zero and there are input bytes remaining:\n",
    "* Multiply the input byte value by 58 and add it to 'carry'.\n",
    "* Set the output byte value to 'carry' modulus 256.\n",
    "* Set 'carry' to the value of 'carry' divided by 256.\n",
    "* Set the corresponding byte value in 'raw_bytes' to the value of 'carry' modulus 58.\n",
    "* Set 'carry' to the value of 'carry' divided by 58."
   ]
  },
  {
   "cell_type": "code",
   "execution_count": 11,
   "metadata": {},
   "outputs": [],
   "source": [
    "def base58(data, prefix = b''): # expected data to be bytearray or bytes\n",
    "    data = prefix + data\n",
    "    base58map = ['1', '2', '3', '4', '5', '6', '7', '8',\n",
    "                '9', 'A', 'B', 'C', 'D', 'E', 'F', 'G',\n",
    "                'H', 'J', 'K', 'L', 'M', 'N', 'P', 'Q',\n",
    "                'R', 'S', 'T', 'U', 'V', 'W', 'X', 'Y',\n",
    "                'Z', 'a', 'b', 'c', 'd', 'e', 'f', 'g',\n",
    "                'h', 'i', 'j', 'k', 'm', 'n', 'o', 'p',\n",
    "                'q', 'r', 's', 't', 'u', 'v', 'w', 'x',\n",
    "                'y', 'z' ]\n",
    "    \n",
    "    b58_size = int(len(data)*138/100) + 1 # minimum size of b58 encode\n",
    "    digits = [0]*b58_size\n",
    "    digitslen = 1\n",
    "\n",
    "    encode_flag = False\n",
    "    leading_zeros = 0\n",
    "\n",
    "    for i in range(len(data)):\n",
    "        if (not(encode_flag) and data[i] == 0):\n",
    "            leading_zeros = leading_zeros + 1\n",
    "        if (not(encode_flag) and data[i] != 0):\n",
    "            encode_flag = True\n",
    "   \n",
    "        if (encode_flag):\n",
    "            carry = data[i] # carry needs to be uint32_t in C++\n",
    "            for j in range(digitslen):\n",
    "                carry = carry + (digits[j]<<8) # digits[j] must be recast as a uint32_t in C++, same as <<8\n",
    "                digits[j] = carry%58\n",
    "                carry = int(carry/58)\n",
    "            while (carry > 0):\n",
    "                digits[digitslen] = carry%58\n",
    "                digitslen = digitslen+1\n",
    "                carry=int(carry/58)\n",
    "\n",
    "    # trim unused digits from digits\n",
    "    digits = digits[:digitslen]\n",
    "            \n",
    "    for k in range(leading_zeros):\n",
    "        digits.append(0)\n",
    "\n",
    "    digits.reverse()\n",
    "\n",
    "    base58_data = ''\n",
    "    for each in digits:\n",
    "        base58_data += base58map[each]\n",
    "        \n",
    "    return base58_data\n",
    "    "
   ]
  },
  {
   "cell_type": "code",
   "execution_count": 12,
   "metadata": {},
   "outputs": [
    {
     "name": "stdout",
     "output_type": "stream",
     "text": [
      "2NEpo7TZRRrLZSi2U\n"
     ]
    }
   ],
   "source": [
    "base58_data = base58(b'Hello World!')\n",
    "print(base58_data)"
   ]
  },
  {
   "cell_type": "code",
   "execution_count": null,
   "metadata": {},
   "outputs": [],
   "source": []
  }
 ],
 "metadata": {
  "kernelspec": {
   "display_name": "Python 3",
   "language": "python",
   "name": "python3"
  },
  "language_info": {
   "codemirror_mode": {
    "name": "ipython",
    "version": 3
   },
   "file_extension": ".py",
   "mimetype": "text/x-python",
   "name": "python",
   "nbconvert_exporter": "python",
   "pygments_lexer": "ipython3",
   "version": "3.8.10"
  }
 },
 "nbformat": 4,
 "nbformat_minor": 4
}
