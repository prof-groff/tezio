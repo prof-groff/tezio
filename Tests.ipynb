{
 "cells": [
  {
   "cell_type": "code",
   "execution_count": 1,
   "metadata": {},
   "outputs": [],
   "source": [
    "from tezio.SecretShares import SecretShares\n",
    "from tezio.BIP32HDKeys import BIP32HDKeys"
   ]
  },
  {
   "cell_type": "code",
   "execution_count": 2,
   "metadata": {},
   "outputs": [],
   "source": [
    "phrase = 'motor jazz team food when coach reward hidden obtain faculty tornado crew toast inhale purchase conduct cube omit illness carbon ripple thank crew material'\n",
    "vocab_path = 'bip39english.txt'"
   ]
  },
  {
   "cell_type": "code",
   "execution_count": 5,
   "metadata": {},
   "outputs": [
    {
     "name": "stdout",
     "output_type": "stream",
     "text": [
      "{1: 'elbow virus inch jealous inform assault edge clerk clock office ladder sort trick carpet motor reform topic student alarm normal mercy miracle resource another', 2: 'chair identify sea crowd emotion uphold donate maximum tornado border struggle skull tongue symbol road flavor modify anger bundle language success warm depend much', 3: 'verb vibrant home boil scrap soup say silent final spin exact current upper minimum lucky season gain east height silly true pitch sail arch'}\n",
      "THIS WILL DELETE ALL STORED SECRETS. DO YOU WISH TO CONTINUE (Y OR N)? Y\n",
      "THIS WILL DELETE ALL STORED SHARES. DO YOU WISH TO CONTINUE (Y OR N)? Y\n"
     ]
    },
    {
     "data": {
      "text/plain": [
       "'motor jazz team food when coach reward hidden obtain faculty tornado crew toast inhale purchase conduct cube omit illness carbon ripple thank crew material'"
      ]
     },
     "execution_count": 5,
     "metadata": {},
     "output_type": "execute_result"
    }
   ],
   "source": [
    "# test SecretShares\n",
    "myShare = SecretShares(2, 3, vocab_path)\n",
    "shares = myShare.phrase_to_shares(phrase)\n",
    "print(shares)\n",
    "myShare.clear_secrets()\n",
    "myShare.clear_shares()\n",
    "myShare.add_share(1, shares[1])\n",
    "myShare.add_share(2, shares[2])\n",
    "myShare.shares_to_secret()"
   ]
  },
  {
   "cell_type": "code",
   "execution_count": 7,
   "metadata": {},
   "outputs": [
    {
     "name": "stdout",
     "output_type": "stream",
     "text": [
      "tz1MN2TrBeSeTvj7Lu3RxeqRwvTcBBo98iza\n",
      "edskRvZKHaBdkQH8tkJZRVUF6kkSdXpEdBhJGFJh2fj9EgyEsAj2fTFNCUrBb2R33rwFgV9MLaqftUsSMqR5PqCL6omkmBMwBC\n",
      "edpkthCnqGYzzKZa3YFJYDDafa5xnZxdQQsHXh8n7qwFu1JRpRAE94\n"
     ]
    }
   ],
   "source": [
    "# test BIP32HDKeys\n",
    "myWallet = BIP32HDKeys()\n",
    "myWallet.phrase_to_seed(phrase)\n",
    "myWallet.seed_to_master()\n",
    "myWallet.derivation_path_to_keys(\"m/44'/1729'/0'/0'\")\n",
    "myWallet.sk_to_public_point(myWallet.child_sk)\n",
    "print(myWallet.pk_hash(b'\\x06\\xa1\\x9f')) # tz1 prefix\n",
    "print(myWallet.sk_base58(b'+\\xf6N\\x07')) # edsk prefix\n",
    "print(myWallet.pk_base58(b'\\r\\x0f%\\xd9')) # pk base58 encoded"
   ]
  },
  {
   "cell_type": "code",
   "execution_count": null,
   "metadata": {},
   "outputs": [],
   "source": []
  }
 ],
 "metadata": {
  "kernelspec": {
   "display_name": "Python 3",
   "language": "python",
   "name": "python3"
  },
  "language_info": {
   "codemirror_mode": {
    "name": "ipython",
    "version": 3
   },
   "file_extension": ".py",
   "mimetype": "text/x-python",
   "name": "python",
   "nbconvert_exporter": "python",
   "pygments_lexer": "ipython3",
   "version": "3.8.10"
  }
 },
 "nbformat": 4,
 "nbformat_minor": 4
}
